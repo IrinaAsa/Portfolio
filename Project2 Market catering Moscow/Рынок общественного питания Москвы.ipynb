{
 "cells": [
  {
   "cell_type": "markdown",
   "metadata": {},
   "source": [
    "<a id='the_destination10'></a>\n",
    "# Исследование рынка общественного питания Москвы"
   ]
  },
  {
   "cell_type": "markdown",
   "metadata": {},
   "source": [
    "Исследование целесообразности открытия оригинального кафе в Москве. Фишка кафе - посетителей будут обслуживать роботы. Необходимо привлечение инвесторов."
   ]
  },
  {
   "cell_type": "markdown",
   "metadata": {},
   "source": [
    "**Цель исследования** - изучение и анализ текущего рынка общественного питания Москвы."
   ]
  },
  {
   "cell_type": "markdown",
   "metadata": {},
   "source": [
    "Для достижения поставленной цели необходимо решить следующие задачи:\n",
    "1. [Загрузить и изучить открытые данные заведений общественного питания Москвы](#the_destination1) \n",
    "2. Проанализировать данные:\n",
    "  - [Исследовать соотношение видов объектов общественного питания по количеству](#the_destination2) \n",
    "  - [Исследовать соотношение сетевых и несетевых заведений по количеству](#the_destination3) \n",
    "  - [Выяснить для какого вида объекта общественного питания характерно сетевое распространение](#the_destination4) \n",
    "  - [Выяснить, что характерно для сетевых заведений по количеству посадочных мест](#the_destination5) \n",
    "  - [Расчитать среднее количество посадочных мест для каждого вида объекта общественного питания](#the_destination6) \n",
    "  - [Составить Топ-10 улиц по количеству объектов общественного питания](#the_destination7) \n",
    "  - [Составить список улиц с одним объектом общественного питания](#the_destination8) \n",
    "3. [Общий вывод и рекомендации](#the_destination9) \n"
   ]
  },
  {
   "cell_type": "markdown",
   "metadata": {},
   "source": [
    "<a id='the_destination1'></a>\n",
    "### Загрузим и изучим открытые данные заведений общественного питания Москвы"
   ]
  },
  {
   "cell_type": "code",
   "execution_count": 100,
   "metadata": {},
   "outputs": [],
   "source": [
    "#загрузим библиотеки\n",
    "import pandas as pd\n",
    "import matplotlib.pyplot as plt\n",
    "import seaborn as sns\n",
    "plt.style.context('saeborn_talk');"
   ]
  },
  {
   "cell_type": "markdown",
   "metadata": {},
   "source": [
    "Для исследования предоставлены следующие данные: /datasets/rest_data.csv."
   ]
  },
  {
   "cell_type": "code",
   "execution_count": 101,
   "metadata": {},
   "outputs": [
    {
     "data": {
      "text/html": [
       "<div>\n",
       "<style scoped>\n",
       "    .dataframe tbody tr th:only-of-type {\n",
       "        vertical-align: middle;\n",
       "    }\n",
       "\n",
       "    .dataframe tbody tr th {\n",
       "        vertical-align: top;\n",
       "    }\n",
       "\n",
       "    .dataframe thead th {\n",
       "        text-align: right;\n",
       "    }\n",
       "</style>\n",
       "<table border=\"1\" class=\"dataframe\">\n",
       "  <thead>\n",
       "    <tr style=\"text-align: right;\">\n",
       "      <th></th>\n",
       "      <th>id</th>\n",
       "      <th>object_name</th>\n",
       "      <th>chain</th>\n",
       "      <th>object_type</th>\n",
       "      <th>address</th>\n",
       "      <th>number</th>\n",
       "    </tr>\n",
       "  </thead>\n",
       "  <tbody>\n",
       "    <tr>\n",
       "      <th>0</th>\n",
       "      <td>151635</td>\n",
       "      <td>СМЕТАНА</td>\n",
       "      <td>нет</td>\n",
       "      <td>кафе</td>\n",
       "      <td>город Москва, улица Егора Абакумова, дом 9</td>\n",
       "      <td>48</td>\n",
       "    </tr>\n",
       "    <tr>\n",
       "      <th>1</th>\n",
       "      <td>77874</td>\n",
       "      <td>Родник</td>\n",
       "      <td>нет</td>\n",
       "      <td>кафе</td>\n",
       "      <td>город Москва, улица Талалихина, дом 2/1, корпус 1</td>\n",
       "      <td>35</td>\n",
       "    </tr>\n",
       "    <tr>\n",
       "      <th>2</th>\n",
       "      <td>24309</td>\n",
       "      <td>Кафе «Академия»</td>\n",
       "      <td>нет</td>\n",
       "      <td>кафе</td>\n",
       "      <td>город Москва, Абельмановская улица, дом 6</td>\n",
       "      <td>95</td>\n",
       "    </tr>\n",
       "    <tr>\n",
       "      <th>3</th>\n",
       "      <td>21894</td>\n",
       "      <td>ПИЦЦЕТОРИЯ</td>\n",
       "      <td>да</td>\n",
       "      <td>кафе</td>\n",
       "      <td>город Москва, Абрамцевская улица, дом 1</td>\n",
       "      <td>40</td>\n",
       "    </tr>\n",
       "    <tr>\n",
       "      <th>4</th>\n",
       "      <td>119365</td>\n",
       "      <td>Кафе «Вишневая метель»</td>\n",
       "      <td>нет</td>\n",
       "      <td>кафе</td>\n",
       "      <td>город Москва, Абрамцевская улица, дом 9, корпус 1</td>\n",
       "      <td>50</td>\n",
       "    </tr>\n",
       "  </tbody>\n",
       "</table>\n",
       "</div>"
      ],
      "text/plain": [
       "       id             object_name chain object_type  \\\n",
       "0  151635                 СМЕТАНА   нет        кафе   \n",
       "1   77874                  Родник   нет        кафе   \n",
       "2   24309         Кафе «Академия»   нет        кафе   \n",
       "3   21894              ПИЦЦЕТОРИЯ    да        кафе   \n",
       "4  119365  Кафе «Вишневая метель»   нет        кафе   \n",
       "\n",
       "                                             address  number  \n",
       "0         город Москва, улица Егора Абакумова, дом 9      48  \n",
       "1  город Москва, улица Талалихина, дом 2/1, корпус 1      35  \n",
       "2          город Москва, Абельмановская улица, дом 6      95  \n",
       "3            город Москва, Абрамцевская улица, дом 1      40  \n",
       "4  город Москва, Абрамцевская улица, дом 9, корпус 1      50  "
      ]
     },
     "execution_count": 101,
     "metadata": {},
     "output_type": "execute_result"
    }
   ],
   "source": [
    "rest_data = pd.read_csv('/datasets/rest_data.csv')\n",
    "rest_data.head()"
   ]
  },
  {
   "cell_type": "markdown",
   "metadata": {},
   "source": [
    "Данные содержат таблицу rest_data, состоящую из нескольких колонок:  \n",
    "id — идентификатор объекта;  \n",
    "object_name — название объекта общественного питания;  \n",
    "chain — сетевой ресторан;  \n",
    "object_type — тип объекта общественного питания;  \n",
    "address — адрес;  \n",
    "number — количество посадочных мест.  \n",
    "\n",
    "Тип заголовков одинаковый, приемлемый."
   ]
  },
  {
   "cell_type": "code",
   "execution_count": 102,
   "metadata": {},
   "outputs": [
    {
     "name": "stdout",
     "output_type": "stream",
     "text": [
      "<class 'pandas.core.frame.DataFrame'>\n",
      "RangeIndex: 15366 entries, 0 to 15365\n",
      "Data columns (total 6 columns):\n",
      " #   Column       Non-Null Count  Dtype \n",
      "---  ------       --------------  ----- \n",
      " 0   id           15366 non-null  int64 \n",
      " 1   object_name  15366 non-null  object\n",
      " 2   chain        15366 non-null  object\n",
      " 3   object_type  15366 non-null  object\n",
      " 4   address      15366 non-null  object\n",
      " 5   number       15366 non-null  int64 \n",
      "dtypes: int64(2), object(4)\n",
      "memory usage: 720.4+ KB\n"
     ]
    }
   ],
   "source": [
    "#изучение типа данных по коланкам\n",
    "rest_data.info()"
   ]
  },
  {
   "cell_type": "markdown",
   "metadata": {},
   "source": [
    "Тип данных подходящий."
   ]
  },
  {
   "cell_type": "code",
   "execution_count": 103,
   "metadata": {},
   "outputs": [
    {
     "data": {
      "text/plain": [
       "array(['кафе', 'столовая', 'закусочная',\n",
       "       'предприятие быстрого обслуживания', 'ресторан', 'кафетерий',\n",
       "       'буфет', 'бар', 'магазин (отдел кулинарии)'], dtype=object)"
      ]
     },
     "execution_count": 103,
     "metadata": {},
     "output_type": "execute_result"
    }
   ],
   "source": [
    "#изучим уникальные значения тип объекта общественного питания\n",
    "rest_data['object_type'].unique()"
   ]
  },
  {
   "cell_type": "code",
   "execution_count": 104,
   "metadata": {},
   "outputs": [
    {
     "data": {
      "text/plain": [
       "array(['нет', 'да'], dtype=object)"
      ]
     },
     "execution_count": 104,
     "metadata": {},
     "output_type": "execute_result"
    }
   ],
   "source": [
    "#изучим варианты колонки 'сетевой ресторан'\n",
    "rest_data['chain'].unique()"
   ]
  },
  {
   "cell_type": "code",
   "execution_count": 105,
   "metadata": {},
   "outputs": [
    {
     "data": {
      "text/plain": [
       "id             0\n",
       "object_name    0\n",
       "chain          0\n",
       "object_type    0\n",
       "address        0\n",
       "number         0\n",
       "dtype: int64"
      ]
     },
     "execution_count": 105,
     "metadata": {},
     "output_type": "execute_result"
    }
   ],
   "source": [
    "#проверим наличие пропущенных значений\n",
    "rest_data.isna().sum()"
   ]
  },
  {
   "cell_type": "code",
   "execution_count": 106,
   "metadata": {},
   "outputs": [],
   "source": [
    "#приведем колонку object_name к единому регистру\n",
    "rest_data['object_name'] = rest_data['object_name'].str.lower() "
   ]
  },
  {
   "cell_type": "code",
   "execution_count": 107,
   "metadata": {},
   "outputs": [],
   "source": [
    "duplicates = rest_data[rest_data.drop('id', axis=1).duplicated()]\n",
    "duplicates = duplicates['id']"
   ]
  },
  {
   "cell_type": "markdown",
   "metadata": {},
   "source": [
    "Пропущенные значения отсутствуют. Найдено 85 полных совпадений. Удалим."
   ]
  },
  {
   "cell_type": "code",
   "execution_count": 108,
   "metadata": {},
   "outputs": [
    {
     "name": "stderr",
     "output_type": "stream",
     "text": [
      "C:\\Users\\Asano\\AppData\\Local\\Temp\\ipykernel_3924\\663823951.py:1: PerformanceWarning: Alignment difference on axis 0 is larger than an order of magnitude on term '__pd_eval_local_duplicates', by more than 4.184; performance may suffer.\n",
      "  rest_data = rest_data.query('id != @duplicates')\n"
     ]
    },
    {
     "data": {
      "text/html": [
       "<div>\n",
       "<style scoped>\n",
       "    .dataframe tbody tr th:only-of-type {\n",
       "        vertical-align: middle;\n",
       "    }\n",
       "\n",
       "    .dataframe tbody tr th {\n",
       "        vertical-align: top;\n",
       "    }\n",
       "\n",
       "    .dataframe thead th {\n",
       "        text-align: right;\n",
       "    }\n",
       "</style>\n",
       "<table border=\"1\" class=\"dataframe\">\n",
       "  <thead>\n",
       "    <tr style=\"text-align: right;\">\n",
       "      <th></th>\n",
       "      <th>id</th>\n",
       "      <th>object_name</th>\n",
       "      <th>chain</th>\n",
       "      <th>object_type</th>\n",
       "      <th>address</th>\n",
       "      <th>number</th>\n",
       "    </tr>\n",
       "  </thead>\n",
       "  <tbody>\n",
       "    <tr>\n",
       "      <th>0</th>\n",
       "      <td>151635</td>\n",
       "      <td>сметана</td>\n",
       "      <td>нет</td>\n",
       "      <td>кафе</td>\n",
       "      <td>город Москва, улица Егора Абакумова, дом 9</td>\n",
       "      <td>48</td>\n",
       "    </tr>\n",
       "    <tr>\n",
       "      <th>1</th>\n",
       "      <td>77874</td>\n",
       "      <td>родник</td>\n",
       "      <td>нет</td>\n",
       "      <td>кафе</td>\n",
       "      <td>город Москва, улица Талалихина, дом 2/1, корпус 1</td>\n",
       "      <td>35</td>\n",
       "    </tr>\n",
       "    <tr>\n",
       "      <th>2</th>\n",
       "      <td>24309</td>\n",
       "      <td>кафе «академия»</td>\n",
       "      <td>нет</td>\n",
       "      <td>кафе</td>\n",
       "      <td>город Москва, Абельмановская улица, дом 6</td>\n",
       "      <td>95</td>\n",
       "    </tr>\n",
       "    <tr>\n",
       "      <th>3</th>\n",
       "      <td>21894</td>\n",
       "      <td>пиццетория</td>\n",
       "      <td>да</td>\n",
       "      <td>кафе</td>\n",
       "      <td>город Москва, Абрамцевская улица, дом 1</td>\n",
       "      <td>40</td>\n",
       "    </tr>\n",
       "    <tr>\n",
       "      <th>4</th>\n",
       "      <td>119365</td>\n",
       "      <td>кафе «вишневая метель»</td>\n",
       "      <td>нет</td>\n",
       "      <td>кафе</td>\n",
       "      <td>город Москва, Абрамцевская улица, дом 9, корпус 1</td>\n",
       "      <td>50</td>\n",
       "    </tr>\n",
       "    <tr>\n",
       "      <th>...</th>\n",
       "      <td>...</td>\n",
       "      <td>...</td>\n",
       "      <td>...</td>\n",
       "      <td>...</td>\n",
       "      <td>...</td>\n",
       "      <td>...</td>\n",
       "    </tr>\n",
       "    <tr>\n",
       "      <th>15361</th>\n",
       "      <td>208537</td>\n",
       "      <td>шоколадница</td>\n",
       "      <td>да</td>\n",
       "      <td>кафе</td>\n",
       "      <td>город Москва, 3-й Крутицкий переулок, дом 18</td>\n",
       "      <td>50</td>\n",
       "    </tr>\n",
       "    <tr>\n",
       "      <th>15362</th>\n",
       "      <td>209264</td>\n",
       "      <td>шоколадница</td>\n",
       "      <td>да</td>\n",
       "      <td>кафе</td>\n",
       "      <td>город Москва, улица Земляной Вал, дом 33</td>\n",
       "      <td>10</td>\n",
       "    </tr>\n",
       "    <tr>\n",
       "      <th>15363</th>\n",
       "      <td>209186</td>\n",
       "      <td>шоколадница</td>\n",
       "      <td>да</td>\n",
       "      <td>кафе</td>\n",
       "      <td>город Москва, улица Земляной Вал, дом 33</td>\n",
       "      <td>20</td>\n",
       "    </tr>\n",
       "    <tr>\n",
       "      <th>15364</th>\n",
       "      <td>221900</td>\n",
       "      <td>шоколадница</td>\n",
       "      <td>да</td>\n",
       "      <td>кафе</td>\n",
       "      <td>город Москва, поселение Московский, Киевское ш...</td>\n",
       "      <td>36</td>\n",
       "    </tr>\n",
       "    <tr>\n",
       "      <th>15365</th>\n",
       "      <td>222535</td>\n",
       "      <td>шоколадница</td>\n",
       "      <td>да</td>\n",
       "      <td>кафе</td>\n",
       "      <td>город Москва, Ходынский бульвар, дом 4</td>\n",
       "      <td>10</td>\n",
       "    </tr>\n",
       "  </tbody>\n",
       "</table>\n",
       "<p>15281 rows × 6 columns</p>\n",
       "</div>"
      ],
      "text/plain": [
       "           id             object_name chain object_type  \\\n",
       "0      151635                 сметана   нет        кафе   \n",
       "1       77874                  родник   нет        кафе   \n",
       "2       24309         кафе «академия»   нет        кафе   \n",
       "3       21894              пиццетория    да        кафе   \n",
       "4      119365  кафе «вишневая метель»   нет        кафе   \n",
       "...       ...                     ...   ...         ...   \n",
       "15361  208537             шоколадница    да        кафе   \n",
       "15362  209264             шоколадница    да        кафе   \n",
       "15363  209186             шоколадница    да        кафе   \n",
       "15364  221900             шоколадница    да        кафе   \n",
       "15365  222535             шоколадница    да        кафе   \n",
       "\n",
       "                                                 address  number  \n",
       "0             город Москва, улица Егора Абакумова, дом 9      48  \n",
       "1      город Москва, улица Талалихина, дом 2/1, корпус 1      35  \n",
       "2              город Москва, Абельмановская улица, дом 6      95  \n",
       "3                город Москва, Абрамцевская улица, дом 1      40  \n",
       "4      город Москва, Абрамцевская улица, дом 9, корпус 1      50  \n",
       "...                                                  ...     ...  \n",
       "15361       город Москва, 3-й Крутицкий переулок, дом 18      50  \n",
       "15362           город Москва, улица Земляной Вал, дом 33      10  \n",
       "15363           город Москва, улица Земляной Вал, дом 33      20  \n",
       "15364  город Москва, поселение Московский, Киевское ш...      36  \n",
       "15365             город Москва, Ходынский бульвар, дом 4      10  \n",
       "\n",
       "[15281 rows x 6 columns]"
      ]
     },
     "execution_count": 108,
     "metadata": {},
     "output_type": "execute_result"
    }
   ],
   "source": [
    "rest_data = rest_data.query('id != @duplicates')\n",
    "rest_data"
   ]
  },
  {
   "cell_type": "code",
   "execution_count": 109,
   "metadata": {},
   "outputs": [
    {
     "data": {
      "text/plain": [
       "count    15281.000000\n",
       "mean        59.788234\n",
       "std         74.843042\n",
       "min          0.000000\n",
       "25%         14.000000\n",
       "50%         40.000000\n",
       "75%         80.000000\n",
       "max       1700.000000\n",
       "Name: number, dtype: float64"
      ]
     },
     "execution_count": 109,
     "metadata": {},
     "output_type": "execute_result"
    }
   ],
   "source": [
    "rest_data['number'].describe()"
   ]
  },
  {
   "cell_type": "code",
   "execution_count": 110,
   "metadata": {},
   "outputs": [
    {
     "data": {
      "text/html": [
       "<div>\n",
       "<style scoped>\n",
       "    .dataframe tbody tr th:only-of-type {\n",
       "        vertical-align: middle;\n",
       "    }\n",
       "\n",
       "    .dataframe tbody tr th {\n",
       "        vertical-align: top;\n",
       "    }\n",
       "\n",
       "    .dataframe thead th {\n",
       "        text-align: right;\n",
       "    }\n",
       "</style>\n",
       "<table border=\"1\" class=\"dataframe\">\n",
       "  <thead>\n",
       "    <tr style=\"text-align: right;\">\n",
       "      <th></th>\n",
       "      <th>id</th>\n",
       "      <th>object_name</th>\n",
       "      <th>chain</th>\n",
       "      <th>object_type</th>\n",
       "      <th>address</th>\n",
       "      <th>number</th>\n",
       "    </tr>\n",
       "  </thead>\n",
       "  <tbody>\n",
       "    <tr>\n",
       "      <th>12723</th>\n",
       "      <td>199696</td>\n",
       "      <td>arena by soho family</td>\n",
       "      <td>нет</td>\n",
       "      <td>бар</td>\n",
       "      <td>город Москва, Кутузовский проспект, дом 36, ст...</td>\n",
       "      <td>1700</td>\n",
       "    </tr>\n",
       "  </tbody>\n",
       "</table>\n",
       "</div>"
      ],
      "text/plain": [
       "           id           object_name chain object_type  \\\n",
       "12723  199696  arena by soho family   нет         бар   \n",
       "\n",
       "                                                 address  number  \n",
       "12723  город Москва, Кутузовский проспект, дом 36, ст...    1700  "
      ]
     },
     "execution_count": 110,
     "metadata": {},
     "output_type": "execute_result"
    }
   ],
   "source": [
    "rest_data.query('number == 1700')"
   ]
  },
  {
   "cell_type": "code",
   "execution_count": 111,
   "metadata": {},
   "outputs": [
    {
     "data": {
      "text/html": [
       "<div>\n",
       "<style scoped>\n",
       "    .dataframe tbody tr th:only-of-type {\n",
       "        vertical-align: middle;\n",
       "    }\n",
       "\n",
       "    .dataframe tbody tr th {\n",
       "        vertical-align: top;\n",
       "    }\n",
       "\n",
       "    .dataframe thead th {\n",
       "        text-align: right;\n",
       "    }\n",
       "</style>\n",
       "<table border=\"1\" class=\"dataframe\">\n",
       "  <thead>\n",
       "    <tr style=\"text-align: right;\">\n",
       "      <th></th>\n",
       "      <th>number</th>\n",
       "    </tr>\n",
       "    <tr>\n",
       "      <th>object_type</th>\n",
       "      <th></th>\n",
       "    </tr>\n",
       "  </thead>\n",
       "  <tbody>\n",
       "    <tr>\n",
       "      <th>предприятие быстрого обслуживания</th>\n",
       "      <td>690</td>\n",
       "    </tr>\n",
       "    <tr>\n",
       "      <th>кафе</th>\n",
       "      <td>306</td>\n",
       "    </tr>\n",
       "    <tr>\n",
       "      <th>закусочная</th>\n",
       "      <td>181</td>\n",
       "    </tr>\n",
       "    <tr>\n",
       "      <th>магазин (отдел кулинарии)</th>\n",
       "      <td>145</td>\n",
       "    </tr>\n",
       "    <tr>\n",
       "      <th>кафетерий</th>\n",
       "      <td>111</td>\n",
       "    </tr>\n",
       "    <tr>\n",
       "      <th>буфет</th>\n",
       "      <td>64</td>\n",
       "    </tr>\n",
       "    <tr>\n",
       "      <th>ресторан</th>\n",
       "      <td>44</td>\n",
       "    </tr>\n",
       "    <tr>\n",
       "      <th>бар</th>\n",
       "      <td>28</td>\n",
       "    </tr>\n",
       "    <tr>\n",
       "      <th>столовая</th>\n",
       "      <td>19</td>\n",
       "    </tr>\n",
       "  </tbody>\n",
       "</table>\n",
       "</div>"
      ],
      "text/plain": [
       "                                   number\n",
       "object_type                              \n",
       "предприятие быстрого обслуживания     690\n",
       "кафе                                  306\n",
       "закусочная                            181\n",
       "магазин (отдел кулинарии)             145\n",
       "кафетерий                             111\n",
       "буфет                                  64\n",
       "ресторан                               44\n",
       "бар                                    28\n",
       "столовая                               19"
      ]
     },
     "execution_count": 111,
     "metadata": {},
     "output_type": "execute_result"
    }
   ],
   "source": [
    "rest_data.query('number == 0').groupby('object_type').agg({'number':'count'}).sort_values(by='number', ascending=False)"
   ]
  },
  {
   "cell_type": "markdown",
   "metadata": {},
   "source": [
    "При изучении данных колонки number выявили крайние значения: 0 - что характерно для предприятий быстрого обслуживания и странно для кафе. Максимальное значение 1700 - бар arena by soho family - действительно имеет большую вместимость."
   ]
  },
  {
   "cell_type": "markdown",
   "metadata": {},
   "source": [
    "### Анализ данных"
   ]
  },
  {
   "cell_type": "markdown",
   "metadata": {},
   "source": [
    "<a id='the_destination2'></a>\n",
    "#### Исследуем соотношение видов объектов общественного питания по количеству"
   ]
  },
  {
   "cell_type": "code",
   "execution_count": 112,
   "metadata": {},
   "outputs": [
    {
     "data": {
      "text/html": [
       "<div>\n",
       "<style scoped>\n",
       "    .dataframe tbody tr th:only-of-type {\n",
       "        vertical-align: middle;\n",
       "    }\n",
       "\n",
       "    .dataframe tbody tr th {\n",
       "        vertical-align: top;\n",
       "    }\n",
       "\n",
       "    .dataframe thead th {\n",
       "        text-align: right;\n",
       "    }\n",
       "</style>\n",
       "<table border=\"1\" class=\"dataframe\">\n",
       "  <thead>\n",
       "    <tr style=\"text-align: right;\">\n",
       "      <th></th>\n",
       "      <th>id_count</th>\n",
       "    </tr>\n",
       "    <tr>\n",
       "      <th>object_type</th>\n",
       "      <th></th>\n",
       "    </tr>\n",
       "  </thead>\n",
       "  <tbody>\n",
       "    <tr>\n",
       "      <th>кафе</th>\n",
       "      <td>6071</td>\n",
       "    </tr>\n",
       "    <tr>\n",
       "      <th>столовая</th>\n",
       "      <td>2584</td>\n",
       "    </tr>\n",
       "    <tr>\n",
       "      <th>ресторан</th>\n",
       "      <td>2282</td>\n",
       "    </tr>\n",
       "    <tr>\n",
       "      <th>предприятие быстрого обслуживания</th>\n",
       "      <td>1897</td>\n",
       "    </tr>\n",
       "    <tr>\n",
       "      <th>бар</th>\n",
       "      <td>855</td>\n",
       "    </tr>\n",
       "    <tr>\n",
       "      <th>буфет</th>\n",
       "      <td>576</td>\n",
       "    </tr>\n",
       "    <tr>\n",
       "      <th>кафетерий</th>\n",
       "      <td>395</td>\n",
       "    </tr>\n",
       "    <tr>\n",
       "      <th>закусочная</th>\n",
       "      <td>348</td>\n",
       "    </tr>\n",
       "    <tr>\n",
       "      <th>магазин (отдел кулинарии)</th>\n",
       "      <td>273</td>\n",
       "    </tr>\n",
       "  </tbody>\n",
       "</table>\n",
       "</div>"
      ],
      "text/plain": [
       "                                   id_count\n",
       "object_type                                \n",
       "кафе                                   6071\n",
       "столовая                               2584\n",
       "ресторан                               2282\n",
       "предприятие быстрого обслуживания      1897\n",
       "бар                                     855\n",
       "буфет                                   576\n",
       "кафетерий                               395\n",
       "закусочная                              348\n",
       "магазин (отдел кулинарии)               273"
      ]
     },
     "execution_count": 112,
     "metadata": {},
     "output_type": "execute_result"
    }
   ],
   "source": [
    "object_type_count= rest_data.groupby('object_type').agg({'id':'count'})\n",
    "object_type_count.columns=['id_count']\n",
    "object_type_count = object_type_count.sort_values(by='id_count', ascending=False)\n",
    "object_type_count"
   ]
  },
  {
   "cell_type": "code",
   "execution_count": 113,
   "metadata": {},
   "outputs": [
    {
     "data": {
      "text/plain": [
       "15281"
      ]
     },
     "execution_count": 113,
     "metadata": {},
     "output_type": "execute_result"
    }
   ],
   "source": [
    "object_type_count_sum = object_type_count['id_count'].sum()\n",
    "object_type_count_sum\n",
    " "
   ]
  },
  {
   "cell_type": "code",
   "execution_count": 114,
   "metadata": {},
   "outputs": [
    {
     "data": {
      "image/png": "[encoded data removed]",
      "text/plain": [
       "<Figure size 504x504 with 1 Axes>"
      ]
     },
     "metadata": {},
     "output_type": "display_data"
    }
   ],
   "source": [
    "object_type_count.plot(kind='pie', \n",
    "                       label='',\n",
    "                       autopct='%1.1f%%', \n",
    "                       legend=False, y='id_count', \n",
    "                       figsize=(7, 7), \n",
    "                       title='Соотношение видов объектов общественного питания по количеству')\n",
    "plt.show();"
   ]
  },
  {
   "cell_type": "code",
   "execution_count": 115,
   "metadata": {},
   "outputs": [
    {
     "data": {
      "image/png": "[encoded data removed]",
      "text/plain": [
       "<Figure size 1080x432 with 1 Axes>"
      ]
     },
     "metadata": {
      "needs_background": "light"
     },
     "output_type": "display_data"
    }
   ],
   "source": [
    "object_type_count = object_type_count.reset_index()\n",
    "\n",
    "fig = plt.figure(figsize=(15,6))\n",
    "plt.bar(object_type_count['object_type'], object_type_count['id_count'])\n",
    "plt.title('Соотношение видов объектов общественного питания по количеству')\n",
    "plt.xlabel('Вид заведения')\n",
    "plt.ylabel('Количество заведений')\n",
    "old_ticks, old_labels = plt.xticks() \n",
    "\n",
    "fig.canvas.draw()\n",
    "plt.xticks(old_ticks, ['\\n'.join(label.get_text().split()) for label in old_labels])\n",
    "plt.show();"
   ]
  },
  {
   "cell_type": "markdown",
   "metadata": {},
   "source": [
    "Большую долю среди всех заведений общественного питания Москвы занимает - кафе. На втором месте столовая, с небольшим отрывом на третьем - ремтораны. Меньше всего кулинарии и закусочные."
   ]
  },
  {
   "cell_type": "markdown",
   "metadata": {},
   "source": [
    "<a id='the_destination3'></a>\n",
    "#### Исследуем соотношение сетевых и несетевых заведений по количеству"
   ]
  },
  {
   "cell_type": "code",
   "execution_count": 116,
   "metadata": {},
   "outputs": [
    {
     "data": {
      "text/html": [
       "<div>\n",
       "<style scoped>\n",
       "    .dataframe tbody tr th:only-of-type {\n",
       "        vertical-align: middle;\n",
       "    }\n",
       "\n",
       "    .dataframe tbody tr th {\n",
       "        vertical-align: top;\n",
       "    }\n",
       "\n",
       "    .dataframe thead th {\n",
       "        text-align: right;\n",
       "    }\n",
       "</style>\n",
       "<table border=\"1\" class=\"dataframe\">\n",
       "  <thead>\n",
       "    <tr style=\"text-align: right;\">\n",
       "      <th></th>\n",
       "      <th>chain</th>\n",
       "      <th>id_count</th>\n",
       "      <th>mean</th>\n",
       "    </tr>\n",
       "  </thead>\n",
       "  <tbody>\n",
       "    <tr>\n",
       "      <th>0</th>\n",
       "      <td>нет</td>\n",
       "      <td>12317</td>\n",
       "      <td>0.806034</td>\n",
       "    </tr>\n",
       "    <tr>\n",
       "      <th>1</th>\n",
       "      <td>да</td>\n",
       "      <td>2964</td>\n",
       "      <td>0.193966</td>\n",
       "    </tr>\n",
       "  </tbody>\n",
       "</table>\n",
       "</div>"
      ],
      "text/plain": [
       "  chain  id_count      mean\n",
       "0   нет     12317  0.806034\n",
       "1    да      2964  0.193966"
      ]
     },
     "execution_count": 116,
     "metadata": {},
     "output_type": "execute_result"
    }
   ],
   "source": [
    "object_chain = rest_data.groupby('chain').agg({'id':'count'})\n",
    "object_chain.columns=['id_count']\n",
    "object_chain = object_chain.sort_values(by='id_count', ascending=False).reset_index()\n",
    "object_chain['mean'] = object_chain['id_count']/object_chain['id_count'].sum()\n",
    "object_chain"
   ]
  },
  {
   "cell_type": "code",
   "execution_count": 117,
   "metadata": {},
   "outputs": [
    {
     "data": {
      "image/png": "[encoded data removed]",
      "text/plain": [
       "<Figure size 432x288 with 1 Axes>"
      ]
     },
     "metadata": {
      "needs_background": "light"
     },
     "output_type": "display_data"
    }
   ],
   "source": [
    "plt.bar(object_chain['chain'], object_chain['id_count'])\n",
    "plt.title('Соотношение сетевых и несетевых заведений по количеству')\n",
    "plt.ylabel('Количество заведений')\n",
    "plt.show();"
   ]
  },
  {
   "cell_type": "code",
   "execution_count": 118,
   "metadata": {},
   "outputs": [
    {
     "data": {
      "image/png": "[encoded data removed]",
      "text/plain": [
       "<Figure size 504x504 with 1 Axes>"
      ]
     },
     "metadata": {},
     "output_type": "display_data"
    }
   ],
   "source": [
    "object_chain.set_index('chain').plot(kind='pie', \n",
    "                       label='',\n",
    "                       autopct='%1.0f%%', \n",
    "                       legend=False, y='id_count', \n",
    "                       figsize=(7, 7), \n",
    "                       title='Соотношение сетевых и несетевых заведений по количеству')\n",
    "plt.show();"
   ]
  },
  {
   "cell_type": "markdown",
   "metadata": {},
   "source": [
    "81% заведений Москвы - несетевые. Доля сетевых, соответственно, всего 19%."
   ]
  },
  {
   "cell_type": "markdown",
   "metadata": {},
   "source": [
    "<a id='the_destination4'></a>\n",
    "#### Выясним для какого вида объекта общественного питания характерно сетевое распространение"
   ]
  },
  {
   "cell_type": "code",
   "execution_count": 119,
   "metadata": {},
   "outputs": [
    {
     "data": {
      "text/html": [
       "<div>\n",
       "<style scoped>\n",
       "    .dataframe tbody tr th:only-of-type {\n",
       "        vertical-align: middle;\n",
       "    }\n",
       "\n",
       "    .dataframe tbody tr th {\n",
       "        vertical-align: top;\n",
       "    }\n",
       "\n",
       "    .dataframe thead th {\n",
       "        text-align: right;\n",
       "    }\n",
       "</style>\n",
       "<table border=\"1\" class=\"dataframe\">\n",
       "  <thead>\n",
       "    <tr style=\"text-align: right;\">\n",
       "      <th></th>\n",
       "      <th>object_type</th>\n",
       "      <th>chain_yes</th>\n",
       "      <th>chain_no</th>\n",
       "      <th>chain_sum</th>\n",
       "      <th>chain_yes_mean</th>\n",
       "    </tr>\n",
       "  </thead>\n",
       "  <tbody>\n",
       "    <tr>\n",
       "      <th>0</th>\n",
       "      <td>предприятие быстрого обслуживания</td>\n",
       "      <td>788</td>\n",
       "      <td>1109</td>\n",
       "      <td>1897</td>\n",
       "      <td>0.415393</td>\n",
       "    </tr>\n",
       "    <tr>\n",
       "      <th>1</th>\n",
       "      <td>магазин (отдел кулинарии)</td>\n",
       "      <td>78</td>\n",
       "      <td>195</td>\n",
       "      <td>273</td>\n",
       "      <td>0.285714</td>\n",
       "    </tr>\n",
       "    <tr>\n",
       "      <th>2</th>\n",
       "      <td>ресторан</td>\n",
       "      <td>543</td>\n",
       "      <td>1739</td>\n",
       "      <td>2282</td>\n",
       "      <td>0.237949</td>\n",
       "    </tr>\n",
       "    <tr>\n",
       "      <th>3</th>\n",
       "      <td>кафе</td>\n",
       "      <td>1396</td>\n",
       "      <td>4675</td>\n",
       "      <td>6071</td>\n",
       "      <td>0.229946</td>\n",
       "    </tr>\n",
       "    <tr>\n",
       "      <th>4</th>\n",
       "      <td>закусочная</td>\n",
       "      <td>56</td>\n",
       "      <td>292</td>\n",
       "      <td>348</td>\n",
       "      <td>0.160920</td>\n",
       "    </tr>\n",
       "    <tr>\n",
       "      <th>5</th>\n",
       "      <td>кафетерий</td>\n",
       "      <td>52</td>\n",
       "      <td>343</td>\n",
       "      <td>395</td>\n",
       "      <td>0.131646</td>\n",
       "    </tr>\n",
       "    <tr>\n",
       "      <th>6</th>\n",
       "      <td>бар</td>\n",
       "      <td>37</td>\n",
       "      <td>818</td>\n",
       "      <td>855</td>\n",
       "      <td>0.043275</td>\n",
       "    </tr>\n",
       "    <tr>\n",
       "      <th>7</th>\n",
       "      <td>буфет</td>\n",
       "      <td>11</td>\n",
       "      <td>565</td>\n",
       "      <td>576</td>\n",
       "      <td>0.019097</td>\n",
       "    </tr>\n",
       "    <tr>\n",
       "      <th>8</th>\n",
       "      <td>столовая</td>\n",
       "      <td>3</td>\n",
       "      <td>2581</td>\n",
       "      <td>2584</td>\n",
       "      <td>0.001161</td>\n",
       "    </tr>\n",
       "  </tbody>\n",
       "</table>\n",
       "</div>"
      ],
      "text/plain": [
       "                         object_type  chain_yes  chain_no  chain_sum  \\\n",
       "0  предприятие быстрого обслуживания        788      1109       1897   \n",
       "1          магазин (отдел кулинарии)         78       195        273   \n",
       "2                           ресторан        543      1739       2282   \n",
       "3                               кафе       1396      4675       6071   \n",
       "4                         закусочная         56       292        348   \n",
       "5                          кафетерий         52       343        395   \n",
       "6                                бар         37       818        855   \n",
       "7                              буфет         11       565        576   \n",
       "8                           столовая          3      2581       2584   \n",
       "\n",
       "   chain_yes_mean  \n",
       "0        0.415393  \n",
       "1        0.285714  \n",
       "2        0.237949  \n",
       "3        0.229946  \n",
       "4        0.160920  \n",
       "5        0.131646  \n",
       "6        0.043275  \n",
       "7        0.019097  \n",
       "8        0.001161  "
      ]
     },
     "execution_count": 119,
     "metadata": {},
     "output_type": "execute_result"
    }
   ],
   "source": [
    "object_type_chain = rest_data.pivot_table(index='object_type', columns='chain', values='id', aggfunc='count')\n",
    "object_type_chain.columns=['chain_yes', 'chain_no']\n",
    "object_type_chain['chain_sum'] = object_type_chain['chain_yes']+ object_type_chain['chain_no']\n",
    "object_type_chain['chain_yes_mean'] = object_type_chain['chain_yes']/object_type_chain['chain_sum']\n",
    "object_type_chain = object_type_chain.sort_values(by='chain_yes_mean', ascending=False).reset_index()\n",
    "object_type_chain"
   ]
  },
  {
   "cell_type": "code",
   "execution_count": 120,
   "metadata": {},
   "outputs": [
    {
     "data": {
      "image/png": "[encoded data removed]",
      "text/plain": [
       "<Figure size 1080x432 with 1 Axes>"
      ]
     },
     "metadata": {
      "needs_background": "light"
     },
     "output_type": "display_data"
    }
   ],
   "source": [
    "object_type_chain = object_type_chain.reset_index()\n",
    "\n",
    "fig = plt.figure(figsize=(15,6))\n",
    "plt.bar(object_type_chain['object_type'], object_type_chain['chain_yes_mean'])\n",
    "plt.title('Соотношение видов объектов сетевого распространения')\n",
    "plt.xlabel('Вид заведения')\n",
    "plt.ylabel('Количество заведений')\n",
    "old_ticks, old_labels = plt.xticks() \n",
    "\n",
    "fig.canvas.draw()\n",
    "plt.xticks(old_ticks, ['\\n'.join(label.get_text().split()) for label in old_labels])\n",
    "plt.show();"
   ]
  },
  {
   "cell_type": "markdown",
   "metadata": {},
   "source": [
    "Сетевой распространение с наибольшей долей характерно для бистро (42%), кулинарии (29%), ресторанов (24%), кафе (23%)."
   ]
  },
  {
   "cell_type": "markdown",
   "metadata": {},
   "source": [
    "<a id='the_destination5'></a>\n",
    "#### Выясним, что характерно для сетевых заведений по количеству посадочных мест"
   ]
  },
  {
   "cell_type": "code",
   "execution_count": 121,
   "metadata": {},
   "outputs": [
    {
     "data": {
      "text/html": [
       "<div>\n",
       "<style scoped>\n",
       "    .dataframe tbody tr th:only-of-type {\n",
       "        vertical-align: middle;\n",
       "    }\n",
       "\n",
       "    .dataframe tbody tr th {\n",
       "        vertical-align: top;\n",
       "    }\n",
       "\n",
       "    .dataframe thead th {\n",
       "        text-align: right;\n",
       "    }\n",
       "</style>\n",
       "<table border=\"1\" class=\"dataframe\">\n",
       "  <thead>\n",
       "    <tr style=\"text-align: right;\">\n",
       "      <th></th>\n",
       "      <th>count_numb</th>\n",
       "      <th>mean_numb</th>\n",
       "    </tr>\n",
       "    <tr>\n",
       "      <th>object_name</th>\n",
       "      <th></th>\n",
       "      <th></th>\n",
       "    </tr>\n",
       "  </thead>\n",
       "  <tbody>\n",
       "    <tr>\n",
       "      <th>шоколадница</th>\n",
       "      <td>157</td>\n",
       "      <td>57.184713</td>\n",
       "    </tr>\n",
       "    <tr>\n",
       "      <th>kfc</th>\n",
       "      <td>155</td>\n",
       "      <td>55.341935</td>\n",
       "    </tr>\n",
       "    <tr>\n",
       "      <th>макдоналдс</th>\n",
       "      <td>150</td>\n",
       "      <td>87.700000</td>\n",
       "    </tr>\n",
       "    <tr>\n",
       "      <th>бургер кинг</th>\n",
       "      <td>137</td>\n",
       "      <td>46.649635</td>\n",
       "    </tr>\n",
       "    <tr>\n",
       "      <th>теремок</th>\n",
       "      <td>94</td>\n",
       "      <td>25.606383</td>\n",
       "    </tr>\n",
       "    <tr>\n",
       "      <th>...</th>\n",
       "      <td>...</td>\n",
       "      <td>...</td>\n",
       "    </tr>\n",
       "    <tr>\n",
       "      <th>кафе «costa coffee»</th>\n",
       "      <td>2</td>\n",
       "      <td>20.500000</td>\n",
       "    </tr>\n",
       "    <tr>\n",
       "      <th>изба</th>\n",
       "      <td>2</td>\n",
       "      <td>17.500000</td>\n",
       "    </tr>\n",
       "    <tr>\n",
       "      <th>зодиак</th>\n",
       "      <td>2</td>\n",
       "      <td>72.000000</td>\n",
       "    </tr>\n",
       "    <tr>\n",
       "      <th>закусочная «бургер кинг»</th>\n",
       "      <td>2</td>\n",
       "      <td>20.000000</td>\n",
       "    </tr>\n",
       "    <tr>\n",
       "      <th>илья муромец</th>\n",
       "      <td>2</td>\n",
       "      <td>94.000000</td>\n",
       "    </tr>\n",
       "  </tbody>\n",
       "</table>\n",
       "<p>246 rows × 2 columns</p>\n",
       "</div>"
      ],
      "text/plain": [
       "                          count_numb  mean_numb\n",
       "object_name                                    \n",
       "шоколадница                      157  57.184713\n",
       "kfc                              155  55.341935\n",
       "макдоналдс                       150  87.700000\n",
       "бургер кинг                      137  46.649635\n",
       "теремок                           94  25.606383\n",
       "...                              ...        ...\n",
       "кафе «costa coffee»                2  20.500000\n",
       "изба                               2  17.500000\n",
       "зодиак                             2  72.000000\n",
       "закусочная «бургер кинг»           2  20.000000\n",
       "илья муромец                       2  94.000000\n",
       "\n",
       "[246 rows x 2 columns]"
      ]
     },
     "execution_count": 121,
     "metadata": {},
     "output_type": "execute_result"
    }
   ],
   "source": [
    "rest_data_yes = rest_data.query('chain == \"да\"')\n",
    "object_type_number = rest_data_yes.pivot_table(index='object_name', columns='chain', values='number', aggfunc=['count', 'mean'])\n",
    "object_type_number.columns=['count_numb', 'mean_numb']    \n",
    "object_type_number= object_type_number.sort_values(by='count_numb', ascending=False).query('count_numb != 1')\n",
    "object_type_number"
   ]
  },
  {
   "cell_type": "code",
   "execution_count": 122,
   "metadata": {},
   "outputs": [
    {
     "data": {
      "text/plain": [
       "count    246.000000\n",
       "mean      10.703252\n",
       "std       22.638719\n",
       "min        2.000000\n",
       "25%        2.000000\n",
       "50%        4.000000\n",
       "75%        7.000000\n",
       "max      157.000000\n",
       "Name: count_numb, dtype: float64"
      ]
     },
     "execution_count": 122,
     "metadata": {},
     "output_type": "execute_result"
    }
   ],
   "source": [
    "object_type_number['count_numb'].describe()"
   ]
  },
  {
   "cell_type": "markdown",
   "metadata": {},
   "source": [
    "Малое количество заведений в сети примем - до 10, большое - более 10."
   ]
  },
  {
   "cell_type": "code",
   "execution_count": 123,
   "metadata": {},
   "outputs": [
    {
     "data": {
      "text/plain": [
       "count    246.000000\n",
       "mean      59.396081\n",
       "std       49.548665\n",
       "min        0.000000\n",
       "25%       21.125000\n",
       "50%       44.000000\n",
       "75%       85.000000\n",
       "max      258.666667\n",
       "Name: mean_numb, dtype: float64"
      ]
     },
     "execution_count": 123,
     "metadata": {},
     "output_type": "execute_result"
    }
   ],
   "source": [
    "object_type_number['mean_numb'].describe()"
   ]
  },
  {
   "cell_type": "markdown",
   "metadata": {},
   "source": [
    "Малое количество посадочных мест примем - 59, большое - более 59."
   ]
  },
  {
   "cell_type": "markdown",
   "metadata": {},
   "source": [
    "Разобьём все сети на 4 категории:  \n",
    "первая - сеть с большим числом посадочных мест и небольшим числом заведений в сети  \n",
    "вторая - сеть с небольшим числом посадочных мест и большим числом заведений в сети\n",
    "третья - сеть с небольшим числом посадочных мест и небольшим числом заведений в сети\n",
    "четвертая - сеть с большим числом посадочных мест и большим числом заведений в сети"
   ]
  },
  {
   "cell_type": "code",
   "execution_count": 124,
   "metadata": {},
   "outputs": [
    {
     "data": {
      "text/html": [
       "<div>\n",
       "<style scoped>\n",
       "    .dataframe tbody tr th:only-of-type {\n",
       "        vertical-align: middle;\n",
       "    }\n",
       "\n",
       "    .dataframe tbody tr th {\n",
       "        vertical-align: top;\n",
       "    }\n",
       "\n",
       "    .dataframe thead th {\n",
       "        text-align: right;\n",
       "    }\n",
       "</style>\n",
       "<table border=\"1\" class=\"dataframe\">\n",
       "  <thead>\n",
       "    <tr style=\"text-align: right;\">\n",
       "      <th></th>\n",
       "      <th>count_numb</th>\n",
       "      <th>mean_numb</th>\n",
       "      <th>category</th>\n",
       "    </tr>\n",
       "    <tr>\n",
       "      <th>object_name</th>\n",
       "      <th></th>\n",
       "      <th></th>\n",
       "      <th></th>\n",
       "    </tr>\n",
       "  </thead>\n",
       "  <tbody>\n",
       "    <tr>\n",
       "      <th>шоколадница</th>\n",
       "      <td>157</td>\n",
       "      <td>57.184713</td>\n",
       "      <td>вторая</td>\n",
       "    </tr>\n",
       "    <tr>\n",
       "      <th>kfc</th>\n",
       "      <td>155</td>\n",
       "      <td>55.341935</td>\n",
       "      <td>вторая</td>\n",
       "    </tr>\n",
       "    <tr>\n",
       "      <th>макдоналдс</th>\n",
       "      <td>150</td>\n",
       "      <td>87.700000</td>\n",
       "      <td>четвертая</td>\n",
       "    </tr>\n",
       "    <tr>\n",
       "      <th>бургер кинг</th>\n",
       "      <td>137</td>\n",
       "      <td>46.649635</td>\n",
       "      <td>вторая</td>\n",
       "    </tr>\n",
       "    <tr>\n",
       "      <th>теремок</th>\n",
       "      <td>94</td>\n",
       "      <td>25.606383</td>\n",
       "      <td>вторая</td>\n",
       "    </tr>\n",
       "    <tr>\n",
       "      <th>...</th>\n",
       "      <td>...</td>\n",
       "      <td>...</td>\n",
       "      <td>...</td>\n",
       "    </tr>\n",
       "    <tr>\n",
       "      <th>кафе «costa coffee»</th>\n",
       "      <td>2</td>\n",
       "      <td>20.500000</td>\n",
       "      <td>третья</td>\n",
       "    </tr>\n",
       "    <tr>\n",
       "      <th>изба</th>\n",
       "      <td>2</td>\n",
       "      <td>17.500000</td>\n",
       "      <td>третья</td>\n",
       "    </tr>\n",
       "    <tr>\n",
       "      <th>зодиак</th>\n",
       "      <td>2</td>\n",
       "      <td>72.000000</td>\n",
       "      <td>первая</td>\n",
       "    </tr>\n",
       "    <tr>\n",
       "      <th>закусочная «бургер кинг»</th>\n",
       "      <td>2</td>\n",
       "      <td>20.000000</td>\n",
       "      <td>третья</td>\n",
       "    </tr>\n",
       "    <tr>\n",
       "      <th>илья муромец</th>\n",
       "      <td>2</td>\n",
       "      <td>94.000000</td>\n",
       "      <td>первая</td>\n",
       "    </tr>\n",
       "  </tbody>\n",
       "</table>\n",
       "<p>246 rows × 3 columns</p>\n",
       "</div>"
      ],
      "text/plain": [
       "                          count_numb  mean_numb   category\n",
       "object_name                                               \n",
       "шоколадница                      157  57.184713     вторая\n",
       "kfc                              155  55.341935     вторая\n",
       "макдоналдс                       150  87.700000  четвертая\n",
       "бургер кинг                      137  46.649635     вторая\n",
       "теремок                           94  25.606383     вторая\n",
       "...                              ...        ...        ...\n",
       "кафе «costa coffee»                2  20.500000     третья\n",
       "изба                               2  17.500000     третья\n",
       "зодиак                             2  72.000000     первая\n",
       "закусочная «бургер кинг»           2  20.000000     третья\n",
       "илья муромец                       2  94.000000     первая\n",
       "\n",
       "[246 rows x 3 columns]"
      ]
     },
     "execution_count": 124,
     "metadata": {},
     "output_type": "execute_result"
    }
   ],
   "source": [
    "def category (row):\n",
    "    count = row['count_numb']\n",
    "    mean_numb = row['mean_numb']\n",
    "    if count <= 10 and mean_numb > 59:\n",
    "        return 'первая'\n",
    "    if count > 10 and mean_numb <= 59:\n",
    "        return 'вторая'\n",
    "    if count <= 10 and mean_numb <= 59:\n",
    "        return 'третья'\n",
    "    if count > 10 and mean_numb > 59:\n",
    "        return 'четвертая'\n",
    "\n",
    "object_type_number['category'] = object_type_number.apply(category, axis=1)\n",
    "object_type_number"
   ]
  },
  {
   "cell_type": "code",
   "execution_count": 125,
   "metadata": {},
   "outputs": [
    {
     "data": {
      "text/html": [
       "<div>\n",
       "<style scoped>\n",
       "    .dataframe tbody tr th:only-of-type {\n",
       "        vertical-align: middle;\n",
       "    }\n",
       "\n",
       "    .dataframe tbody tr th {\n",
       "        vertical-align: top;\n",
       "    }\n",
       "\n",
       "    .dataframe thead th {\n",
       "        text-align: right;\n",
       "    }\n",
       "</style>\n",
       "<table border=\"1\" class=\"dataframe\">\n",
       "  <thead>\n",
       "    <tr style=\"text-align: right;\">\n",
       "      <th></th>\n",
       "      <th>category</th>\n",
       "      <th>count_category</th>\n",
       "    </tr>\n",
       "  </thead>\n",
       "  <tbody>\n",
       "    <tr>\n",
       "      <th>0</th>\n",
       "      <td>третья</td>\n",
       "      <td>117</td>\n",
       "    </tr>\n",
       "    <tr>\n",
       "      <th>1</th>\n",
       "      <td>первая</td>\n",
       "      <td>84</td>\n",
       "    </tr>\n",
       "    <tr>\n",
       "      <th>2</th>\n",
       "      <td>вторая</td>\n",
       "      <td>34</td>\n",
       "    </tr>\n",
       "    <tr>\n",
       "      <th>3</th>\n",
       "      <td>четвертая</td>\n",
       "      <td>11</td>\n",
       "    </tr>\n",
       "  </tbody>\n",
       "</table>\n",
       "</div>"
      ],
      "text/plain": [
       "    category  count_category\n",
       "0     третья             117\n",
       "1     первая              84\n",
       "2     вторая              34\n",
       "3  четвертая              11"
      ]
     },
     "execution_count": 125,
     "metadata": {},
     "output_type": "execute_result"
    }
   ],
   "source": [
    "object_type_number_categ = object_type_number.groupby('category').agg({'category':'count'})\n",
    "object_type_number_categ.columns=['count_category']\n",
    "object_type_number_categ = object_type_number_categ.sort_values(by='count_category', ascending=False).reset_index()\n",
    "object_type_number_categ"
   ]
  },
  {
   "cell_type": "code",
   "execution_count": 126,
   "metadata": {},
   "outputs": [
    {
     "data": {
      "image/png": "[encoded data removed]",
      "text/plain": [
       "<Figure size 432x288 with 1 Axes>"
      ]
     },
     "metadata": {
      "needs_background": "light"
     },
     "output_type": "display_data"
    }
   ],
   "source": [
    "plt.bar(object_type_number_categ['category'], object_type_number_categ['count_category'])\n",
    "plt.title('Количeство объектов сетевого распространения по категориям')\n",
    "plt.ylabel('Количество заведений категории')\n",
    "plt.xlabel('Вид категории')\n",
    "plt.show();"
   ]
  },
  {
   "cell_type": "markdown",
   "metadata": {},
   "source": [
    "Для сетевых заведений в большей степени характерна третья категория: сеть с небольшим числом посадочных мест (до 59) и небольшим числом заведений (до 10). На втором месте первая категория: сеть с большим числом посадочных мест и небольшим числом заведений в сети. Меньше всего сетевых заведений четвертой категории: сеть с большим числом посадочных мест и большим числом заведений в сети. "
   ]
  },
  {
   "cell_type": "markdown",
   "metadata": {},
   "source": [
    "<a id='the_destination6'></a>\n",
    "#### Расчитаем среднее количество посадочных мест для каждого вида объекта общественного питания"
   ]
  },
  {
   "cell_type": "code",
   "execution_count": 127,
   "metadata": {},
   "outputs": [
    {
     "data": {
      "text/html": [
       "<div>\n",
       "<style scoped>\n",
       "    .dataframe tbody tr th:only-of-type {\n",
       "        vertical-align: middle;\n",
       "    }\n",
       "\n",
       "    .dataframe tbody tr th {\n",
       "        vertical-align: top;\n",
       "    }\n",
       "\n",
       "    .dataframe thead th {\n",
       "        text-align: right;\n",
       "    }\n",
       "</style>\n",
       "<table border=\"1\" class=\"dataframe\">\n",
       "  <thead>\n",
       "    <tr style=\"text-align: right;\">\n",
       "      <th></th>\n",
       "      <th>object_type</th>\n",
       "      <th>avg_number</th>\n",
       "    </tr>\n",
       "  </thead>\n",
       "  <tbody>\n",
       "    <tr>\n",
       "      <th>0</th>\n",
       "      <td>столовая</td>\n",
       "      <td>130.337848</td>\n",
       "    </tr>\n",
       "    <tr>\n",
       "      <th>1</th>\n",
       "      <td>ресторан</td>\n",
       "      <td>96.884750</td>\n",
       "    </tr>\n",
       "    <tr>\n",
       "      <th>2</th>\n",
       "      <td>буфет</td>\n",
       "      <td>51.425347</td>\n",
       "    </tr>\n",
       "    <tr>\n",
       "      <th>3</th>\n",
       "      <td>бар</td>\n",
       "      <td>43.533333</td>\n",
       "    </tr>\n",
       "    <tr>\n",
       "      <th>4</th>\n",
       "      <td>кафе</td>\n",
       "      <td>39.785703</td>\n",
       "    </tr>\n",
       "    <tr>\n",
       "      <th>5</th>\n",
       "      <td>предприятие быстрого обслуживания</td>\n",
       "      <td>20.808645</td>\n",
       "    </tr>\n",
       "    <tr>\n",
       "      <th>6</th>\n",
       "      <td>кафетерий</td>\n",
       "      <td>9.184810</td>\n",
       "    </tr>\n",
       "    <tr>\n",
       "      <th>7</th>\n",
       "      <td>закусочная</td>\n",
       "      <td>7.847701</td>\n",
       "    </tr>\n",
       "    <tr>\n",
       "      <th>8</th>\n",
       "      <td>магазин (отдел кулинарии)</td>\n",
       "      <td>5.589744</td>\n",
       "    </tr>\n",
       "  </tbody>\n",
       "</table>\n",
       "</div>"
      ],
      "text/plain": [
       "                         object_type  avg_number\n",
       "0                           столовая  130.337848\n",
       "1                           ресторан   96.884750\n",
       "2                              буфет   51.425347\n",
       "3                                бар   43.533333\n",
       "4                               кафе   39.785703\n",
       "5  предприятие быстрого обслуживания   20.808645\n",
       "6                          кафетерий    9.184810\n",
       "7                         закусочная    7.847701\n",
       "8          магазин (отдел кулинарии)    5.589744"
      ]
     },
     "execution_count": 127,
     "metadata": {},
     "output_type": "execute_result"
    }
   ],
   "source": [
    "object_type_number_avg = rest_data.pivot_table(index='object_type', values='number', aggfunc='mean')\n",
    "object_type_number_avg.columns=['avg_number']\n",
    "object_type_number_avg = object_type_number_avg.sort_values(by='avg_number', ascending=False).reset_index()\n",
    "object_type_number_avg"
   ]
  },
  {
   "cell_type": "code",
   "execution_count": 128,
   "metadata": {},
   "outputs": [
    {
     "data": {
      "image/png": "[encoded data removed]",
      "text/plain": [
       "<Figure size 1080x432 with 1 Axes>"
      ]
     },
     "metadata": {
      "needs_background": "light"
     },
     "output_type": "display_data"
    }
   ],
   "source": [
    "object_type_number_avg = object_type_number_avg.reset_index()\n",
    "\n",
    "fig = plt.figure(figsize=(15,6))\n",
    "plt.bar(object_type_number_avg['object_type'], object_type_number_avg['avg_number'])\n",
    "plt.title('Среднее количество посадочных мест объектов общественного питания')\n",
    "plt.xlabel('Вид заведения')\n",
    "plt.ylabel('Количество мест')\n",
    "old_ticks, old_labels = plt.xticks() \n",
    "\n",
    "fig.canvas.draw()\n",
    "plt.xticks(old_ticks, ['\\n'.join(label.get_text().split()) for label in old_labels])\n",
    "plt.show();"
   ]
  },
  {
   "cell_type": "markdown",
   "metadata": {},
   "source": [
    "Среди всех объектов общественного питания наибольшее число посадочных мест в среднем предоставляет столовая и ресторан (около 100 и более). Лидер по числу объектов - кафе, только на 5 месте (до 40)."
   ]
  },
  {
   "cell_type": "markdown",
   "metadata": {},
   "source": [
    "<a id='the_destination7'></a>\n",
    "#### Составим Топ-10 улиц по количеству объектов общественного питания"
   ]
  },
  {
   "cell_type": "code",
   "execution_count": 129,
   "metadata": {},
   "outputs": [],
   "source": [
    "def street(row):\n",
    "    address = row['address'] \n",
    "    name_street = [] \n",
    "    list_street = ['улица', 'бульвар', 'шоссе', 'переулок', 'проспект', 'проезд', 'площадь', 'набережная',\n",
    "                   'квартал', 'аллея', 'микрорайон', 'Зеленоград', 'поселение', 'линия', 'тупик', 'километр',\n",
    "                   'территория', 'просек']\n",
    "    for n in row['address'].split(sep=', '):\n",
    "        for word in list_street:\n",
    "            if word in n:\n",
    "                name_street.append(n)\n",
    "    return ', '.join(name_street)"
   ]
  },
  {
   "cell_type": "code",
   "execution_count": 130,
   "metadata": {},
   "outputs": [
    {
     "data": {
      "text/html": [
       "<div>\n",
       "<style scoped>\n",
       "    .dataframe tbody tr th:only-of-type {\n",
       "        vertical-align: middle;\n",
       "    }\n",
       "\n",
       "    .dataframe tbody tr th {\n",
       "        vertical-align: top;\n",
       "    }\n",
       "\n",
       "    .dataframe thead th {\n",
       "        text-align: right;\n",
       "    }\n",
       "</style>\n",
       "<table border=\"1\" class=\"dataframe\">\n",
       "  <thead>\n",
       "    <tr style=\"text-align: right;\">\n",
       "      <th></th>\n",
       "      <th>id</th>\n",
       "      <th>object_name</th>\n",
       "      <th>chain</th>\n",
       "      <th>object_type</th>\n",
       "      <th>address</th>\n",
       "      <th>number</th>\n",
       "      <th>street</th>\n",
       "    </tr>\n",
       "  </thead>\n",
       "  <tbody>\n",
       "    <tr>\n",
       "      <th>0</th>\n",
       "      <td>151635</td>\n",
       "      <td>сметана</td>\n",
       "      <td>нет</td>\n",
       "      <td>кафе</td>\n",
       "      <td>город Москва, улица Егора Абакумова, дом 9</td>\n",
       "      <td>48</td>\n",
       "      <td>улица Егора Абакумова</td>\n",
       "    </tr>\n",
       "    <tr>\n",
       "      <th>1</th>\n",
       "      <td>77874</td>\n",
       "      <td>родник</td>\n",
       "      <td>нет</td>\n",
       "      <td>кафе</td>\n",
       "      <td>город Москва, улица Талалихина, дом 2/1, корпус 1</td>\n",
       "      <td>35</td>\n",
       "      <td>улица Талалихина</td>\n",
       "    </tr>\n",
       "    <tr>\n",
       "      <th>2</th>\n",
       "      <td>24309</td>\n",
       "      <td>кафе «академия»</td>\n",
       "      <td>нет</td>\n",
       "      <td>кафе</td>\n",
       "      <td>город Москва, Абельмановская улица, дом 6</td>\n",
       "      <td>95</td>\n",
       "      <td>Абельмановская улица</td>\n",
       "    </tr>\n",
       "    <tr>\n",
       "      <th>3</th>\n",
       "      <td>21894</td>\n",
       "      <td>пиццетория</td>\n",
       "      <td>да</td>\n",
       "      <td>кафе</td>\n",
       "      <td>город Москва, Абрамцевская улица, дом 1</td>\n",
       "      <td>40</td>\n",
       "      <td>Абрамцевская улица</td>\n",
       "    </tr>\n",
       "    <tr>\n",
       "      <th>4</th>\n",
       "      <td>119365</td>\n",
       "      <td>кафе «вишневая метель»</td>\n",
       "      <td>нет</td>\n",
       "      <td>кафе</td>\n",
       "      <td>город Москва, Абрамцевская улица, дом 9, корпус 1</td>\n",
       "      <td>50</td>\n",
       "      <td>Абрамцевская улица</td>\n",
       "    </tr>\n",
       "    <tr>\n",
       "      <th>...</th>\n",
       "      <td>...</td>\n",
       "      <td>...</td>\n",
       "      <td>...</td>\n",
       "      <td>...</td>\n",
       "      <td>...</td>\n",
       "      <td>...</td>\n",
       "      <td>...</td>\n",
       "    </tr>\n",
       "    <tr>\n",
       "      <th>15361</th>\n",
       "      <td>208537</td>\n",
       "      <td>шоколадница</td>\n",
       "      <td>да</td>\n",
       "      <td>кафе</td>\n",
       "      <td>город Москва, 3-й Крутицкий переулок, дом 18</td>\n",
       "      <td>50</td>\n",
       "      <td>3-й Крутицкий переулок</td>\n",
       "    </tr>\n",
       "    <tr>\n",
       "      <th>15362</th>\n",
       "      <td>209264</td>\n",
       "      <td>шоколадница</td>\n",
       "      <td>да</td>\n",
       "      <td>кафе</td>\n",
       "      <td>город Москва, улица Земляной Вал, дом 33</td>\n",
       "      <td>10</td>\n",
       "      <td>улица Земляной Вал</td>\n",
       "    </tr>\n",
       "    <tr>\n",
       "      <th>15363</th>\n",
       "      <td>209186</td>\n",
       "      <td>шоколадница</td>\n",
       "      <td>да</td>\n",
       "      <td>кафе</td>\n",
       "      <td>город Москва, улица Земляной Вал, дом 33</td>\n",
       "      <td>20</td>\n",
       "      <td>улица Земляной Вал</td>\n",
       "    </tr>\n",
       "    <tr>\n",
       "      <th>15364</th>\n",
       "      <td>221900</td>\n",
       "      <td>шоколадница</td>\n",
       "      <td>да</td>\n",
       "      <td>кафе</td>\n",
       "      <td>город Москва, поселение Московский, Киевское ш...</td>\n",
       "      <td>36</td>\n",
       "      <td>поселение Московский, Киевское шоссе, 22-й кил...</td>\n",
       "    </tr>\n",
       "    <tr>\n",
       "      <th>15365</th>\n",
       "      <td>222535</td>\n",
       "      <td>шоколадница</td>\n",
       "      <td>да</td>\n",
       "      <td>кафе</td>\n",
       "      <td>город Москва, Ходынский бульвар, дом 4</td>\n",
       "      <td>10</td>\n",
       "      <td>Ходынский бульвар</td>\n",
       "    </tr>\n",
       "  </tbody>\n",
       "</table>\n",
       "<p>15281 rows × 7 columns</p>\n",
       "</div>"
      ],
      "text/plain": [
       "           id             object_name chain object_type  \\\n",
       "0      151635                 сметана   нет        кафе   \n",
       "1       77874                  родник   нет        кафе   \n",
       "2       24309         кафе «академия»   нет        кафе   \n",
       "3       21894              пиццетория    да        кафе   \n",
       "4      119365  кафе «вишневая метель»   нет        кафе   \n",
       "...       ...                     ...   ...         ...   \n",
       "15361  208537             шоколадница    да        кафе   \n",
       "15362  209264             шоколадница    да        кафе   \n",
       "15363  209186             шоколадница    да        кафе   \n",
       "15364  221900             шоколадница    да        кафе   \n",
       "15365  222535             шоколадница    да        кафе   \n",
       "\n",
       "                                                 address  number  \\\n",
       "0             город Москва, улица Егора Абакумова, дом 9      48   \n",
       "1      город Москва, улица Талалихина, дом 2/1, корпус 1      35   \n",
       "2              город Москва, Абельмановская улица, дом 6      95   \n",
       "3                город Москва, Абрамцевская улица, дом 1      40   \n",
       "4      город Москва, Абрамцевская улица, дом 9, корпус 1      50   \n",
       "...                                                  ...     ...   \n",
       "15361       город Москва, 3-й Крутицкий переулок, дом 18      50   \n",
       "15362           город Москва, улица Земляной Вал, дом 33      10   \n",
       "15363           город Москва, улица Земляной Вал, дом 33      20   \n",
       "15364  город Москва, поселение Московский, Киевское ш...      36   \n",
       "15365             город Москва, Ходынский бульвар, дом 4      10   \n",
       "\n",
       "                                                  street  \n",
       "0                                  улица Егора Абакумова  \n",
       "1                                       улица Талалихина  \n",
       "2                                   Абельмановская улица  \n",
       "3                                     Абрамцевская улица  \n",
       "4                                     Абрамцевская улица  \n",
       "...                                                  ...  \n",
       "15361                             3-й Крутицкий переулок  \n",
       "15362                                 улица Земляной Вал  \n",
       "15363                                 улица Земляной Вал  \n",
       "15364  поселение Московский, Киевское шоссе, 22-й кил...  \n",
       "15365                                  Ходынский бульвар  \n",
       "\n",
       "[15281 rows x 7 columns]"
      ]
     },
     "execution_count": 130,
     "metadata": {},
     "output_type": "execute_result"
    }
   ],
   "source": [
    "rest_data['street'] = rest_data.apply(street, axis=1)\n",
    "rest_data"
   ]
  },
  {
   "cell_type": "code",
   "execution_count": 131,
   "metadata": {},
   "outputs": [
    {
     "data": {
      "text/html": [
       "<div>\n",
       "<style scoped>\n",
       "    .dataframe tbody tr th:only-of-type {\n",
       "        vertical-align: middle;\n",
       "    }\n",
       "\n",
       "    .dataframe tbody tr th {\n",
       "        vertical-align: top;\n",
       "    }\n",
       "\n",
       "    .dataframe thead th {\n",
       "        text-align: right;\n",
       "    }\n",
       "</style>\n",
       "<table border=\"1\" class=\"dataframe\">\n",
       "  <thead>\n",
       "    <tr style=\"text-align: right;\">\n",
       "      <th></th>\n",
       "      <th>id</th>\n",
       "      <th>object_name</th>\n",
       "      <th>chain</th>\n",
       "      <th>object_type</th>\n",
       "      <th>address</th>\n",
       "      <th>number</th>\n",
       "      <th>street</th>\n",
       "    </tr>\n",
       "  </thead>\n",
       "  <tbody>\n",
       "    <tr>\n",
       "      <th>5617</th>\n",
       "      <td>27515</td>\n",
       "      <td>школа 448</td>\n",
       "      <td>нет</td>\n",
       "      <td>столовая</td>\n",
       "      <td>город Москва, посёлок Акулово, дом 43А, строен...</td>\n",
       "      <td>156</td>\n",
       "      <td></td>\n",
       "    </tr>\n",
       "  </tbody>\n",
       "</table>\n",
       "</div>"
      ],
      "text/plain": [
       "         id object_name chain object_type  \\\n",
       "5617  27515   школа 448   нет    столовая   \n",
       "\n",
       "                                                address  number street  \n",
       "5617  город Москва, посёлок Акулово, дом 43А, строен...     156         "
      ]
     },
     "execution_count": 131,
     "metadata": {},
     "output_type": "execute_result"
    }
   ],
   "source": [
    "rest_data.query('street == \"\"')"
   ]
  },
  {
   "cell_type": "code",
   "execution_count": 132,
   "metadata": {},
   "outputs": [
    {
     "data": {
      "text/html": [
       "<div>\n",
       "<style scoped>\n",
       "    .dataframe tbody tr th:only-of-type {\n",
       "        vertical-align: middle;\n",
       "    }\n",
       "\n",
       "    .dataframe tbody tr th {\n",
       "        vertical-align: top;\n",
       "    }\n",
       "\n",
       "    .dataframe thead th {\n",
       "        text-align: right;\n",
       "    }\n",
       "</style>\n",
       "<table border=\"1\" class=\"dataframe\">\n",
       "  <thead>\n",
       "    <tr style=\"text-align: right;\">\n",
       "      <th></th>\n",
       "      <th>street</th>\n",
       "      <th>id</th>\n",
       "    </tr>\n",
       "  </thead>\n",
       "  <tbody>\n",
       "    <tr>\n",
       "      <th>0</th>\n",
       "      <td>проспект Мира</td>\n",
       "      <td>203</td>\n",
       "    </tr>\n",
       "    <tr>\n",
       "      <th>1</th>\n",
       "      <td>Профсоюзная улица</td>\n",
       "      <td>182</td>\n",
       "    </tr>\n",
       "    <tr>\n",
       "      <th>2</th>\n",
       "      <td>Ленинградский проспект</td>\n",
       "      <td>172</td>\n",
       "    </tr>\n",
       "    <tr>\n",
       "      <th>3</th>\n",
       "      <td>Пресненская набережная</td>\n",
       "      <td>167</td>\n",
       "    </tr>\n",
       "    <tr>\n",
       "      <th>4</th>\n",
       "      <td>Варшавское шоссе</td>\n",
       "      <td>162</td>\n",
       "    </tr>\n",
       "    <tr>\n",
       "      <th>5</th>\n",
       "      <td>Ленинский проспект</td>\n",
       "      <td>148</td>\n",
       "    </tr>\n",
       "    <tr>\n",
       "      <th>6</th>\n",
       "      <td>город Зеленоград</td>\n",
       "      <td>131</td>\n",
       "    </tr>\n",
       "    <tr>\n",
       "      <th>7</th>\n",
       "      <td>проспект Вернадского</td>\n",
       "      <td>128</td>\n",
       "    </tr>\n",
       "    <tr>\n",
       "      <th>8</th>\n",
       "      <td>Кутузовский проспект</td>\n",
       "      <td>114</td>\n",
       "    </tr>\n",
       "    <tr>\n",
       "      <th>9</th>\n",
       "      <td>Каширское шоссе</td>\n",
       "      <td>111</td>\n",
       "    </tr>\n",
       "  </tbody>\n",
       "</table>\n",
       "</div>"
      ],
      "text/plain": [
       "                   street   id\n",
       "0           проспект Мира  203\n",
       "1       Профсоюзная улица  182\n",
       "2  Ленинградский проспект  172\n",
       "3  Пресненская набережная  167\n",
       "4        Варшавское шоссе  162\n",
       "5      Ленинский проспект  148\n",
       "6        город Зеленоград  131\n",
       "7    проспект Вернадского  128\n",
       "8    Кутузовский проспект  114\n",
       "9         Каширское шоссе  111"
      ]
     },
     "execution_count": 132,
     "metadata": {},
     "output_type": "execute_result"
    }
   ],
   "source": [
    "top10_street = rest_data.groupby('street').agg({'id':'count'}).sort_values(by='id', ascending=False).reset_index().head(10)\n",
    "top10_street"
   ]
  },
  {
   "cell_type": "code",
   "execution_count": 133,
   "metadata": {},
   "outputs": [
    {
     "data": {
      "image/png": "[encoded data removed]",
      "text/plain": [
       "<Figure size 1080x432 with 1 Axes>"
      ]
     },
     "metadata": {
      "needs_background": "light"
     },
     "output_type": "display_data"
    }
   ],
   "source": [
    "top10_street = top10_street.reset_index()\n",
    "\n",
    "fig = plt.figure(figsize=(15,6))\n",
    "plt.bar(top10_street['street'], top10_street['id'])\n",
    "plt.title('TOП-10 улиц Москвы по числу объектов общественного питания')\n",
    "plt.xlabel('Название улицы')\n",
    "plt.ylabel('Количество объектов')\n",
    "old_ticks, old_labels = plt.xticks() \n",
    "\n",
    "fig.canvas.draw()\n",
    "plt.xticks(old_ticks, ['\\n'.join(label.get_text().split()) for label in old_labels])\n",
    "plt.show();"
   ]
  },
  {
   "cell_type": "markdown",
   "metadata": {},
   "source": [
    "Из графика видно, лидером Топ-10 по числу заведений общественного питания города Москва стал проспект Мира (204 объекта), далее Профсоюзная улица (183), примерно на одном уровне Ленинградский проспект (173), Пресненская набережная (167) и Варшавское шоссе (162). Замыкают Топ-10 улицы Кутузовский проспект и Каширское шоссе (немного больше 100 заведений)."
   ]
  },
  {
   "cell_type": "markdown",
   "metadata": {},
   "source": [
    "Определим район Москвы по улицам, вошедшим в Топ-10."
   ]
  },
  {
   "cell_type": "code",
   "execution_count": 134,
   "metadata": {},
   "outputs": [
    {
     "data": {
      "text/html": [
       "<div>\n",
       "<style scoped>\n",
       "    .dataframe tbody tr th:only-of-type {\n",
       "        vertical-align: middle;\n",
       "    }\n",
       "\n",
       "    .dataframe tbody tr th {\n",
       "        vertical-align: top;\n",
       "    }\n",
       "\n",
       "    .dataframe thead th {\n",
       "        text-align: right;\n",
       "    }\n",
       "</style>\n",
       "<table border=\"1\" class=\"dataframe\">\n",
       "  <thead>\n",
       "    <tr style=\"text-align: right;\">\n",
       "      <th></th>\n",
       "      <th>street</th>\n",
       "      <th>area</th>\n",
       "    </tr>\n",
       "  </thead>\n",
       "  <tbody>\n",
       "    <tr>\n",
       "      <th>0</th>\n",
       "      <td>Выставочный переулок</td>\n",
       "      <td>Пресненский район</td>\n",
       "    </tr>\n",
       "    <tr>\n",
       "      <th>1</th>\n",
       "      <td>улица Гашека</td>\n",
       "      <td>Пресненский район</td>\n",
       "    </tr>\n",
       "    <tr>\n",
       "      <th>2</th>\n",
       "      <td>Большая Никитская улица</td>\n",
       "      <td>Пресненский район</td>\n",
       "    </tr>\n",
       "    <tr>\n",
       "      <th>3</th>\n",
       "      <td>Глубокий переулок</td>\n",
       "      <td>Пресненский район</td>\n",
       "    </tr>\n",
       "    <tr>\n",
       "      <th>4</th>\n",
       "      <td>Большой Гнездниковский переулок</td>\n",
       "      <td>Пресненский район</td>\n",
       "    </tr>\n",
       "    <tr>\n",
       "      <th>...</th>\n",
       "      <td>...</td>\n",
       "      <td>...</td>\n",
       "    </tr>\n",
       "    <tr>\n",
       "      <th>4427</th>\n",
       "      <td>село Былово</td>\n",
       "      <td>село Былово</td>\n",
       "    </tr>\n",
       "    <tr>\n",
       "      <th>4428</th>\n",
       "      <td>улица 1-й километр Объездной Дороги</td>\n",
       "      <td>Клёновское поселение</td>\n",
       "    </tr>\n",
       "    <tr>\n",
       "      <th>4429</th>\n",
       "      <td>Новобутовский проезд</td>\n",
       "      <td>Район Южное Бутово</td>\n",
       "    </tr>\n",
       "    <tr>\n",
       "      <th>4430</th>\n",
       "      <td>Новохорошёвский проезд</td>\n",
       "      <td>Район Хорошево-Мневники</td>\n",
       "    </tr>\n",
       "    <tr>\n",
       "      <th>4431</th>\n",
       "      <td>Пыжёвский переулок</td>\n",
       "      <td>Район Якиманка</td>\n",
       "    </tr>\n",
       "  </tbody>\n",
       "</table>\n",
       "<p>4432 rows × 2 columns</p>\n",
       "</div>"
      ],
      "text/plain": [
       "                                   street                     area\n",
       "0                    Выставочный переулок        Пресненский район\n",
       "1                            улица Гашека        Пресненский район\n",
       "2                 Большая Никитская улица        Пресненский район\n",
       "3                       Глубокий переулок        Пресненский район\n",
       "4         Большой Гнездниковский переулок        Пресненский район\n",
       "...                                   ...                      ...\n",
       "4427                          село Былово              село Былово\n",
       "4428  улица 1-й километр Объездной Дороги     Клёновское поселение\n",
       "4429                 Новобутовский проезд       Район Южное Бутово\n",
       "4430               Новохорошёвский проезд  Район Хорошево-Мневники\n",
       "4431                   Пыжёвский переулок           Район Якиманка\n",
       "\n",
       "[4432 rows x 2 columns]"
      ]
     },
     "execution_count": 134,
     "metadata": {},
     "output_type": "execute_result"
    }
   ],
   "source": [
    "#подгрузим внешние данные с сайта https://data.mos.ru/ о районах Москвы\n",
    "from io import BytesIO\n",
    "import requests\n",
    "spreadsheet_id = '1o0Rmxii5snYG8fk0Q81p9D5F9bZyslSPOGci7lpQ1Po'\n",
    "file_name = 'https://docs.google.com/spreadsheets/d/{}/export?format=csv'.format(spreadsheet_id)\n",
    "r = requests.get(file_name)\n",
    "df = pd.read_csv(BytesIO(r.content))\n",
    "#удалим лишние столбцы\n",
    "df = df.drop(columns=['areaid', 'okrug'])\n",
    "df.columns=['street', 'area']\n",
    "df.duplicated().sum()\n",
    "df"
   ]
  },
  {
   "cell_type": "code",
   "execution_count": 135,
   "metadata": {},
   "outputs": [],
   "source": [
    "#обнаружили и удалили явняе дубликаты -8 строк\n",
    "df = df.drop_duplicates()"
   ]
  },
  {
   "cell_type": "code",
   "execution_count": 136,
   "metadata": {},
   "outputs": [
    {
     "data": {
      "text/html": [
       "<div>\n",
       "<style scoped>\n",
       "    .dataframe tbody tr th:only-of-type {\n",
       "        vertical-align: middle;\n",
       "    }\n",
       "\n",
       "    .dataframe tbody tr th {\n",
       "        vertical-align: top;\n",
       "    }\n",
       "\n",
       "    .dataframe thead th {\n",
       "        text-align: right;\n",
       "    }\n",
       "</style>\n",
       "<table border=\"1\" class=\"dataframe\">\n",
       "  <thead>\n",
       "    <tr style=\"text-align: right;\">\n",
       "      <th></th>\n",
       "      <th>index</th>\n",
       "      <th>street</th>\n",
       "      <th>id</th>\n",
       "      <th>area</th>\n",
       "    </tr>\n",
       "  </thead>\n",
       "  <tbody>\n",
       "    <tr>\n",
       "      <th>0</th>\n",
       "      <td>0</td>\n",
       "      <td>проспект Мира</td>\n",
       "      <td>203</td>\n",
       "      <td>Алексеевский район</td>\n",
       "    </tr>\n",
       "    <tr>\n",
       "      <th>1</th>\n",
       "      <td>0</td>\n",
       "      <td>проспект Мира</td>\n",
       "      <td>203</td>\n",
       "      <td>Ярославский Район</td>\n",
       "    </tr>\n",
       "    <tr>\n",
       "      <th>2</th>\n",
       "      <td>0</td>\n",
       "      <td>проспект Мира</td>\n",
       "      <td>203</td>\n",
       "      <td>Район Марьина роща</td>\n",
       "    </tr>\n",
       "    <tr>\n",
       "      <th>3</th>\n",
       "      <td>0</td>\n",
       "      <td>проспект Мира</td>\n",
       "      <td>203</td>\n",
       "      <td>Останкинский район</td>\n",
       "    </tr>\n",
       "    <tr>\n",
       "      <th>4</th>\n",
       "      <td>0</td>\n",
       "      <td>проспект Мира</td>\n",
       "      <td>203</td>\n",
       "      <td>Район Ростокино</td>\n",
       "    </tr>\n",
       "    <tr>\n",
       "      <th>5</th>\n",
       "      <td>0</td>\n",
       "      <td>проспект Мира</td>\n",
       "      <td>203</td>\n",
       "      <td>Район Свиблово</td>\n",
       "    </tr>\n",
       "    <tr>\n",
       "      <th>6</th>\n",
       "      <td>0</td>\n",
       "      <td>проспект Мира</td>\n",
       "      <td>203</td>\n",
       "      <td>Мещанский район</td>\n",
       "    </tr>\n",
       "    <tr>\n",
       "      <th>7</th>\n",
       "      <td>1</td>\n",
       "      <td>Профсоюзная улица</td>\n",
       "      <td>182</td>\n",
       "      <td>Академический район</td>\n",
       "    </tr>\n",
       "    <tr>\n",
       "      <th>8</th>\n",
       "      <td>1</td>\n",
       "      <td>Профсоюзная улица</td>\n",
       "      <td>182</td>\n",
       "      <td>Район Черемушки</td>\n",
       "    </tr>\n",
       "    <tr>\n",
       "      <th>9</th>\n",
       "      <td>1</td>\n",
       "      <td>Профсоюзная улица</td>\n",
       "      <td>182</td>\n",
       "      <td>Район Ясенево</td>\n",
       "    </tr>\n",
       "    <tr>\n",
       "      <th>10</th>\n",
       "      <td>1</td>\n",
       "      <td>Профсоюзная улица</td>\n",
       "      <td>182</td>\n",
       "      <td>Район Коньково</td>\n",
       "    </tr>\n",
       "    <tr>\n",
       "      <th>11</th>\n",
       "      <td>1</td>\n",
       "      <td>Профсоюзная улица</td>\n",
       "      <td>182</td>\n",
       "      <td>Обручевский район</td>\n",
       "    </tr>\n",
       "    <tr>\n",
       "      <th>12</th>\n",
       "      <td>1</td>\n",
       "      <td>Профсоюзная улица</td>\n",
       "      <td>182</td>\n",
       "      <td>Район Теплый Стан</td>\n",
       "    </tr>\n",
       "    <tr>\n",
       "      <th>13</th>\n",
       "      <td>2</td>\n",
       "      <td>Ленинградский проспект</td>\n",
       "      <td>172</td>\n",
       "      <td>Район Аэропорт</td>\n",
       "    </tr>\n",
       "    <tr>\n",
       "      <th>14</th>\n",
       "      <td>2</td>\n",
       "      <td>Ленинградский проспект</td>\n",
       "      <td>172</td>\n",
       "      <td>Район Беговой</td>\n",
       "    </tr>\n",
       "    <tr>\n",
       "      <th>15</th>\n",
       "      <td>2</td>\n",
       "      <td>Ленинградский проспект</td>\n",
       "      <td>172</td>\n",
       "      <td>Хорошевский район</td>\n",
       "    </tr>\n",
       "    <tr>\n",
       "      <th>16</th>\n",
       "      <td>2</td>\n",
       "      <td>Ленинградский проспект</td>\n",
       "      <td>172</td>\n",
       "      <td>Район Сокол</td>\n",
       "    </tr>\n",
       "    <tr>\n",
       "      <th>17</th>\n",
       "      <td>3</td>\n",
       "      <td>Пресненская набережная</td>\n",
       "      <td>167</td>\n",
       "      <td>Пресненский район</td>\n",
       "    </tr>\n",
       "    <tr>\n",
       "      <th>18</th>\n",
       "      <td>4</td>\n",
       "      <td>Варшавское шоссе</td>\n",
       "      <td>162</td>\n",
       "      <td>Район Чертаново Центральное</td>\n",
       "    </tr>\n",
       "    <tr>\n",
       "      <th>19</th>\n",
       "      <td>4</td>\n",
       "      <td>Варшавское шоссе</td>\n",
       "      <td>162</td>\n",
       "      <td>Район Чертаново Северное</td>\n",
       "    </tr>\n",
       "    <tr>\n",
       "      <th>20</th>\n",
       "      <td>4</td>\n",
       "      <td>Варшавское шоссе</td>\n",
       "      <td>162</td>\n",
       "      <td>Район Чертаново Южное</td>\n",
       "    </tr>\n",
       "    <tr>\n",
       "      <th>21</th>\n",
       "      <td>4</td>\n",
       "      <td>Варшавское шоссе</td>\n",
       "      <td>162</td>\n",
       "      <td>Донской район</td>\n",
       "    </tr>\n",
       "    <tr>\n",
       "      <th>22</th>\n",
       "      <td>4</td>\n",
       "      <td>Варшавское шоссе</td>\n",
       "      <td>162</td>\n",
       "      <td>Район Нагатино-Садовники</td>\n",
       "    </tr>\n",
       "    <tr>\n",
       "      <th>23</th>\n",
       "      <td>4</td>\n",
       "      <td>Варшавское шоссе</td>\n",
       "      <td>162</td>\n",
       "      <td>Нагорный район</td>\n",
       "    </tr>\n",
       "    <tr>\n",
       "      <th>24</th>\n",
       "      <td>4</td>\n",
       "      <td>Варшавское шоссе</td>\n",
       "      <td>162</td>\n",
       "      <td>Район Северное Бутово</td>\n",
       "    </tr>\n",
       "    <tr>\n",
       "      <th>25</th>\n",
       "      <td>4</td>\n",
       "      <td>Варшавское шоссе</td>\n",
       "      <td>162</td>\n",
       "      <td>Район Южное Бутово</td>\n",
       "    </tr>\n",
       "    <tr>\n",
       "      <th>26</th>\n",
       "      <td>5</td>\n",
       "      <td>Ленинский проспект</td>\n",
       "      <td>148</td>\n",
       "      <td>Район Проспект Вернадского</td>\n",
       "    </tr>\n",
       "    <tr>\n",
       "      <th>27</th>\n",
       "      <td>5</td>\n",
       "      <td>Ленинский проспект</td>\n",
       "      <td>148</td>\n",
       "      <td>Район Тропарево-Никулино</td>\n",
       "    </tr>\n",
       "    <tr>\n",
       "      <th>28</th>\n",
       "      <td>5</td>\n",
       "      <td>Ленинский проспект</td>\n",
       "      <td>148</td>\n",
       "      <td>Донской район</td>\n",
       "    </tr>\n",
       "    <tr>\n",
       "      <th>29</th>\n",
       "      <td>5</td>\n",
       "      <td>Ленинский проспект</td>\n",
       "      <td>148</td>\n",
       "      <td>Район Гагаринский</td>\n",
       "    </tr>\n",
       "    <tr>\n",
       "      <th>30</th>\n",
       "      <td>5</td>\n",
       "      <td>Ленинский проспект</td>\n",
       "      <td>148</td>\n",
       "      <td>Ломоносовский район</td>\n",
       "    </tr>\n",
       "    <tr>\n",
       "      <th>31</th>\n",
       "      <td>5</td>\n",
       "      <td>Ленинский проспект</td>\n",
       "      <td>148</td>\n",
       "      <td>Обручевский район</td>\n",
       "    </tr>\n",
       "    <tr>\n",
       "      <th>32</th>\n",
       "      <td>5</td>\n",
       "      <td>Ленинский проспект</td>\n",
       "      <td>148</td>\n",
       "      <td>Район Теплый Стан</td>\n",
       "    </tr>\n",
       "    <tr>\n",
       "      <th>33</th>\n",
       "      <td>5</td>\n",
       "      <td>Ленинский проспект</td>\n",
       "      <td>148</td>\n",
       "      <td>Район Якиманка</td>\n",
       "    </tr>\n",
       "    <tr>\n",
       "      <th>34</th>\n",
       "      <td>6</td>\n",
       "      <td>город Зеленоград</td>\n",
       "      <td>131</td>\n",
       "      <td>Район Крюково</td>\n",
       "    </tr>\n",
       "    <tr>\n",
       "      <th>35</th>\n",
       "      <td>6</td>\n",
       "      <td>город Зеленоград</td>\n",
       "      <td>131</td>\n",
       "      <td>Район Матушкино-Савелки</td>\n",
       "    </tr>\n",
       "    <tr>\n",
       "      <th>36</th>\n",
       "      <td>6</td>\n",
       "      <td>город Зеленоград</td>\n",
       "      <td>131</td>\n",
       "      <td>Панфиловский район</td>\n",
       "    </tr>\n",
       "    <tr>\n",
       "      <th>37</th>\n",
       "      <td>7</td>\n",
       "      <td>проспект Вернадского</td>\n",
       "      <td>128</td>\n",
       "      <td>Район Проспект Вернадского</td>\n",
       "    </tr>\n",
       "    <tr>\n",
       "      <th>38</th>\n",
       "      <td>7</td>\n",
       "      <td>проспект Вернадского</td>\n",
       "      <td>128</td>\n",
       "      <td>Район Раменки</td>\n",
       "    </tr>\n",
       "    <tr>\n",
       "      <th>39</th>\n",
       "      <td>7</td>\n",
       "      <td>проспект Вернадского</td>\n",
       "      <td>128</td>\n",
       "      <td>Район Тропарево-Никулино</td>\n",
       "    </tr>\n",
       "    <tr>\n",
       "      <th>40</th>\n",
       "      <td>7</td>\n",
       "      <td>проспект Вернадского</td>\n",
       "      <td>128</td>\n",
       "      <td>Район Гагаринский</td>\n",
       "    </tr>\n",
       "    <tr>\n",
       "      <th>41</th>\n",
       "      <td>7</td>\n",
       "      <td>проспект Вернадского</td>\n",
       "      <td>128</td>\n",
       "      <td>Ломоносовский район</td>\n",
       "    </tr>\n",
       "    <tr>\n",
       "      <th>42</th>\n",
       "      <td>8</td>\n",
       "      <td>Кутузовский проспект</td>\n",
       "      <td>114</td>\n",
       "      <td>Район Дорогомилово</td>\n",
       "    </tr>\n",
       "    <tr>\n",
       "      <th>43</th>\n",
       "      <td>8</td>\n",
       "      <td>Кутузовский проспект</td>\n",
       "      <td>114</td>\n",
       "      <td>Район Фили-Давыдково</td>\n",
       "    </tr>\n",
       "    <tr>\n",
       "      <th>44</th>\n",
       "      <td>9</td>\n",
       "      <td>Каширское шоссе</td>\n",
       "      <td>111</td>\n",
       "      <td>Район Москворечье-Сабурово</td>\n",
       "    </tr>\n",
       "    <tr>\n",
       "      <th>45</th>\n",
       "      <td>9</td>\n",
       "      <td>Каширское шоссе</td>\n",
       "      <td>111</td>\n",
       "      <td>Район Нагатино-Садовники</td>\n",
       "    </tr>\n",
       "    <tr>\n",
       "      <th>46</th>\n",
       "      <td>9</td>\n",
       "      <td>Каширское шоссе</td>\n",
       "      <td>111</td>\n",
       "      <td>Район Орехово-Борисово Южное</td>\n",
       "    </tr>\n",
       "    <tr>\n",
       "      <th>47</th>\n",
       "      <td>9</td>\n",
       "      <td>Каширское шоссе</td>\n",
       "      <td>111</td>\n",
       "      <td>Район Орехово-Борисово Северное</td>\n",
       "    </tr>\n",
       "  </tbody>\n",
       "</table>\n",
       "</div>"
      ],
      "text/plain": [
       "    index                  street   id                             area\n",
       "0       0           проспект Мира  203               Алексеевский район\n",
       "1       0           проспект Мира  203                Ярославский Район\n",
       "2       0           проспект Мира  203               Район Марьина роща\n",
       "3       0           проспект Мира  203               Останкинский район\n",
       "4       0           проспект Мира  203                  Район Ростокино\n",
       "5       0           проспект Мира  203                   Район Свиблово\n",
       "6       0           проспект Мира  203                  Мещанский район\n",
       "7       1       Профсоюзная улица  182              Академический район\n",
       "8       1       Профсоюзная улица  182                  Район Черемушки\n",
       "9       1       Профсоюзная улица  182                    Район Ясенево\n",
       "10      1       Профсоюзная улица  182                   Район Коньково\n",
       "11      1       Профсоюзная улица  182                Обручевский район\n",
       "12      1       Профсоюзная улица  182                Район Теплый Стан\n",
       "13      2  Ленинградский проспект  172                   Район Аэропорт\n",
       "14      2  Ленинградский проспект  172                    Район Беговой\n",
       "15      2  Ленинградский проспект  172                Хорошевский район\n",
       "16      2  Ленинградский проспект  172                      Район Сокол\n",
       "17      3  Пресненская набережная  167                Пресненский район\n",
       "18      4        Варшавское шоссе  162      Район Чертаново Центральное\n",
       "19      4        Варшавское шоссе  162         Район Чертаново Северное\n",
       "20      4        Варшавское шоссе  162            Район Чертаново Южное\n",
       "21      4        Варшавское шоссе  162                    Донской район\n",
       "22      4        Варшавское шоссе  162         Район Нагатино-Садовники\n",
       "23      4        Варшавское шоссе  162                   Нагорный район\n",
       "24      4        Варшавское шоссе  162            Район Северное Бутово\n",
       "25      4        Варшавское шоссе  162               Район Южное Бутово\n",
       "26      5      Ленинский проспект  148       Район Проспект Вернадского\n",
       "27      5      Ленинский проспект  148         Район Тропарево-Никулино\n",
       "28      5      Ленинский проспект  148                    Донской район\n",
       "29      5      Ленинский проспект  148                Район Гагаринский\n",
       "30      5      Ленинский проспект  148              Ломоносовский район\n",
       "31      5      Ленинский проспект  148                Обручевский район\n",
       "32      5      Ленинский проспект  148                Район Теплый Стан\n",
       "33      5      Ленинский проспект  148                   Район Якиманка\n",
       "34      6        город Зеленоград  131                    Район Крюково\n",
       "35      6        город Зеленоград  131          Район Матушкино-Савелки\n",
       "36      6        город Зеленоград  131               Панфиловский район\n",
       "37      7    проспект Вернадского  128       Район Проспект Вернадского\n",
       "38      7    проспект Вернадского  128                    Район Раменки\n",
       "39      7    проспект Вернадского  128         Район Тропарево-Никулино\n",
       "40      7    проспект Вернадского  128                Район Гагаринский\n",
       "41      7    проспект Вернадского  128              Ломоносовский район\n",
       "42      8    Кутузовский проспект  114               Район Дорогомилово\n",
       "43      8    Кутузовский проспект  114             Район Фили-Давыдково\n",
       "44      9         Каширское шоссе  111       Район Москворечье-Сабурово\n",
       "45      9         Каширское шоссе  111         Район Нагатино-Садовники\n",
       "46      9         Каширское шоссе  111     Район Орехово-Борисово Южное\n",
       "47      9         Каширское шоссе  111  Район Орехово-Борисово Северное"
      ]
     },
     "execution_count": 136,
     "metadata": {},
     "output_type": "execute_result"
    }
   ],
   "source": [
    "#создаем новую таблицу топ-10 с районами\n",
    "top10_area = top10_street.merge(df, on='street', how='left')\n",
    "top10_area"
   ]
  },
  {
   "cell_type": "markdown",
   "metadata": {},
   "source": [
    "Топ-10 улиц проходят через 48 районов Москвы...Сгруппируем для точности..."
   ]
  },
  {
   "cell_type": "code",
   "execution_count": 137,
   "metadata": {},
   "outputs": [
    {
     "data": {
      "text/html": [
       "<div>\n",
       "<style scoped>\n",
       "    .dataframe tbody tr th:only-of-type {\n",
       "        vertical-align: middle;\n",
       "    }\n",
       "\n",
       "    .dataframe tbody tr th {\n",
       "        vertical-align: top;\n",
       "    }\n",
       "\n",
       "    .dataframe thead th {\n",
       "        text-align: right;\n",
       "    }\n",
       "</style>\n",
       "<table border=\"1\" class=\"dataframe\">\n",
       "  <thead>\n",
       "    <tr style=\"text-align: right;\">\n",
       "      <th></th>\n",
       "      <th>area</th>\n",
       "      <th>street</th>\n",
       "    </tr>\n",
       "  </thead>\n",
       "  <tbody>\n",
       "    <tr>\n",
       "      <th>0</th>\n",
       "      <td>Район Проспект Вернадского</td>\n",
       "      <td>2</td>\n",
       "    </tr>\n",
       "    <tr>\n",
       "      <th>1</th>\n",
       "      <td>Донской район</td>\n",
       "      <td>2</td>\n",
       "    </tr>\n",
       "    <tr>\n",
       "      <th>2</th>\n",
       "      <td>Ломоносовский район</td>\n",
       "      <td>2</td>\n",
       "    </tr>\n",
       "    <tr>\n",
       "      <th>3</th>\n",
       "      <td>Обручевский район</td>\n",
       "      <td>2</td>\n",
       "    </tr>\n",
       "    <tr>\n",
       "      <th>4</th>\n",
       "      <td>Район Нагатино-Садовники</td>\n",
       "      <td>2</td>\n",
       "    </tr>\n",
       "    <tr>\n",
       "      <th>5</th>\n",
       "      <td>Район Теплый Стан</td>\n",
       "      <td>2</td>\n",
       "    </tr>\n",
       "    <tr>\n",
       "      <th>6</th>\n",
       "      <td>Район Тропарево-Никулино</td>\n",
       "      <td>2</td>\n",
       "    </tr>\n",
       "    <tr>\n",
       "      <th>7</th>\n",
       "      <td>Район Гагаринский</td>\n",
       "      <td>2</td>\n",
       "    </tr>\n",
       "    <tr>\n",
       "      <th>8</th>\n",
       "      <td>Район Фили-Давыдково</td>\n",
       "      <td>1</td>\n",
       "    </tr>\n",
       "    <tr>\n",
       "      <th>9</th>\n",
       "      <td>Район Ростокино</td>\n",
       "      <td>1</td>\n",
       "    </tr>\n",
       "    <tr>\n",
       "      <th>10</th>\n",
       "      <td>Район Свиблово</td>\n",
       "      <td>1</td>\n",
       "    </tr>\n",
       "    <tr>\n",
       "      <th>11</th>\n",
       "      <td>Район Северное Бутово</td>\n",
       "      <td>1</td>\n",
       "    </tr>\n",
       "    <tr>\n",
       "      <th>12</th>\n",
       "      <td>Район Сокол</td>\n",
       "      <td>1</td>\n",
       "    </tr>\n",
       "    <tr>\n",
       "      <th>13</th>\n",
       "      <td>Академический район</td>\n",
       "      <td>1</td>\n",
       "    </tr>\n",
       "    <tr>\n",
       "      <th>14</th>\n",
       "      <td>Район Черемушки</td>\n",
       "      <td>1</td>\n",
       "    </tr>\n",
       "    <tr>\n",
       "      <th>15</th>\n",
       "      <td>Район Раменки</td>\n",
       "      <td>1</td>\n",
       "    </tr>\n",
       "    <tr>\n",
       "      <th>16</th>\n",
       "      <td>Район Чертаново Центральное</td>\n",
       "      <td>1</td>\n",
       "    </tr>\n",
       "    <tr>\n",
       "      <th>17</th>\n",
       "      <td>Район Чертаново Южное</td>\n",
       "      <td>1</td>\n",
       "    </tr>\n",
       "    <tr>\n",
       "      <th>18</th>\n",
       "      <td>Район Южное Бутово</td>\n",
       "      <td>1</td>\n",
       "    </tr>\n",
       "    <tr>\n",
       "      <th>19</th>\n",
       "      <td>Район Якиманка</td>\n",
       "      <td>1</td>\n",
       "    </tr>\n",
       "    <tr>\n",
       "      <th>20</th>\n",
       "      <td>Район Ясенево</td>\n",
       "      <td>1</td>\n",
       "    </tr>\n",
       "    <tr>\n",
       "      <th>21</th>\n",
       "      <td>Хорошевский район</td>\n",
       "      <td>1</td>\n",
       "    </tr>\n",
       "    <tr>\n",
       "      <th>22</th>\n",
       "      <td>Район Чертаново Северное</td>\n",
       "      <td>1</td>\n",
       "    </tr>\n",
       "    <tr>\n",
       "      <th>23</th>\n",
       "      <td>Район Орехово-Борисово Северное</td>\n",
       "      <td>1</td>\n",
       "    </tr>\n",
       "    <tr>\n",
       "      <th>24</th>\n",
       "      <td>Район Орехово-Борисово Южное</td>\n",
       "      <td>1</td>\n",
       "    </tr>\n",
       "    <tr>\n",
       "      <th>25</th>\n",
       "      <td>Алексеевский район</td>\n",
       "      <td>1</td>\n",
       "    </tr>\n",
       "    <tr>\n",
       "      <th>26</th>\n",
       "      <td>Район Москворечье-Сабурово</td>\n",
       "      <td>1</td>\n",
       "    </tr>\n",
       "    <tr>\n",
       "      <th>27</th>\n",
       "      <td>Район Матушкино-Савелки</td>\n",
       "      <td>1</td>\n",
       "    </tr>\n",
       "    <tr>\n",
       "      <th>28</th>\n",
       "      <td>Район Марьина роща</td>\n",
       "      <td>1</td>\n",
       "    </tr>\n",
       "    <tr>\n",
       "      <th>29</th>\n",
       "      <td>Район Крюково</td>\n",
       "      <td>1</td>\n",
       "    </tr>\n",
       "    <tr>\n",
       "      <th>30</th>\n",
       "      <td>Район Коньково</td>\n",
       "      <td>1</td>\n",
       "    </tr>\n",
       "    <tr>\n",
       "      <th>31</th>\n",
       "      <td>Район Дорогомилово</td>\n",
       "      <td>1</td>\n",
       "    </tr>\n",
       "    <tr>\n",
       "      <th>32</th>\n",
       "      <td>Район Беговой</td>\n",
       "      <td>1</td>\n",
       "    </tr>\n",
       "    <tr>\n",
       "      <th>33</th>\n",
       "      <td>Район Аэропорт</td>\n",
       "      <td>1</td>\n",
       "    </tr>\n",
       "    <tr>\n",
       "      <th>34</th>\n",
       "      <td>Пресненский район</td>\n",
       "      <td>1</td>\n",
       "    </tr>\n",
       "    <tr>\n",
       "      <th>35</th>\n",
       "      <td>Панфиловский район</td>\n",
       "      <td>1</td>\n",
       "    </tr>\n",
       "    <tr>\n",
       "      <th>36</th>\n",
       "      <td>Останкинский район</td>\n",
       "      <td>1</td>\n",
       "    </tr>\n",
       "    <tr>\n",
       "      <th>37</th>\n",
       "      <td>Нагорный район</td>\n",
       "      <td>1</td>\n",
       "    </tr>\n",
       "    <tr>\n",
       "      <th>38</th>\n",
       "      <td>Мещанский район</td>\n",
       "      <td>1</td>\n",
       "    </tr>\n",
       "    <tr>\n",
       "      <th>39</th>\n",
       "      <td>Ярославский Район</td>\n",
       "      <td>1</td>\n",
       "    </tr>\n",
       "  </tbody>\n",
       "</table>\n",
       "</div>"
      ],
      "text/plain": [
       "                               area  street\n",
       "0        Район Проспект Вернадского       2\n",
       "1                     Донской район       2\n",
       "2               Ломоносовский район       2\n",
       "3                 Обручевский район       2\n",
       "4          Район Нагатино-Садовники       2\n",
       "5                 Район Теплый Стан       2\n",
       "6          Район Тропарево-Никулино       2\n",
       "7                 Район Гагаринский       2\n",
       "8              Район Фили-Давыдково       1\n",
       "9                   Район Ростокино       1\n",
       "10                   Район Свиблово       1\n",
       "11            Район Северное Бутово       1\n",
       "12                      Район Сокол       1\n",
       "13              Академический район       1\n",
       "14                  Район Черемушки       1\n",
       "15                    Район Раменки       1\n",
       "16      Район Чертаново Центральное       1\n",
       "17            Район Чертаново Южное       1\n",
       "18               Район Южное Бутово       1\n",
       "19                   Район Якиманка       1\n",
       "20                    Район Ясенево       1\n",
       "21                Хорошевский район       1\n",
       "22         Район Чертаново Северное       1\n",
       "23  Район Орехово-Борисово Северное       1\n",
       "24     Район Орехово-Борисово Южное       1\n",
       "25               Алексеевский район       1\n",
       "26       Район Москворечье-Сабурово       1\n",
       "27          Район Матушкино-Савелки       1\n",
       "28               Район Марьина роща       1\n",
       "29                    Район Крюково       1\n",
       "30                   Район Коньково       1\n",
       "31               Район Дорогомилово       1\n",
       "32                    Район Беговой       1\n",
       "33                   Район Аэропорт       1\n",
       "34                Пресненский район       1\n",
       "35               Панфиловский район       1\n",
       "36               Останкинский район       1\n",
       "37                   Нагорный район       1\n",
       "38                  Мещанский район       1\n",
       "39                Ярославский Район       1"
      ]
     },
     "execution_count": 137,
     "metadata": {},
     "output_type": "execute_result"
    }
   ],
   "source": [
    "top10_area.groupby('area').agg({'street':'count'}).sort_values(by='street', ascending=False).reset_index()"
   ]
  },
  {
   "cell_type": "markdown",
   "metadata": {},
   "source": [
    "Топ-10 улиц проходят через 40 районов Москвы! В некоторых районах встречается по 2 улицы из Топа."
   ]
  },
  {
   "cell_type": "markdown",
   "metadata": {},
   "source": [
    "<a id='the_destination8'></a>\n",
    "#### Составим список улиц с одним объектом общественного питания"
   ]
  },
  {
   "cell_type": "code",
   "execution_count": 138,
   "metadata": {},
   "outputs": [
    {
     "data": {
      "text/html": [
       "<div>\n",
       "<style scoped>\n",
       "    .dataframe tbody tr th:only-of-type {\n",
       "        vertical-align: middle;\n",
       "    }\n",
       "\n",
       "    .dataframe tbody tr th {\n",
       "        vertical-align: top;\n",
       "    }\n",
       "\n",
       "    .dataframe thead th {\n",
       "        text-align: right;\n",
       "    }\n",
       "</style>\n",
       "<table border=\"1\" class=\"dataframe\">\n",
       "  <thead>\n",
       "    <tr style=\"text-align: right;\">\n",
       "      <th></th>\n",
       "      <th>id</th>\n",
       "    </tr>\n",
       "    <tr>\n",
       "      <th>street</th>\n",
       "      <th></th>\n",
       "    </tr>\n",
       "  </thead>\n",
       "  <tbody>\n",
       "    <tr>\n",
       "      <th></th>\n",
       "      <td>1</td>\n",
       "    </tr>\n",
       "    <tr>\n",
       "      <th>1-й Балтийский переулок</th>\n",
       "      <td>1</td>\n",
       "    </tr>\n",
       "    <tr>\n",
       "      <th>1-й Басманный переулок</th>\n",
       "      <td>1</td>\n",
       "    </tr>\n",
       "    <tr>\n",
       "      <th>1-й Ботанический проезд</th>\n",
       "      <td>1</td>\n",
       "    </tr>\n",
       "    <tr>\n",
       "      <th>1-й Вешняковский проезд</th>\n",
       "      <td>1</td>\n",
       "    </tr>\n",
       "    <tr>\n",
       "      <th>...</th>\n",
       "      <td>...</td>\n",
       "    </tr>\n",
       "    <tr>\n",
       "      <th>улица Шеногина</th>\n",
       "      <td>1</td>\n",
       "    </tr>\n",
       "    <tr>\n",
       "      <th>улица Шумилова</th>\n",
       "      <td>1</td>\n",
       "    </tr>\n",
       "    <tr>\n",
       "      <th>улица Шумкина</th>\n",
       "      <td>1</td>\n",
       "    </tr>\n",
       "    <tr>\n",
       "      <th>улица Щорса</th>\n",
       "      <td>1</td>\n",
       "    </tr>\n",
       "    <tr>\n",
       "      <th>шоссе Фрезер</th>\n",
       "      <td>1</td>\n",
       "    </tr>\n",
       "  </tbody>\n",
       "</table>\n",
       "<p>602 rows × 1 columns</p>\n",
       "</div>"
      ],
      "text/plain": [
       "                         id\n",
       "street                     \n",
       "                          1\n",
       "1-й Балтийский переулок   1\n",
       "1-й Басманный переулок    1\n",
       "1-й Ботанический проезд   1\n",
       "1-й Вешняковский проезд   1\n",
       "...                      ..\n",
       "улица Шеногина            1\n",
       "улица Шумилова            1\n",
       "улица Шумкина             1\n",
       "улица Щорса               1\n",
       "шоссе Фрезер              1\n",
       "\n",
       "[602 rows x 1 columns]"
      ]
     },
     "execution_count": 138,
     "metadata": {},
     "output_type": "execute_result"
    }
   ],
   "source": [
    "alone_street = rest_data.groupby('street').agg({'id':'count'}).query('id == 1')\n",
    "alone_street"
   ]
  },
  {
   "cell_type": "markdown",
   "metadata": {},
   "source": [
    "На 602 улице только один объект общественного питания."
   ]
  },
  {
   "cell_type": "code",
   "execution_count": 139,
   "metadata": {},
   "outputs": [
    {
     "data": {
      "text/html": [
       "<div>\n",
       "<style scoped>\n",
       "    .dataframe tbody tr th:only-of-type {\n",
       "        vertical-align: middle;\n",
       "    }\n",
       "\n",
       "    .dataframe tbody tr th {\n",
       "        vertical-align: top;\n",
       "    }\n",
       "\n",
       "    .dataframe thead th {\n",
       "        text-align: right;\n",
       "    }\n",
       "</style>\n",
       "<table border=\"1\" class=\"dataframe\">\n",
       "  <thead>\n",
       "    <tr style=\"text-align: right;\">\n",
       "      <th></th>\n",
       "      <th>street</th>\n",
       "      <th>id</th>\n",
       "      <th>area</th>\n",
       "    </tr>\n",
       "  </thead>\n",
       "  <tbody>\n",
       "    <tr>\n",
       "      <th>0</th>\n",
       "      <td></td>\n",
       "      <td>1</td>\n",
       "      <td>NaN</td>\n",
       "    </tr>\n",
       "    <tr>\n",
       "      <th>1</th>\n",
       "      <td>1-й Балтийский переулок</td>\n",
       "      <td>1</td>\n",
       "      <td>Район Аэропорт</td>\n",
       "    </tr>\n",
       "    <tr>\n",
       "      <th>2</th>\n",
       "      <td>1-й Басманный переулок</td>\n",
       "      <td>1</td>\n",
       "      <td>Басманный район</td>\n",
       "    </tr>\n",
       "    <tr>\n",
       "      <th>3</th>\n",
       "      <td>1-й Басманный переулок</td>\n",
       "      <td>1</td>\n",
       "      <td>Красносельский район</td>\n",
       "    </tr>\n",
       "    <tr>\n",
       "      <th>4</th>\n",
       "      <td>1-й Ботанический проезд</td>\n",
       "      <td>1</td>\n",
       "      <td>Район Свиблово</td>\n",
       "    </tr>\n",
       "    <tr>\n",
       "      <th>...</th>\n",
       "      <td>...</td>\n",
       "      <td>...</td>\n",
       "      <td>...</td>\n",
       "    </tr>\n",
       "    <tr>\n",
       "      <th>644</th>\n",
       "      <td>улица Шеногина</td>\n",
       "      <td>1</td>\n",
       "      <td>Район Хорошево-Мневники</td>\n",
       "    </tr>\n",
       "    <tr>\n",
       "      <th>645</th>\n",
       "      <td>улица Шумилова</td>\n",
       "      <td>1</td>\n",
       "      <td>Район Кузьминки</td>\n",
       "    </tr>\n",
       "    <tr>\n",
       "      <th>646</th>\n",
       "      <td>улица Шумкина</td>\n",
       "      <td>1</td>\n",
       "      <td>Район Сокольники</td>\n",
       "    </tr>\n",
       "    <tr>\n",
       "      <th>647</th>\n",
       "      <td>улица Щорса</td>\n",
       "      <td>1</td>\n",
       "      <td>Район Солнцево</td>\n",
       "    </tr>\n",
       "    <tr>\n",
       "      <th>648</th>\n",
       "      <td>шоссе Фрезер</td>\n",
       "      <td>1</td>\n",
       "      <td>Нижегородский район</td>\n",
       "    </tr>\n",
       "  </tbody>\n",
       "</table>\n",
       "<p>649 rows × 3 columns</p>\n",
       "</div>"
      ],
      "text/plain": [
       "                      street  id                     area\n",
       "0                              1                      NaN\n",
       "1    1-й Балтийский переулок   1           Район Аэропорт\n",
       "2     1-й Басманный переулок   1          Басманный район\n",
       "3     1-й Басманный переулок   1     Красносельский район\n",
       "4    1-й Ботанический проезд   1           Район Свиблово\n",
       "..                       ...  ..                      ...\n",
       "644           улица Шеногина   1  Район Хорошево-Мневники\n",
       "645           улица Шумилова   1          Район Кузьминки\n",
       "646            улица Шумкина   1         Район Сокольники\n",
       "647              улица Щорса   1           Район Солнцево\n",
       "648             шоссе Фрезер   1      Нижегородский район\n",
       "\n",
       "[649 rows x 3 columns]"
      ]
     },
     "execution_count": 139,
     "metadata": {},
     "output_type": "execute_result"
    }
   ],
   "source": [
    "alone_area = alone_street.merge(df, on='street', how='left')\n",
    "alone_area"
   ]
  },
  {
   "cell_type": "code",
   "execution_count": 140,
   "metadata": {},
   "outputs": [
    {
     "data": {
      "text/html": [
       "<div>\n",
       "<style scoped>\n",
       "    .dataframe tbody tr th:only-of-type {\n",
       "        vertical-align: middle;\n",
       "    }\n",
       "\n",
       "    .dataframe tbody tr th {\n",
       "        vertical-align: top;\n",
       "    }\n",
       "\n",
       "    .dataframe thead th {\n",
       "        text-align: right;\n",
       "    }\n",
       "</style>\n",
       "<table border=\"1\" class=\"dataframe\">\n",
       "  <thead>\n",
       "    <tr style=\"text-align: right;\">\n",
       "      <th></th>\n",
       "      <th>area</th>\n",
       "      <th>street</th>\n",
       "    </tr>\n",
       "  </thead>\n",
       "  <tbody>\n",
       "    <tr>\n",
       "      <th>0</th>\n",
       "      <td>Таганский район</td>\n",
       "      <td>28</td>\n",
       "    </tr>\n",
       "    <tr>\n",
       "      <th>1</th>\n",
       "      <td>Район Хамовники</td>\n",
       "      <td>26</td>\n",
       "    </tr>\n",
       "    <tr>\n",
       "      <th>2</th>\n",
       "      <td>Басманный район</td>\n",
       "      <td>25</td>\n",
       "    </tr>\n",
       "    <tr>\n",
       "      <th>3</th>\n",
       "      <td>Тверской район</td>\n",
       "      <td>20</td>\n",
       "    </tr>\n",
       "    <tr>\n",
       "      <th>4</th>\n",
       "      <td>Пресненский район</td>\n",
       "      <td>20</td>\n",
       "    </tr>\n",
       "    <tr>\n",
       "      <th>...</th>\n",
       "      <td>...</td>\n",
       "      <td>...</td>\n",
       "    </tr>\n",
       "    <tr>\n",
       "      <th>101</th>\n",
       "      <td>Район Метрогородок</td>\n",
       "      <td>1</td>\n",
       "    </tr>\n",
       "    <tr>\n",
       "      <th>102</th>\n",
       "      <td>Район Москворечье-Сабурово</td>\n",
       "      <td>1</td>\n",
       "    </tr>\n",
       "    <tr>\n",
       "      <th>103</th>\n",
       "      <td>Московский район</td>\n",
       "      <td>1</td>\n",
       "    </tr>\n",
       "    <tr>\n",
       "      <th>104</th>\n",
       "      <td>Район Нагатино-Садовники</td>\n",
       "      <td>1</td>\n",
       "    </tr>\n",
       "    <tr>\n",
       "      <th>105</th>\n",
       "      <td>поселение Щербинка</td>\n",
       "      <td>1</td>\n",
       "    </tr>\n",
       "  </tbody>\n",
       "</table>\n",
       "<p>106 rows × 2 columns</p>\n",
       "</div>"
      ],
      "text/plain": [
       "                           area  street\n",
       "0               Таганский район      28\n",
       "1               Район Хамовники      26\n",
       "2               Басманный район      25\n",
       "3                Тверской район      20\n",
       "4             Пресненский район      20\n",
       "..                          ...     ...\n",
       "101          Район Метрогородок       1\n",
       "102  Район Москворечье-Сабурово       1\n",
       "103            Московский район       1\n",
       "104    Район Нагатино-Садовники       1\n",
       "105          поселение Щербинка       1\n",
       "\n",
       "[106 rows x 2 columns]"
      ]
     },
     "execution_count": 140,
     "metadata": {},
     "output_type": "execute_result"
    }
   ],
   "source": [
    "alone_area = alone_area.groupby('area').agg({'street':'count'}).sort_values(by='street', ascending=False).reset_index()\n",
    "alone_area"
   ]
  },
  {
   "cell_type": "markdown",
   "metadata": {},
   "source": [
    "В 106 районах Москвы проходят улицы, на которых находится только один объект общественного питания. В нескольких районах проходит несколько улиц с одним заведением."
   ]
  },
  {
   "cell_type": "markdown",
   "metadata": {},
   "source": [
    "Проверим совпадают ли районы, где много заведений общепата и где мало..."
   ]
  },
  {
   "cell_type": "code",
   "execution_count": 141,
   "metadata": {},
   "outputs": [
    {
     "data": {
      "text/plain": [
       "array(['Пресненский район', 'Район Марьина роща', 'Мещанский район',\n",
       "       'Район Якиманка', 'Район Южное Бутово', 'Район Аэропорт',\n",
       "       'Алексеевский район', 'Донской район', 'Район Ясенево',\n",
       "       'Хорошевский район', 'Район Ростокино', 'Район Сокол',\n",
       "       'Район Свиблово', 'Нагорный район', 'Район Дорогомилово',\n",
       "       'Район Раменки', 'Ярославский Район', 'Район Беговой',\n",
       "       'Останкинский район', 'Район Черемушки', 'Район Фили-Давыдково',\n",
       "       'Район Коньково', 'Район Северное Бутово', 'Район Гагаринский',\n",
       "       'Район Крюково', 'Район Чертаново Южное',\n",
       "       'Район Чертаново Северное', 'Обручевский район',\n",
       "       'Район Матушкино-Савелки', 'Район Москворечье-Сабурово',\n",
       "       'Район Нагатино-Садовники'], dtype=object)"
      ]
     },
     "execution_count": 141,
     "metadata": {},
     "output_type": "execute_result"
    }
   ],
   "source": [
    "alone_area[alone_area['area'].isin(top10_area['area'])]['area'].unique()"
   ]
  },
  {
   "cell_type": "code",
   "execution_count": 142,
   "metadata": {},
   "outputs": [
    {
     "data": {
      "text/html": [
       "<div>\n",
       "<style scoped>\n",
       "    .dataframe tbody tr th:only-of-type {\n",
       "        vertical-align: middle;\n",
       "    }\n",
       "\n",
       "    .dataframe tbody tr th {\n",
       "        vertical-align: top;\n",
       "    }\n",
       "\n",
       "    .dataframe thead th {\n",
       "        text-align: right;\n",
       "    }\n",
       "</style>\n",
       "<table border=\"1\" class=\"dataframe\">\n",
       "  <thead>\n",
       "    <tr style=\"text-align: right;\">\n",
       "      <th></th>\n",
       "      <th>index</th>\n",
       "      <th>street_x</th>\n",
       "      <th>id</th>\n",
       "      <th>area</th>\n",
       "      <th>street_y</th>\n",
       "    </tr>\n",
       "  </thead>\n",
       "  <tbody>\n",
       "    <tr>\n",
       "      <th>0</th>\n",
       "      <td>0</td>\n",
       "      <td>проспект Мира</td>\n",
       "      <td>203</td>\n",
       "      <td>Алексеевский район</td>\n",
       "      <td>7</td>\n",
       "    </tr>\n",
       "    <tr>\n",
       "      <th>1</th>\n",
       "      <td>0</td>\n",
       "      <td>проспект Мира</td>\n",
       "      <td>203</td>\n",
       "      <td>Ярославский Район</td>\n",
       "      <td>3</td>\n",
       "    </tr>\n",
       "    <tr>\n",
       "      <th>2</th>\n",
       "      <td>0</td>\n",
       "      <td>проспект Мира</td>\n",
       "      <td>203</td>\n",
       "      <td>Район Марьина роща</td>\n",
       "      <td>19</td>\n",
       "    </tr>\n",
       "    <tr>\n",
       "      <th>3</th>\n",
       "      <td>0</td>\n",
       "      <td>проспект Мира</td>\n",
       "      <td>203</td>\n",
       "      <td>Останкинский район</td>\n",
       "      <td>3</td>\n",
       "    </tr>\n",
       "    <tr>\n",
       "      <th>4</th>\n",
       "      <td>0</td>\n",
       "      <td>проспект Мира</td>\n",
       "      <td>203</td>\n",
       "      <td>Район Ростокино</td>\n",
       "      <td>5</td>\n",
       "    </tr>\n",
       "    <tr>\n",
       "      <th>5</th>\n",
       "      <td>0</td>\n",
       "      <td>проспект Мира</td>\n",
       "      <td>203</td>\n",
       "      <td>Район Свиблово</td>\n",
       "      <td>4</td>\n",
       "    </tr>\n",
       "    <tr>\n",
       "      <th>6</th>\n",
       "      <td>0</td>\n",
       "      <td>проспект Мира</td>\n",
       "      <td>203</td>\n",
       "      <td>Мещанский район</td>\n",
       "      <td>15</td>\n",
       "    </tr>\n",
       "    <tr>\n",
       "      <th>7</th>\n",
       "      <td>1</td>\n",
       "      <td>Профсоюзная улица</td>\n",
       "      <td>182</td>\n",
       "      <td>Район Черемушки</td>\n",
       "      <td>2</td>\n",
       "    </tr>\n",
       "    <tr>\n",
       "      <th>8</th>\n",
       "      <td>1</td>\n",
       "      <td>Профсоюзная улица</td>\n",
       "      <td>182</td>\n",
       "      <td>Район Ясенево</td>\n",
       "      <td>5</td>\n",
       "    </tr>\n",
       "    <tr>\n",
       "      <th>9</th>\n",
       "      <td>1</td>\n",
       "      <td>Профсоюзная улица</td>\n",
       "      <td>182</td>\n",
       "      <td>Район Коньково</td>\n",
       "      <td>2</td>\n",
       "    </tr>\n",
       "    <tr>\n",
       "      <th>10</th>\n",
       "      <td>1</td>\n",
       "      <td>Профсоюзная улица</td>\n",
       "      <td>182</td>\n",
       "      <td>Обручевский район</td>\n",
       "      <td>1</td>\n",
       "    </tr>\n",
       "    <tr>\n",
       "      <th>11</th>\n",
       "      <td>5</td>\n",
       "      <td>Ленинский проспект</td>\n",
       "      <td>148</td>\n",
       "      <td>Обручевский район</td>\n",
       "      <td>1</td>\n",
       "    </tr>\n",
       "    <tr>\n",
       "      <th>12</th>\n",
       "      <td>2</td>\n",
       "      <td>Ленинградский проспект</td>\n",
       "      <td>172</td>\n",
       "      <td>Район Аэропорт</td>\n",
       "      <td>8</td>\n",
       "    </tr>\n",
       "    <tr>\n",
       "      <th>13</th>\n",
       "      <td>2</td>\n",
       "      <td>Ленинградский проспект</td>\n",
       "      <td>172</td>\n",
       "      <td>Район Беговой</td>\n",
       "      <td>3</td>\n",
       "    </tr>\n",
       "    <tr>\n",
       "      <th>14</th>\n",
       "      <td>2</td>\n",
       "      <td>Ленинградский проспект</td>\n",
       "      <td>172</td>\n",
       "      <td>Хорошевский район</td>\n",
       "      <td>5</td>\n",
       "    </tr>\n",
       "    <tr>\n",
       "      <th>15</th>\n",
       "      <td>2</td>\n",
       "      <td>Ленинградский проспект</td>\n",
       "      <td>172</td>\n",
       "      <td>Район Сокол</td>\n",
       "      <td>4</td>\n",
       "    </tr>\n",
       "    <tr>\n",
       "      <th>16</th>\n",
       "      <td>3</td>\n",
       "      <td>Пресненская набережная</td>\n",
       "      <td>167</td>\n",
       "      <td>Пресненский район</td>\n",
       "      <td>20</td>\n",
       "    </tr>\n",
       "    <tr>\n",
       "      <th>17</th>\n",
       "      <td>4</td>\n",
       "      <td>Варшавское шоссе</td>\n",
       "      <td>162</td>\n",
       "      <td>Район Чертаново Северное</td>\n",
       "      <td>1</td>\n",
       "    </tr>\n",
       "    <tr>\n",
       "      <th>18</th>\n",
       "      <td>4</td>\n",
       "      <td>Варшавское шоссе</td>\n",
       "      <td>162</td>\n",
       "      <td>Район Чертаново Южное</td>\n",
       "      <td>1</td>\n",
       "    </tr>\n",
       "    <tr>\n",
       "      <th>19</th>\n",
       "      <td>4</td>\n",
       "      <td>Варшавское шоссе</td>\n",
       "      <td>162</td>\n",
       "      <td>Донской район</td>\n",
       "      <td>6</td>\n",
       "    </tr>\n",
       "    <tr>\n",
       "      <th>20</th>\n",
       "      <td>5</td>\n",
       "      <td>Ленинский проспект</td>\n",
       "      <td>148</td>\n",
       "      <td>Донской район</td>\n",
       "      <td>6</td>\n",
       "    </tr>\n",
       "    <tr>\n",
       "      <th>21</th>\n",
       "      <td>4</td>\n",
       "      <td>Варшавское шоссе</td>\n",
       "      <td>162</td>\n",
       "      <td>Район Нагатино-Садовники</td>\n",
       "      <td>1</td>\n",
       "    </tr>\n",
       "    <tr>\n",
       "      <th>22</th>\n",
       "      <td>9</td>\n",
       "      <td>Каширское шоссе</td>\n",
       "      <td>111</td>\n",
       "      <td>Район Нагатино-Садовники</td>\n",
       "      <td>1</td>\n",
       "    </tr>\n",
       "    <tr>\n",
       "      <th>23</th>\n",
       "      <td>4</td>\n",
       "      <td>Варшавское шоссе</td>\n",
       "      <td>162</td>\n",
       "      <td>Нагорный район</td>\n",
       "      <td>4</td>\n",
       "    </tr>\n",
       "    <tr>\n",
       "      <th>24</th>\n",
       "      <td>4</td>\n",
       "      <td>Варшавское шоссе</td>\n",
       "      <td>162</td>\n",
       "      <td>Район Северное Бутово</td>\n",
       "      <td>2</td>\n",
       "    </tr>\n",
       "    <tr>\n",
       "      <th>25</th>\n",
       "      <td>4</td>\n",
       "      <td>Варшавское шоссе</td>\n",
       "      <td>162</td>\n",
       "      <td>Район Южное Бутово</td>\n",
       "      <td>10</td>\n",
       "    </tr>\n",
       "    <tr>\n",
       "      <th>26</th>\n",
       "      <td>5</td>\n",
       "      <td>Ленинский проспект</td>\n",
       "      <td>148</td>\n",
       "      <td>Район Гагаринский</td>\n",
       "      <td>1</td>\n",
       "    </tr>\n",
       "    <tr>\n",
       "      <th>27</th>\n",
       "      <td>7</td>\n",
       "      <td>проспект Вернадского</td>\n",
       "      <td>128</td>\n",
       "      <td>Район Гагаринский</td>\n",
       "      <td>1</td>\n",
       "    </tr>\n",
       "    <tr>\n",
       "      <th>28</th>\n",
       "      <td>5</td>\n",
       "      <td>Ленинский проспект</td>\n",
       "      <td>148</td>\n",
       "      <td>Район Якиманка</td>\n",
       "      <td>11</td>\n",
       "    </tr>\n",
       "    <tr>\n",
       "      <th>29</th>\n",
       "      <td>6</td>\n",
       "      <td>город Зеленоград</td>\n",
       "      <td>131</td>\n",
       "      <td>Район Крюково</td>\n",
       "      <td>1</td>\n",
       "    </tr>\n",
       "    <tr>\n",
       "      <th>30</th>\n",
       "      <td>6</td>\n",
       "      <td>город Зеленоград</td>\n",
       "      <td>131</td>\n",
       "      <td>Район Матушкино-Савелки</td>\n",
       "      <td>1</td>\n",
       "    </tr>\n",
       "    <tr>\n",
       "      <th>31</th>\n",
       "      <td>7</td>\n",
       "      <td>проспект Вернадского</td>\n",
       "      <td>128</td>\n",
       "      <td>Район Раменки</td>\n",
       "      <td>3</td>\n",
       "    </tr>\n",
       "    <tr>\n",
       "      <th>32</th>\n",
       "      <td>8</td>\n",
       "      <td>Кутузовский проспект</td>\n",
       "      <td>114</td>\n",
       "      <td>Район Дорогомилово</td>\n",
       "      <td>4</td>\n",
       "    </tr>\n",
       "    <tr>\n",
       "      <th>33</th>\n",
       "      <td>8</td>\n",
       "      <td>Кутузовский проспект</td>\n",
       "      <td>114</td>\n",
       "      <td>Район Фили-Давыдково</td>\n",
       "      <td>2</td>\n",
       "    </tr>\n",
       "    <tr>\n",
       "      <th>34</th>\n",
       "      <td>9</td>\n",
       "      <td>Каширское шоссе</td>\n",
       "      <td>111</td>\n",
       "      <td>Район Москворечье-Сабурово</td>\n",
       "      <td>1</td>\n",
       "    </tr>\n",
       "  </tbody>\n",
       "</table>\n",
       "</div>"
      ],
      "text/plain": [
       "    index                street_x   id                        area  street_y\n",
       "0       0           проспект Мира  203          Алексеевский район         7\n",
       "1       0           проспект Мира  203           Ярославский Район         3\n",
       "2       0           проспект Мира  203          Район Марьина роща        19\n",
       "3       0           проспект Мира  203          Останкинский район         3\n",
       "4       0           проспект Мира  203             Район Ростокино         5\n",
       "5       0           проспект Мира  203              Район Свиблово         4\n",
       "6       0           проспект Мира  203             Мещанский район        15\n",
       "7       1       Профсоюзная улица  182             Район Черемушки         2\n",
       "8       1       Профсоюзная улица  182               Район Ясенево         5\n",
       "9       1       Профсоюзная улица  182              Район Коньково         2\n",
       "10      1       Профсоюзная улица  182           Обручевский район         1\n",
       "11      5      Ленинский проспект  148           Обручевский район         1\n",
       "12      2  Ленинградский проспект  172              Район Аэропорт         8\n",
       "13      2  Ленинградский проспект  172               Район Беговой         3\n",
       "14      2  Ленинградский проспект  172           Хорошевский район         5\n",
       "15      2  Ленинградский проспект  172                 Район Сокол         4\n",
       "16      3  Пресненская набережная  167           Пресненский район        20\n",
       "17      4        Варшавское шоссе  162    Район Чертаново Северное         1\n",
       "18      4        Варшавское шоссе  162       Район Чертаново Южное         1\n",
       "19      4        Варшавское шоссе  162               Донской район         6\n",
       "20      5      Ленинский проспект  148               Донской район         6\n",
       "21      4        Варшавское шоссе  162    Район Нагатино-Садовники         1\n",
       "22      9         Каширское шоссе  111    Район Нагатино-Садовники         1\n",
       "23      4        Варшавское шоссе  162              Нагорный район         4\n",
       "24      4        Варшавское шоссе  162       Район Северное Бутово         2\n",
       "25      4        Варшавское шоссе  162          Район Южное Бутово        10\n",
       "26      5      Ленинский проспект  148           Район Гагаринский         1\n",
       "27      7    проспект Вернадского  128           Район Гагаринский         1\n",
       "28      5      Ленинский проспект  148              Район Якиманка        11\n",
       "29      6        город Зеленоград  131               Район Крюково         1\n",
       "30      6        город Зеленоград  131     Район Матушкино-Савелки         1\n",
       "31      7    проспект Вернадского  128               Район Раменки         3\n",
       "32      8    Кутузовский проспект  114          Район Дорогомилово         4\n",
       "33      8    Кутузовский проспект  114        Район Фили-Давыдково         2\n",
       "34      9         Каширское шоссе  111  Район Москворечье-Сабурово         1"
      ]
     },
     "execution_count": 142,
     "metadata": {},
     "output_type": "execute_result"
    }
   ],
   "source": [
    "top_to_alone = top10_area.merge(alone_area, on='area', how='inner')\n",
    "top_to_alone"
   ]
  },
  {
   "cell_type": "code",
   "execution_count": 143,
   "metadata": {},
   "outputs": [
    {
     "data": {
      "text/html": [
       "<div>\n",
       "<style scoped>\n",
       "    .dataframe tbody tr th:only-of-type {\n",
       "        vertical-align: middle;\n",
       "    }\n",
       "\n",
       "    .dataframe tbody tr th {\n",
       "        vertical-align: top;\n",
       "    }\n",
       "\n",
       "    .dataframe thead th {\n",
       "        text-align: right;\n",
       "    }\n",
       "</style>\n",
       "<table border=\"1\" class=\"dataframe\">\n",
       "  <thead>\n",
       "    <tr style=\"text-align: right;\">\n",
       "      <th></th>\n",
       "      <th>street_y</th>\n",
       "    </tr>\n",
       "    <tr>\n",
       "      <th>area</th>\n",
       "      <th></th>\n",
       "    </tr>\n",
       "  </thead>\n",
       "  <tbody>\n",
       "    <tr>\n",
       "      <th>Район Нагатино-Садовники</th>\n",
       "      <td>2</td>\n",
       "    </tr>\n",
       "    <tr>\n",
       "      <th>Район Гагаринский</th>\n",
       "      <td>2</td>\n",
       "    </tr>\n",
       "    <tr>\n",
       "      <th>Донской район</th>\n",
       "      <td>2</td>\n",
       "    </tr>\n",
       "    <tr>\n",
       "      <th>Обручевский район</th>\n",
       "      <td>2</td>\n",
       "    </tr>\n",
       "    <tr>\n",
       "      <th>Район Свиблово</th>\n",
       "      <td>1</td>\n",
       "    </tr>\n",
       "    <tr>\n",
       "      <th>Район Северное Бутово</th>\n",
       "      <td>1</td>\n",
       "    </tr>\n",
       "    <tr>\n",
       "      <th>Район Сокол</th>\n",
       "      <td>1</td>\n",
       "    </tr>\n",
       "    <tr>\n",
       "      <th>Район Фили-Давыдково</th>\n",
       "      <td>1</td>\n",
       "    </tr>\n",
       "    <tr>\n",
       "      <th>Район Черемушки</th>\n",
       "      <td>1</td>\n",
       "    </tr>\n",
       "    <tr>\n",
       "      <th>Алексеевский район</th>\n",
       "      <td>1</td>\n",
       "    </tr>\n",
       "    <tr>\n",
       "      <th>Район Ростокино</th>\n",
       "      <td>1</td>\n",
       "    </tr>\n",
       "    <tr>\n",
       "      <th>Район Чертаново Южное</th>\n",
       "      <td>1</td>\n",
       "    </tr>\n",
       "    <tr>\n",
       "      <th>Район Южное Бутово</th>\n",
       "      <td>1</td>\n",
       "    </tr>\n",
       "    <tr>\n",
       "      <th>Район Якиманка</th>\n",
       "      <td>1</td>\n",
       "    </tr>\n",
       "    <tr>\n",
       "      <th>Район Ясенево</th>\n",
       "      <td>1</td>\n",
       "    </tr>\n",
       "    <tr>\n",
       "      <th>Хорошевский район</th>\n",
       "      <td>1</td>\n",
       "    </tr>\n",
       "    <tr>\n",
       "      <th>Район Чертаново Северное</th>\n",
       "      <td>1</td>\n",
       "    </tr>\n",
       "    <tr>\n",
       "      <th>Район Москворечье-Сабурово</th>\n",
       "      <td>1</td>\n",
       "    </tr>\n",
       "    <tr>\n",
       "      <th>Район Раменки</th>\n",
       "      <td>1</td>\n",
       "    </tr>\n",
       "    <tr>\n",
       "      <th>Район Матушкино-Савелки</th>\n",
       "      <td>1</td>\n",
       "    </tr>\n",
       "    <tr>\n",
       "      <th>Район Марьина роща</th>\n",
       "      <td>1</td>\n",
       "    </tr>\n",
       "    <tr>\n",
       "      <th>Район Крюково</th>\n",
       "      <td>1</td>\n",
       "    </tr>\n",
       "    <tr>\n",
       "      <th>Район Коньково</th>\n",
       "      <td>1</td>\n",
       "    </tr>\n",
       "    <tr>\n",
       "      <th>Район Дорогомилово</th>\n",
       "      <td>1</td>\n",
       "    </tr>\n",
       "    <tr>\n",
       "      <th>Район Беговой</th>\n",
       "      <td>1</td>\n",
       "    </tr>\n",
       "    <tr>\n",
       "      <th>Район Аэропорт</th>\n",
       "      <td>1</td>\n",
       "    </tr>\n",
       "    <tr>\n",
       "      <th>Пресненский район</th>\n",
       "      <td>1</td>\n",
       "    </tr>\n",
       "    <tr>\n",
       "      <th>Останкинский район</th>\n",
       "      <td>1</td>\n",
       "    </tr>\n",
       "    <tr>\n",
       "      <th>Нагорный район</th>\n",
       "      <td>1</td>\n",
       "    </tr>\n",
       "    <tr>\n",
       "      <th>Мещанский район</th>\n",
       "      <td>1</td>\n",
       "    </tr>\n",
       "    <tr>\n",
       "      <th>Ярославский Район</th>\n",
       "      <td>1</td>\n",
       "    </tr>\n",
       "  </tbody>\n",
       "</table>\n",
       "</div>"
      ],
      "text/plain": [
       "                            street_y\n",
       "area                                \n",
       "Район Нагатино-Садовники           2\n",
       "Район Гагаринский                  2\n",
       "Донской район                      2\n",
       "Обручевский район                  2\n",
       "Район Свиблово                     1\n",
       "Район Северное Бутово              1\n",
       "Район Сокол                        1\n",
       "Район Фили-Давыдково               1\n",
       "Район Черемушки                    1\n",
       "Алексеевский район                 1\n",
       "Район Ростокино                    1\n",
       "Район Чертаново Южное              1\n",
       "Район Южное Бутово                 1\n",
       "Район Якиманка                     1\n",
       "Район Ясенево                      1\n",
       "Хорошевский район                  1\n",
       "Район Чертаново Северное           1\n",
       "Район Москворечье-Сабурово         1\n",
       "Район Раменки                      1\n",
       "Район Матушкино-Савелки            1\n",
       "Район Марьина роща                 1\n",
       "Район Крюково                      1\n",
       "Район Коньково                     1\n",
       "Район Дорогомилово                 1\n",
       "Район Беговой                      1\n",
       "Район Аэропорт                     1\n",
       "Пресненский район                  1\n",
       "Останкинский район                 1\n",
       "Нагорный район                     1\n",
       "Мещанский район                    1\n",
       "Ярославский Район                  1"
      ]
     },
     "execution_count": 143,
     "metadata": {},
     "output_type": "execute_result"
    }
   ],
   "source": [
    "top_to_alone = top_to_alone.groupby('area').agg({'street_y':'count'}).sort_values(by='street_y', ascending=False)\n",
    "top_to_alone"
   ]
  },
  {
   "cell_type": "markdown",
   "metadata": {},
   "source": [
    "31 совпадение! Исключим эти районы из списка районов, где улицы с одним заведением."
   ]
  },
  {
   "cell_type": "code",
   "execution_count": 144,
   "metadata": {},
   "outputs": [
    {
     "data": {
      "text/html": [
       "<div>\n",
       "<style scoped>\n",
       "    .dataframe tbody tr th:only-of-type {\n",
       "        vertical-align: middle;\n",
       "    }\n",
       "\n",
       "    .dataframe tbody tr th {\n",
       "        vertical-align: top;\n",
       "    }\n",
       "\n",
       "    .dataframe thead th {\n",
       "        text-align: right;\n",
       "    }\n",
       "</style>\n",
       "<table border=\"1\" class=\"dataframe\">\n",
       "  <thead>\n",
       "    <tr style=\"text-align: right;\">\n",
       "      <th></th>\n",
       "      <th>index</th>\n",
       "      <th>area</th>\n",
       "      <th>street</th>\n",
       "    </tr>\n",
       "  </thead>\n",
       "  <tbody>\n",
       "    <tr>\n",
       "      <th>0</th>\n",
       "      <td>0</td>\n",
       "      <td>Таганский район</td>\n",
       "      <td>28</td>\n",
       "    </tr>\n",
       "    <tr>\n",
       "      <th>1</th>\n",
       "      <td>1</td>\n",
       "      <td>Район Хамовники</td>\n",
       "      <td>26</td>\n",
       "    </tr>\n",
       "    <tr>\n",
       "      <th>2</th>\n",
       "      <td>2</td>\n",
       "      <td>Басманный район</td>\n",
       "      <td>25</td>\n",
       "    </tr>\n",
       "    <tr>\n",
       "      <th>3</th>\n",
       "      <td>3</td>\n",
       "      <td>Тверской район</td>\n",
       "      <td>20</td>\n",
       "    </tr>\n",
       "    <tr>\n",
       "      <th>4</th>\n",
       "      <td>6</td>\n",
       "      <td>Район Арбат</td>\n",
       "      <td>18</td>\n",
       "    </tr>\n",
       "    <tr>\n",
       "      <th>...</th>\n",
       "      <td>...</td>\n",
       "      <td>...</td>\n",
       "      <td>...</td>\n",
       "    </tr>\n",
       "    <tr>\n",
       "      <th>70</th>\n",
       "      <td>98</td>\n",
       "      <td>Алтуфьевский район</td>\n",
       "      <td>1</td>\n",
       "    </tr>\n",
       "    <tr>\n",
       "      <th>71</th>\n",
       "      <td>99</td>\n",
       "      <td>Район Марьино</td>\n",
       "      <td>1</td>\n",
       "    </tr>\n",
       "    <tr>\n",
       "      <th>72</th>\n",
       "      <td>101</td>\n",
       "      <td>Район Метрогородок</td>\n",
       "      <td>1</td>\n",
       "    </tr>\n",
       "    <tr>\n",
       "      <th>73</th>\n",
       "      <td>103</td>\n",
       "      <td>Московский район</td>\n",
       "      <td>1</td>\n",
       "    </tr>\n",
       "    <tr>\n",
       "      <th>74</th>\n",
       "      <td>105</td>\n",
       "      <td>поселение Щербинка</td>\n",
       "      <td>1</td>\n",
       "    </tr>\n",
       "  </tbody>\n",
       "</table>\n",
       "<p>75 rows × 3 columns</p>\n",
       "</div>"
      ],
      "text/plain": [
       "    index                area  street\n",
       "0       0     Таганский район      28\n",
       "1       1     Район Хамовники      26\n",
       "2       2     Басманный район      25\n",
       "3       3      Тверской район      20\n",
       "4       6         Район Арбат      18\n",
       "..    ...                 ...     ...\n",
       "70     98  Алтуфьевский район       1\n",
       "71     99       Район Марьино       1\n",
       "72    101  Район Метрогородок       1\n",
       "73    103    Московский район       1\n",
       "74    105  поселение Щербинка       1\n",
       "\n",
       "[75 rows x 3 columns]"
      ]
     },
     "execution_count": 144,
     "metadata": {},
     "output_type": "execute_result"
    }
   ],
   "source": [
    "alone_area.query('area not in @top_to_alone.index').reset_index()"
   ]
  },
  {
   "cell_type": "code",
   "execution_count": 145,
   "metadata": {},
   "outputs": [
    {
     "data": {
      "text/html": [
       "<div>\n",
       "<style scoped>\n",
       "    .dataframe tbody tr th:only-of-type {\n",
       "        vertical-align: middle;\n",
       "    }\n",
       "\n",
       "    .dataframe tbody tr th {\n",
       "        vertical-align: top;\n",
       "    }\n",
       "\n",
       "    .dataframe thead th {\n",
       "        text-align: right;\n",
       "    }\n",
       "</style>\n",
       "<table border=\"1\" class=\"dataframe\">\n",
       "  <thead>\n",
       "    <tr style=\"text-align: right;\">\n",
       "      <th></th>\n",
       "      <th>index</th>\n",
       "      <th>area</th>\n",
       "      <th>street</th>\n",
       "    </tr>\n",
       "  </thead>\n",
       "  <tbody>\n",
       "    <tr>\n",
       "      <th>0</th>\n",
       "      <td>83</td>\n",
       "      <td>Район Ивановское</td>\n",
       "      <td>1</td>\n",
       "    </tr>\n",
       "    <tr>\n",
       "      <th>1</th>\n",
       "      <td>84</td>\n",
       "      <td>Район Капотня</td>\n",
       "      <td>1</td>\n",
       "    </tr>\n",
       "    <tr>\n",
       "      <th>2</th>\n",
       "      <td>85</td>\n",
       "      <td>Район Западное Дегунино</td>\n",
       "      <td>1</td>\n",
       "    </tr>\n",
       "    <tr>\n",
       "      <th>3</th>\n",
       "      <td>86</td>\n",
       "      <td>Район Гагаринский</td>\n",
       "      <td>1</td>\n",
       "    </tr>\n",
       "    <tr>\n",
       "      <th>4</th>\n",
       "      <td>87</td>\n",
       "      <td>Район Восточный</td>\n",
       "      <td>1</td>\n",
       "    </tr>\n",
       "    <tr>\n",
       "      <th>5</th>\n",
       "      <td>88</td>\n",
       "      <td>Район Южное Медведково</td>\n",
       "      <td>1</td>\n",
       "    </tr>\n",
       "    <tr>\n",
       "      <th>6</th>\n",
       "      <td>89</td>\n",
       "      <td>Район Крюково</td>\n",
       "      <td>1</td>\n",
       "    </tr>\n",
       "    <tr>\n",
       "      <th>7</th>\n",
       "      <td>90</td>\n",
       "      <td>Район Левобережный</td>\n",
       "      <td>1</td>\n",
       "    </tr>\n",
       "    <tr>\n",
       "      <th>8</th>\n",
       "      <td>91</td>\n",
       "      <td>Район Чертаново Южное</td>\n",
       "      <td>1</td>\n",
       "    </tr>\n",
       "    <tr>\n",
       "      <th>9</th>\n",
       "      <td>92</td>\n",
       "      <td>Район Чертаново Северное</td>\n",
       "      <td>1</td>\n",
       "    </tr>\n",
       "    <tr>\n",
       "      <th>10</th>\n",
       "      <td>93</td>\n",
       "      <td>Обручевский район</td>\n",
       "      <td>1</td>\n",
       "    </tr>\n",
       "    <tr>\n",
       "      <th>11</th>\n",
       "      <td>94</td>\n",
       "      <td>Район Филевский Парк</td>\n",
       "      <td>1</td>\n",
       "    </tr>\n",
       "    <tr>\n",
       "      <th>12</th>\n",
       "      <td>95</td>\n",
       "      <td>Район Строгино</td>\n",
       "      <td>1</td>\n",
       "    </tr>\n",
       "    <tr>\n",
       "      <th>13</th>\n",
       "      <td>96</td>\n",
       "      <td>Район Лианозово</td>\n",
       "      <td>1</td>\n",
       "    </tr>\n",
       "    <tr>\n",
       "      <th>14</th>\n",
       "      <td>97</td>\n",
       "      <td>Район Марфино</td>\n",
       "      <td>1</td>\n",
       "    </tr>\n",
       "    <tr>\n",
       "      <th>15</th>\n",
       "      <td>98</td>\n",
       "      <td>Алтуфьевский район</td>\n",
       "      <td>1</td>\n",
       "    </tr>\n",
       "    <tr>\n",
       "      <th>16</th>\n",
       "      <td>99</td>\n",
       "      <td>Район Марьино</td>\n",
       "      <td>1</td>\n",
       "    </tr>\n",
       "    <tr>\n",
       "      <th>17</th>\n",
       "      <td>100</td>\n",
       "      <td>Район Матушкино-Савелки</td>\n",
       "      <td>1</td>\n",
       "    </tr>\n",
       "    <tr>\n",
       "      <th>18</th>\n",
       "      <td>101</td>\n",
       "      <td>Район Метрогородок</td>\n",
       "      <td>1</td>\n",
       "    </tr>\n",
       "    <tr>\n",
       "      <th>19</th>\n",
       "      <td>102</td>\n",
       "      <td>Район Москворечье-Сабурово</td>\n",
       "      <td>1</td>\n",
       "    </tr>\n",
       "    <tr>\n",
       "      <th>20</th>\n",
       "      <td>103</td>\n",
       "      <td>Московский район</td>\n",
       "      <td>1</td>\n",
       "    </tr>\n",
       "    <tr>\n",
       "      <th>21</th>\n",
       "      <td>104</td>\n",
       "      <td>Район Нагатино-Садовники</td>\n",
       "      <td>1</td>\n",
       "    </tr>\n",
       "    <tr>\n",
       "      <th>22</th>\n",
       "      <td>105</td>\n",
       "      <td>поселение Щербинка</td>\n",
       "      <td>1</td>\n",
       "    </tr>\n",
       "  </tbody>\n",
       "</table>\n",
       "</div>"
      ],
      "text/plain": [
       "    index                        area  street\n",
       "0      83            Район Ивановское       1\n",
       "1      84               Район Капотня       1\n",
       "2      85     Район Западное Дегунино       1\n",
       "3      86           Район Гагаринский       1\n",
       "4      87             Район Восточный       1\n",
       "5      88      Район Южное Медведково       1\n",
       "6      89               Район Крюково       1\n",
       "7      90          Район Левобережный       1\n",
       "8      91       Район Чертаново Южное       1\n",
       "9      92    Район Чертаново Северное       1\n",
       "10     93           Обручевский район       1\n",
       "11     94        Район Филевский Парк       1\n",
       "12     95              Район Строгино       1\n",
       "13     96             Район Лианозово       1\n",
       "14     97               Район Марфино       1\n",
       "15     98          Алтуфьевский район       1\n",
       "16     99               Район Марьино       1\n",
       "17    100     Район Матушкино-Савелки       1\n",
       "18    101          Район Метрогородок       1\n",
       "19    102  Район Москворечье-Сабурово       1\n",
       "20    103            Московский район       1\n",
       "21    104    Район Нагатино-Садовники       1\n",
       "22    105          поселение Щербинка       1"
      ]
     },
     "execution_count": 145,
     "metadata": {},
     "output_type": "execute_result"
    }
   ],
   "source": [
    "alone_area.query('area not in @top_to_alone.index' and 'street == 1').reset_index()"
   ]
  },
  {
   "cell_type": "markdown",
   "metadata": {},
   "source": [
    "Таким образом, выделили 75 районов города Москвы, где проходит улица с одним заведением общественного питания и только 23 района, где только одно заведение общественного питания."
   ]
  },
  {
   "cell_type": "markdown",
   "metadata": {},
   "source": [
    "<a id='the_destination9'></a>\n",
    "### Общий вывод и рекомендации"
   ]
  },
  {
   "cell_type": "markdown",
   "metadata": {},
   "source": [
    "Исследование целесообразности открытия оригинального кафе в Москве. Фишка кафе - посетителей будут обслуживать роботы. Необходимо привлечение инвесторов.\n",
    "\n",
    "**Цель исследования** - изучение и анализ текущего рынка общественного питания Москвы - достигнута.  \n",
    "Были изучены открытые данные города Москва.  \n",
    "Данные содержат таблицу rest_data, состоящую из нескольких колонок:  \n",
    "id — идентификатор объекта;  \n",
    "object_name — название объекта общественного питания;  \n",
    "chain — сетевой ресторан;  \n",
    "object_type — тип объекта общественного питания;  \n",
    "address — адрес;  \n",
    "number — количество посадочных мест.  \n",
    "Тип заголовков одинаковый, приемлемый. Тип данных соответствующий набору данных.  \n",
    "Пропущенные значения и дубликаты отсутствуют.  \n",
    "Анализ данных показал:\n",
    "1. Большую долю среди всех типов заведений общественного питания Москвы занимает - кафе. На втором месте столовая, с небольшим отрывом на третьем - рестораны. Меньше всего кулинарии и закусочные.  \n",
    "2. 81% заведений Москвы - несетевые. Доля сетевых, соответственно, всего 19%.\n",
    "3. Сетевое распространение с наибольшей долей характерно для кафе (47%), бистро (27%) и ресторанов (18%).  \n",
    "Для сетевых заведений характерно много заведений с небольшим числом посадочных мест (от 40 до 50 в среднем). Исключение - рестораны, в среднем 100 мест на объект, но по распространенности ресторан только на третьем месте среди сетевых объектов.\n",
    "4. Среди всех объектов общественного питания наибольшее число посадочных мест в среднем предоставляет столовая и ресторан (более 100). Лидер по числу объектов - кафе, только на 5 месте по числу посадочных мест (до 40).\n",
    "5. Лидером Топ-10 улиц по числу заведений общественного питания города Москва стал проспект Мира (204 объекта), далее Профсоюзная улица (183), примерно на одном уровне Ленинградский проспект (173), Пресненская набережная (167) и Варшавское шоссе (162). Замыкают Топ-10 улицы Кутузовский проспект и Каширское шоссе (немного больше 100 заведений). Топ-10 улиц проходят через 40 районов Москвы! В некоторых районах встречается по 2 улицы из Топа.\n",
    "6. На 601 улице только один объект общественного питания. В 106 районах Москвы проходят улицы, на которых находится только один объект общественного питания. В нескольких районах проходит несколько улиц с одним заведением. \n",
    "Также выявили 31 совпадение районов из Топ-10 и где улицы с одним заведением. Исключили их из списка районов, где проходят улицы с одним заведением общественного питания. \n",
    "Таким образом, выделили 75 районов города Москва, где проходит улица с одним заведением общественного питания и только 23 района, где только одно заведение общественного питания.\n",
    "\n",
    "Из подведённых итогов можно рекомендовать:\n",
    "1. Выбрать тип заведения общественного питания - кафе, ввиду его широкой распространенности, а значит популярности.\n",
    "2. Количество посадочных мест - до 50.\n",
    "3. Район расположения - из ТОП-10. Вероятно, фишка кафе - официант-робот отвлечет на себя посетителей конкурентов.\n",
    "4. Возможность развития сети - положительная (кафе, как сетевой объект имеет высокую долю распространенности)."
   ]
  },
  {
   "cell_type": "markdown",
   "metadata": {},
   "source": [
    "[Вернуться в начало!](#the_destination10) "
   ]
  },
  {
   "cell_type": "markdown",
   "metadata": {},
   "source": []
  }
 ],
 "metadata": {
  "ExecuteTimeLog": [
   {
    "duration": 418,
    "start_time": "2022-06-22T16:30:27.095Z"
   },
   {
    "duration": 234,
    "start_time": "2022-06-22T16:30:28.623Z"
   },
   {
    "duration": 14,
    "start_time": "2022-06-22T16:32:23.423Z"
   },
   {
    "duration": 22,
    "start_time": "2022-06-22T16:33:00.489Z"
   },
   {
    "duration": 19,
    "start_time": "2022-06-22T16:33:06.014Z"
   },
   {
    "duration": 10,
    "start_time": "2022-06-22T16:34:05.243Z"
   },
   {
    "duration": 5,
    "start_time": "2022-06-22T16:35:26.159Z"
   },
   {
    "duration": 5,
    "start_time": "2022-06-22T16:36:14.880Z"
   },
   {
    "duration": 11,
    "start_time": "2022-06-22T16:47:47.349Z"
   },
   {
    "duration": 18,
    "start_time": "2022-06-22T16:47:56.148Z"
   },
   {
    "duration": 12,
    "start_time": "2022-06-22T16:48:21.802Z"
   },
   {
    "duration": 3,
    "start_time": "2022-06-22T16:49:39.310Z"
   },
   {
    "duration": 15,
    "start_time": "2022-06-22T16:49:40.219Z"
   },
   {
    "duration": 13,
    "start_time": "2022-06-22T16:49:40.850Z"
   },
   {
    "duration": 4,
    "start_time": "2022-06-22T16:49:46.134Z"
   },
   {
    "duration": 74,
    "start_time": "2022-06-22T16:49:46.141Z"
   },
   {
    "duration": 21,
    "start_time": "2022-06-22T16:49:46.217Z"
   },
   {
    "duration": 25,
    "start_time": "2022-06-22T16:49:46.241Z"
   },
   {
    "duration": 6,
    "start_time": "2022-06-22T16:49:46.268Z"
   },
   {
    "duration": 9,
    "start_time": "2022-06-22T16:49:46.276Z"
   },
   {
    "duration": 5,
    "start_time": "2022-06-22T16:49:46.287Z"
   },
   {
    "duration": 20,
    "start_time": "2022-06-22T16:49:46.294Z"
   },
   {
    "duration": 13,
    "start_time": "2022-06-22T16:49:49.107Z"
   },
   {
    "duration": 14,
    "start_time": "2022-06-22T16:50:32.805Z"
   },
   {
    "duration": 9,
    "start_time": "2022-06-22T16:50:42.359Z"
   },
   {
    "duration": 12,
    "start_time": "2022-06-22T16:50:50.664Z"
   },
   {
    "duration": 12,
    "start_time": "2022-06-22T16:50:56.881Z"
   },
   {
    "duration": 9,
    "start_time": "2022-06-22T16:51:14.554Z"
   },
   {
    "duration": 9,
    "start_time": "2022-06-22T16:51:25.202Z"
   },
   {
    "duration": 3,
    "start_time": "2022-06-22T17:16:58.436Z"
   },
   {
    "duration": 73,
    "start_time": "2022-06-22T17:16:59.778Z"
   },
   {
    "duration": 14,
    "start_time": "2022-06-22T17:17:03.996Z"
   },
   {
    "duration": 8,
    "start_time": "2022-06-22T17:17:15.759Z"
   },
   {
    "duration": 5,
    "start_time": "2022-06-22T17:17:20.298Z"
   },
   {
    "duration": 4,
    "start_time": "2022-06-22T17:17:27.633Z"
   },
   {
    "duration": 3,
    "start_time": "2022-06-22T17:17:28.952Z"
   },
   {
    "duration": 20,
    "start_time": "2022-06-22T17:17:29.794Z"
   },
   {
    "duration": 12,
    "start_time": "2022-06-22T17:17:31.608Z"
   },
   {
    "duration": 362,
    "start_time": "2022-06-23T17:38:10.312Z"
   },
   {
    "duration": 272,
    "start_time": "2022-06-23T17:38:10.676Z"
   },
   {
    "duration": 24,
    "start_time": "2022-06-23T17:38:10.951Z"
   },
   {
    "duration": 10,
    "start_time": "2022-06-23T17:38:10.977Z"
   },
   {
    "duration": 8,
    "start_time": "2022-06-23T17:38:10.989Z"
   },
   {
    "duration": 6,
    "start_time": "2022-06-23T17:38:10.999Z"
   },
   {
    "duration": 7,
    "start_time": "2022-06-23T17:38:11.007Z"
   },
   {
    "duration": 21,
    "start_time": "2022-06-23T17:38:11.016Z"
   },
   {
    "duration": 28,
    "start_time": "2022-06-23T17:39:55.159Z"
   },
   {
    "duration": 9,
    "start_time": "2022-06-23T17:40:44.508Z"
   },
   {
    "duration": 73,
    "start_time": "2022-06-23T17:41:28.848Z"
   },
   {
    "duration": 17,
    "start_time": "2022-06-23T17:41:47.759Z"
   },
   {
    "duration": 10,
    "start_time": "2022-06-23T17:41:59.074Z"
   },
   {
    "duration": 223,
    "start_time": "2022-06-23T17:43:08.352Z"
   },
   {
    "duration": 216,
    "start_time": "2022-06-23T17:43:43.299Z"
   },
   {
    "duration": 7,
    "start_time": "2022-06-23T17:44:12.600Z"
   },
   {
    "duration": 7,
    "start_time": "2022-06-23T17:44:27.696Z"
   },
   {
    "duration": 7,
    "start_time": "2022-06-23T17:44:59.494Z"
   },
   {
    "duration": 8,
    "start_time": "2022-06-23T17:45:25.004Z"
   },
   {
    "duration": 10,
    "start_time": "2022-06-23T17:45:43.119Z"
   },
   {
    "duration": 11,
    "start_time": "2022-06-23T17:45:59.996Z"
   },
   {
    "duration": 18,
    "start_time": "2022-06-23T17:46:07.258Z"
   },
   {
    "duration": 14,
    "start_time": "2022-06-23T17:46:16.800Z"
   },
   {
    "duration": 11,
    "start_time": "2022-06-23T17:46:30.708Z"
   },
   {
    "duration": 8,
    "start_time": "2022-06-23T17:47:40.606Z"
   },
   {
    "duration": 11,
    "start_time": "2022-06-23T17:47:51.320Z"
   },
   {
    "duration": 379,
    "start_time": "2022-06-23T17:48:52.550Z"
   },
   {
    "duration": 14,
    "start_time": "2022-06-23T17:49:09.145Z"
   },
   {
    "duration": 7,
    "start_time": "2022-06-23T17:49:13.102Z"
   },
   {
    "duration": 510,
    "start_time": "2022-06-23T17:50:42.894Z"
   },
   {
    "duration": 173,
    "start_time": "2022-06-23T17:51:32.938Z"
   },
   {
    "duration": 98,
    "start_time": "2022-06-23T17:54:40.376Z"
   },
   {
    "duration": 96,
    "start_time": "2022-06-23T17:54:50.298Z"
   },
   {
    "duration": 95,
    "start_time": "2022-06-23T17:55:09.628Z"
   },
   {
    "duration": 8,
    "start_time": "2022-06-23T17:55:38.759Z"
   },
   {
    "duration": 12,
    "start_time": "2022-06-23T17:55:41.625Z"
   },
   {
    "duration": 115,
    "start_time": "2022-06-23T17:56:02.052Z"
   },
   {
    "duration": 107,
    "start_time": "2022-06-23T17:57:06.482Z"
   },
   {
    "duration": 103,
    "start_time": "2022-06-23T17:57:19.778Z"
   },
   {
    "duration": 107,
    "start_time": "2022-06-23T17:57:27.030Z"
   },
   {
    "duration": 187,
    "start_time": "2022-06-23T18:00:21.451Z"
   },
   {
    "duration": 127,
    "start_time": "2022-06-23T18:01:55.312Z"
   },
   {
    "duration": 245,
    "start_time": "2022-06-23T18:02:34.049Z"
   },
   {
    "duration": 49,
    "start_time": "2022-06-23T18:03:08.096Z"
   },
   {
    "duration": 254,
    "start_time": "2022-06-23T18:03:23.296Z"
   },
   {
    "duration": 243,
    "start_time": "2022-06-23T18:03:31.711Z"
   },
   {
    "duration": 10,
    "start_time": "2022-06-23T18:03:47.904Z"
   },
   {
    "duration": 115,
    "start_time": "2022-06-23T18:03:59.906Z"
   },
   {
    "duration": 158,
    "start_time": "2022-06-23T18:05:02.864Z"
   },
   {
    "duration": 150,
    "start_time": "2022-06-23T18:05:38.496Z"
   },
   {
    "duration": 130,
    "start_time": "2022-06-23T18:05:51.289Z"
   },
   {
    "duration": 8,
    "start_time": "2022-06-23T18:08:02.439Z"
   },
   {
    "duration": 141,
    "start_time": "2022-06-23T18:08:57.405Z"
   },
   {
    "duration": 148,
    "start_time": "2022-06-23T18:09:51.103Z"
   },
   {
    "duration": 352,
    "start_time": "2022-06-23T18:09:57.900Z"
   },
   {
    "duration": 138,
    "start_time": "2022-06-23T18:10:06.981Z"
   },
   {
    "duration": 13,
    "start_time": "2022-06-23T18:14:35.253Z"
   },
   {
    "duration": 16,
    "start_time": "2022-06-23T18:14:57.317Z"
   },
   {
    "duration": 879,
    "start_time": "2022-06-23T18:16:29.501Z"
   },
   {
    "duration": 81,
    "start_time": "2022-06-23T18:16:52.574Z"
   },
   {
    "duration": 95,
    "start_time": "2022-06-23T18:17:04.292Z"
   },
   {
    "duration": 96,
    "start_time": "2022-06-23T18:18:18.670Z"
   },
   {
    "duration": 107,
    "start_time": "2022-06-23T18:19:30.718Z"
   },
   {
    "duration": 19,
    "start_time": "2022-06-23T18:22:09.774Z"
   },
   {
    "duration": 18,
    "start_time": "2022-06-23T18:22:25.195Z"
   },
   {
    "duration": 12,
    "start_time": "2022-06-23T18:22:45.154Z"
   },
   {
    "duration": 12,
    "start_time": "2022-06-23T18:23:09.972Z"
   },
   {
    "duration": 5,
    "start_time": "2022-06-23T18:23:22.553Z"
   },
   {
    "duration": 136,
    "start_time": "2022-06-23T18:23:36.920Z"
   },
   {
    "duration": 14,
    "start_time": "2022-06-23T18:23:57.300Z"
   },
   {
    "duration": 14,
    "start_time": "2022-06-23T18:24:11.117Z"
   },
   {
    "duration": 108,
    "start_time": "2022-06-23T18:24:24.176Z"
   },
   {
    "duration": 16,
    "start_time": "2022-06-23T18:25:33.502Z"
   },
   {
    "duration": 26,
    "start_time": "2022-06-23T18:26:15.959Z"
   },
   {
    "duration": 18,
    "start_time": "2022-06-23T18:27:11.498Z"
   },
   {
    "duration": 788,
    "start_time": "2022-06-23T18:27:46.181Z"
   },
   {
    "duration": 20,
    "start_time": "2022-06-23T18:28:01.528Z"
   },
   {
    "duration": 144,
    "start_time": "2022-06-23T18:28:06.688Z"
   },
   {
    "duration": 181,
    "start_time": "2022-06-23T18:28:24.658Z"
   },
   {
    "duration": 151,
    "start_time": "2022-06-23T18:28:43.400Z"
   },
   {
    "duration": 246,
    "start_time": "2022-06-23T18:29:22.698Z"
   },
   {
    "duration": 3,
    "start_time": "2022-06-23T18:29:30.832Z"
   },
   {
    "duration": 82,
    "start_time": "2022-06-23T18:29:30.837Z"
   },
   {
    "duration": 14,
    "start_time": "2022-06-23T18:29:30.921Z"
   },
   {
    "duration": 11,
    "start_time": "2022-06-23T18:29:30.938Z"
   },
   {
    "duration": 16,
    "start_time": "2022-06-23T18:29:30.951Z"
   },
   {
    "duration": 12,
    "start_time": "2022-06-23T18:29:30.969Z"
   },
   {
    "duration": 10,
    "start_time": "2022-06-23T18:29:30.983Z"
   },
   {
    "duration": 30,
    "start_time": "2022-06-23T18:29:30.995Z"
   },
   {
    "duration": 15,
    "start_time": "2022-06-23T18:29:31.028Z"
   },
   {
    "duration": 22,
    "start_time": "2022-06-23T18:29:31.045Z"
   },
   {
    "duration": 200,
    "start_time": "2022-06-23T18:29:31.070Z"
   },
   {
    "duration": 11,
    "start_time": "2022-06-23T18:29:31.271Z"
   },
   {
    "duration": 123,
    "start_time": "2022-06-23T18:29:31.283Z"
   },
   {
    "duration": 19,
    "start_time": "2022-06-23T18:29:31.408Z"
   },
   {
    "duration": 153,
    "start_time": "2022-06-23T18:29:34.348Z"
   },
   {
    "duration": 151,
    "start_time": "2022-06-23T18:31:05.360Z"
   },
   {
    "duration": 165,
    "start_time": "2022-06-23T18:32:17.711Z"
   },
   {
    "duration": 130,
    "start_time": "2022-06-23T18:32:30.235Z"
   },
   {
    "duration": 18,
    "start_time": "2022-06-23T18:33:50.569Z"
   },
   {
    "duration": 21,
    "start_time": "2022-06-23T18:34:47.179Z"
   },
   {
    "duration": 27,
    "start_time": "2022-06-23T18:35:07.428Z"
   },
   {
    "duration": 157,
    "start_time": "2022-06-23T18:36:30.490Z"
   },
   {
    "duration": 22,
    "start_time": "2022-06-23T18:39:12.983Z"
   },
   {
    "duration": 152,
    "start_time": "2022-06-23T18:40:41.294Z"
   },
   {
    "duration": 12,
    "start_time": "2022-06-23T18:41:20.368Z"
   },
   {
    "duration": 67,
    "start_time": "2022-06-24T04:41:27.998Z"
   },
   {
    "duration": 1313,
    "start_time": "2022-06-24T04:41:32.122Z"
   },
   {
    "duration": 265,
    "start_time": "2022-06-24T04:41:33.437Z"
   },
   {
    "duration": 13,
    "start_time": "2022-06-24T04:41:33.703Z"
   },
   {
    "duration": 10,
    "start_time": "2022-06-24T04:41:33.718Z"
   },
   {
    "duration": 9,
    "start_time": "2022-06-24T04:41:33.729Z"
   },
   {
    "duration": 5,
    "start_time": "2022-06-24T04:41:33.740Z"
   },
   {
    "duration": 7,
    "start_time": "2022-06-24T04:41:33.747Z"
   },
   {
    "duration": 20,
    "start_time": "2022-06-24T04:41:33.756Z"
   },
   {
    "duration": 10,
    "start_time": "2022-06-24T04:41:33.777Z"
   },
   {
    "duration": 4,
    "start_time": "2022-06-24T04:41:33.789Z"
   },
   {
    "duration": 50,
    "start_time": "2022-06-24T04:41:35.908Z"
   },
   {
    "duration": 110,
    "start_time": "2022-06-24T04:45:00.706Z"
   },
   {
    "duration": 11,
    "start_time": "2022-06-24T04:46:08.410Z"
   },
   {
    "duration": 4,
    "start_time": "2022-06-24T04:46:09.212Z"
   },
   {
    "duration": 10,
    "start_time": "2022-06-24T04:46:10.040Z"
   },
   {
    "duration": 231,
    "start_time": "2022-06-24T04:46:46.653Z"
   },
   {
    "duration": 239,
    "start_time": "2022-06-24T04:46:59.519Z"
   },
   {
    "duration": 200,
    "start_time": "2022-06-24T04:47:02.611Z"
   },
   {
    "duration": 280,
    "start_time": "2022-06-24T04:47:16.935Z"
   },
   {
    "duration": 197,
    "start_time": "2022-06-24T04:47:34.809Z"
   },
   {
    "duration": 127,
    "start_time": "2022-06-24T04:48:00.859Z"
   },
   {
    "duration": 206,
    "start_time": "2022-06-24T04:48:09.703Z"
   },
   {
    "duration": 15,
    "start_time": "2022-06-24T04:48:21.790Z"
   },
   {
    "duration": 17,
    "start_time": "2022-06-24T04:48:26.745Z"
   },
   {
    "duration": 270,
    "start_time": "2022-06-24T04:48:30.246Z"
   },
   {
    "duration": 2,
    "start_time": "2022-06-24T04:48:48.202Z"
   },
   {
    "duration": 94,
    "start_time": "2022-06-24T04:48:48.206Z"
   },
   {
    "duration": 13,
    "start_time": "2022-06-24T04:48:48.302Z"
   },
   {
    "duration": 8,
    "start_time": "2022-06-24T04:48:48.316Z"
   },
   {
    "duration": 31,
    "start_time": "2022-06-24T04:48:48.326Z"
   },
   {
    "duration": 7,
    "start_time": "2022-06-24T04:48:48.358Z"
   },
   {
    "duration": 5,
    "start_time": "2022-06-24T04:48:48.366Z"
   },
   {
    "duration": 93,
    "start_time": "2022-06-24T04:48:48.372Z"
   },
   {
    "duration": 14,
    "start_time": "2022-06-24T04:48:50.899Z"
   },
   {
    "duration": 4,
    "start_time": "2022-06-24T04:48:52.953Z"
   },
   {
    "duration": 235,
    "start_time": "2022-06-24T04:48:53.647Z"
   },
   {
    "duration": 290,
    "start_time": "2022-06-24T04:49:53.100Z"
   },
   {
    "duration": 12,
    "start_time": "2022-06-24T04:50:12.708Z"
   },
   {
    "duration": 319,
    "start_time": "2022-06-24T04:50:16.463Z"
   },
   {
    "duration": 290,
    "start_time": "2022-06-24T04:50:37.472Z"
   },
   {
    "duration": 298,
    "start_time": "2022-06-24T04:50:43.787Z"
   },
   {
    "duration": 312,
    "start_time": "2022-06-24T04:50:49.153Z"
   },
   {
    "duration": 47,
    "start_time": "2022-06-24T04:51:23.373Z"
   },
   {
    "duration": 763,
    "start_time": "2022-06-24T04:51:35.018Z"
   },
   {
    "duration": 289,
    "start_time": "2022-06-24T04:51:58.961Z"
   },
   {
    "duration": 300,
    "start_time": "2022-06-24T04:52:05.357Z"
   },
   {
    "duration": 359,
    "start_time": "2022-06-24T04:52:58.457Z"
   },
   {
    "duration": 77,
    "start_time": "2022-06-24T04:53:10.491Z"
   },
   {
    "duration": 437,
    "start_time": "2022-06-24T04:53:16.354Z"
   },
   {
    "duration": 209,
    "start_time": "2022-06-24T04:53:28.846Z"
   },
   {
    "duration": 200,
    "start_time": "2022-06-24T04:53:35.975Z"
   },
   {
    "duration": 299,
    "start_time": "2022-06-24T04:53:52.804Z"
   },
   {
    "duration": 13,
    "start_time": "2022-06-24T04:55:06.617Z"
   },
   {
    "duration": 3,
    "start_time": "2022-06-24T04:55:12.555Z"
   },
   {
    "duration": 94,
    "start_time": "2022-06-24T04:55:12.560Z"
   },
   {
    "duration": 14,
    "start_time": "2022-06-24T04:55:12.656Z"
   },
   {
    "duration": 19,
    "start_time": "2022-06-24T04:55:12.671Z"
   },
   {
    "duration": 9,
    "start_time": "2022-06-24T04:55:12.692Z"
   },
   {
    "duration": 6,
    "start_time": "2022-06-24T04:55:12.703Z"
   },
   {
    "duration": 6,
    "start_time": "2022-06-24T04:55:12.710Z"
   },
   {
    "duration": 26,
    "start_time": "2022-06-24T04:55:12.718Z"
   },
   {
    "duration": 20,
    "start_time": "2022-06-24T04:55:12.746Z"
   },
   {
    "duration": 55,
    "start_time": "2022-06-24T04:55:12.767Z"
   },
   {
    "duration": 0,
    "start_time": "2022-06-24T04:55:12.824Z"
   },
   {
    "duration": 0,
    "start_time": "2022-06-24T04:55:12.825Z"
   },
   {
    "duration": 0,
    "start_time": "2022-06-24T04:55:12.826Z"
   },
   {
    "duration": 0,
    "start_time": "2022-06-24T04:55:12.829Z"
   },
   {
    "duration": 0,
    "start_time": "2022-06-24T04:55:12.830Z"
   },
   {
    "duration": 0,
    "start_time": "2022-06-24T04:55:12.831Z"
   },
   {
    "duration": 4,
    "start_time": "2022-06-24T04:55:52.340Z"
   },
   {
    "duration": 187,
    "start_time": "2022-06-24T04:55:53.772Z"
   },
   {
    "duration": 13,
    "start_time": "2022-06-24T04:55:57.776Z"
   },
   {
    "duration": 113,
    "start_time": "2022-06-24T04:55:58.770Z"
   },
   {
    "duration": 18,
    "start_time": "2022-06-24T04:56:02.699Z"
   },
   {
    "duration": 167,
    "start_time": "2022-06-24T04:56:05.742Z"
   },
   {
    "duration": 156,
    "start_time": "2022-06-24T04:56:08.924Z"
   },
   {
    "duration": 178,
    "start_time": "2022-06-24T04:56:11.929Z"
   },
   {
    "duration": 17,
    "start_time": "2022-06-24T04:56:31.684Z"
   },
   {
    "duration": 177,
    "start_time": "2022-06-24T04:56:43.482Z"
   },
   {
    "duration": 64,
    "start_time": "2022-06-24T04:57:11.234Z"
   },
   {
    "duration": 74,
    "start_time": "2022-06-24T04:57:34.692Z"
   },
   {
    "duration": 280,
    "start_time": "2022-06-24T04:57:45.913Z"
   },
   {
    "duration": 279,
    "start_time": "2022-06-24T04:58:11.095Z"
   },
   {
    "duration": 272,
    "start_time": "2022-06-24T04:58:15.270Z"
   },
   {
    "duration": 273,
    "start_time": "2022-06-24T04:58:21.318Z"
   },
   {
    "duration": 355,
    "start_time": "2022-06-24T04:58:32.706Z"
   },
   {
    "duration": 268,
    "start_time": "2022-06-24T04:58:38.499Z"
   },
   {
    "duration": 1141,
    "start_time": "2022-06-24T04:58:59.757Z"
   },
   {
    "duration": 8,
    "start_time": "2022-06-24T04:59:41.475Z"
   },
   {
    "duration": 9,
    "start_time": "2022-06-24T05:00:37.285Z"
   },
   {
    "duration": 206,
    "start_time": "2022-06-24T05:00:48.218Z"
   },
   {
    "duration": 228,
    "start_time": "2022-06-24T05:01:05.220Z"
   },
   {
    "duration": 154,
    "start_time": "2022-06-24T05:01:34.406Z"
   },
   {
    "duration": 202,
    "start_time": "2022-06-24T05:02:08.810Z"
   },
   {
    "duration": 26,
    "start_time": "2022-06-24T05:03:18.158Z"
   },
   {
    "duration": 28,
    "start_time": "2022-06-24T05:03:39.258Z"
   },
   {
    "duration": 26,
    "start_time": "2022-06-24T05:05:02.551Z"
   },
   {
    "duration": 20,
    "start_time": "2022-06-24T05:05:25.687Z"
   },
   {
    "duration": 19,
    "start_time": "2022-06-24T05:11:28.799Z"
   },
   {
    "duration": 27,
    "start_time": "2022-06-24T05:11:39.423Z"
   },
   {
    "duration": 191,
    "start_time": "2022-06-24T05:11:52.671Z"
   },
   {
    "duration": 211,
    "start_time": "2022-06-24T05:13:37.664Z"
   },
   {
    "duration": 196,
    "start_time": "2022-06-24T05:13:49.787Z"
   },
   {
    "duration": 221,
    "start_time": "2022-06-24T05:14:03.604Z"
   },
   {
    "duration": 1536,
    "start_time": "2022-06-24T05:14:12.448Z"
   },
   {
    "duration": 201,
    "start_time": "2022-06-24T05:14:20.763Z"
   },
   {
    "duration": 23,
    "start_time": "2022-06-24T05:15:01.019Z"
   },
   {
    "duration": 30,
    "start_time": "2022-06-24T05:15:30.644Z"
   },
   {
    "duration": 16,
    "start_time": "2022-06-24T05:15:58.667Z"
   },
   {
    "duration": 17,
    "start_time": "2022-06-24T05:16:25.698Z"
   },
   {
    "duration": 1401,
    "start_time": "2022-06-24T05:16:34.029Z"
   },
   {
    "duration": 26,
    "start_time": "2022-06-24T05:16:58.649Z"
   },
   {
    "duration": 297,
    "start_time": "2022-06-24T05:17:03.754Z"
   },
   {
    "duration": 182,
    "start_time": "2022-06-24T05:17:15.276Z"
   },
   {
    "duration": 179,
    "start_time": "2022-06-24T05:17:49.323Z"
   },
   {
    "duration": 192,
    "start_time": "2022-06-24T05:18:03.576Z"
   },
   {
    "duration": 163,
    "start_time": "2022-06-24T05:18:22.162Z"
   },
   {
    "duration": 179,
    "start_time": "2022-06-24T05:18:27.193Z"
   },
   {
    "duration": 187,
    "start_time": "2022-06-24T05:18:32.258Z"
   },
   {
    "duration": 172,
    "start_time": "2022-06-24T05:18:49.449Z"
   },
   {
    "duration": 281,
    "start_time": "2022-06-24T05:19:09.562Z"
   },
   {
    "duration": 14,
    "start_time": "2022-06-24T05:19:30.054Z"
   },
   {
    "duration": 20,
    "start_time": "2022-06-24T05:19:40.563Z"
   },
   {
    "duration": 188,
    "start_time": "2022-06-24T05:19:41.902Z"
   },
   {
    "duration": 38,
    "start_time": "2022-06-24T05:19:51.213Z"
   },
   {
    "duration": 191,
    "start_time": "2022-06-24T05:19:58.520Z"
   },
   {
    "duration": 285,
    "start_time": "2022-06-24T05:20:02.183Z"
   },
   {
    "duration": 8,
    "start_time": "2022-06-24T05:29:17.973Z"
   },
   {
    "duration": 9,
    "start_time": "2022-06-24T05:29:25.510Z"
   },
   {
    "duration": 41,
    "start_time": "2022-06-24T05:32:59.133Z"
   },
   {
    "duration": 40,
    "start_time": "2022-06-24T05:33:05.073Z"
   },
   {
    "duration": 16,
    "start_time": "2022-06-24T05:35:45.382Z"
   },
   {
    "duration": 17,
    "start_time": "2022-06-24T05:36:16.748Z"
   },
   {
    "duration": 19,
    "start_time": "2022-06-24T05:36:29.627Z"
   },
   {
    "duration": 3,
    "start_time": "2022-06-24T06:03:45.183Z"
   },
   {
    "duration": 20,
    "start_time": "2022-06-24T06:06:10.484Z"
   },
   {
    "duration": 7,
    "start_time": "2022-06-24T06:07:34.850Z"
   },
   {
    "duration": 94,
    "start_time": "2022-06-24T06:07:34.859Z"
   },
   {
    "duration": 13,
    "start_time": "2022-06-24T06:07:34.956Z"
   },
   {
    "duration": 10,
    "start_time": "2022-06-24T06:07:34.971Z"
   },
   {
    "duration": 5,
    "start_time": "2022-06-24T06:07:34.984Z"
   },
   {
    "duration": 5,
    "start_time": "2022-06-24T06:07:34.991Z"
   },
   {
    "duration": 5,
    "start_time": "2022-06-24T06:07:34.998Z"
   },
   {
    "duration": 54,
    "start_time": "2022-06-24T06:07:35.005Z"
   },
   {
    "duration": 10,
    "start_time": "2022-06-24T06:07:35.060Z"
   },
   {
    "duration": 5,
    "start_time": "2022-06-24T06:07:35.072Z"
   },
   {
    "duration": 200,
    "start_time": "2022-06-24T06:07:35.079Z"
   },
   {
    "duration": 11,
    "start_time": "2022-06-24T06:07:35.281Z"
   },
   {
    "duration": 119,
    "start_time": "2022-06-24T06:07:35.293Z"
   },
   {
    "duration": 27,
    "start_time": "2022-06-24T06:07:35.414Z"
   },
   {
    "duration": 180,
    "start_time": "2022-06-24T06:07:35.451Z"
   },
   {
    "duration": 30,
    "start_time": "2022-06-24T06:07:35.636Z"
   },
   {
    "duration": 197,
    "start_time": "2022-06-24T06:07:35.668Z"
   },
   {
    "duration": 17,
    "start_time": "2022-06-24T06:07:35.867Z"
   },
   {
    "duration": 206,
    "start_time": "2022-06-24T06:07:35.885Z"
   },
   {
    "duration": 3,
    "start_time": "2022-06-24T06:07:36.092Z"
   },
   {
    "duration": 20,
    "start_time": "2022-06-24T06:07:38.011Z"
   },
   {
    "duration": 4,
    "start_time": "2022-06-24T06:07:58.096Z"
   },
   {
    "duration": 4,
    "start_time": "2022-06-24T06:14:12.372Z"
   },
   {
    "duration": 164,
    "start_time": "2022-06-24T06:14:18.300Z"
   },
   {
    "duration": 4,
    "start_time": "2022-06-24T06:15:58.201Z"
   },
   {
    "duration": 192,
    "start_time": "2022-06-24T06:15:58.815Z"
   },
   {
    "duration": 14,
    "start_time": "2022-06-24T06:16:04.249Z"
   },
   {
    "duration": 19,
    "start_time": "2022-06-24T06:17:08.128Z"
   },
   {
    "duration": 42,
    "start_time": "2022-06-24T06:17:20.812Z"
   },
   {
    "duration": 17,
    "start_time": "2022-06-24T06:17:31.574Z"
   },
   {
    "duration": 4,
    "start_time": "2022-06-24T06:18:12.290Z"
   },
   {
    "duration": 215,
    "start_time": "2022-06-24T06:18:14.716Z"
   },
   {
    "duration": 15,
    "start_time": "2022-06-24T06:18:18.712Z"
   },
   {
    "duration": 208,
    "start_time": "2022-06-24T06:18:41.577Z"
   },
   {
    "duration": 18,
    "start_time": "2022-06-24T06:18:46.979Z"
   },
   {
    "duration": 1296,
    "start_time": "2022-06-25T15:07:00.115Z"
   },
   {
    "duration": 122,
    "start_time": "2022-06-25T15:07:01.413Z"
   },
   {
    "duration": 12,
    "start_time": "2022-06-25T15:07:01.537Z"
   },
   {
    "duration": 8,
    "start_time": "2022-06-25T15:07:01.551Z"
   },
   {
    "duration": 8,
    "start_time": "2022-06-25T15:07:01.561Z"
   },
   {
    "duration": 7,
    "start_time": "2022-06-25T15:07:01.570Z"
   },
   {
    "duration": 19,
    "start_time": "2022-06-25T15:07:01.578Z"
   },
   {
    "duration": 10,
    "start_time": "2022-06-25T15:13:41.210Z"
   },
   {
    "duration": 4,
    "start_time": "2022-06-25T15:14:00.855Z"
   },
   {
    "duration": 163,
    "start_time": "2022-06-25T15:14:01.822Z"
   },
   {
    "duration": 10,
    "start_time": "2022-06-25T15:44:42.321Z"
   },
   {
    "duration": 99,
    "start_time": "2022-06-25T15:44:45.117Z"
   },
   {
    "duration": 527,
    "start_time": "2022-06-25T15:45:14.021Z"
   },
   {
    "duration": 13,
    "start_time": "2022-06-25T15:45:25.455Z"
   },
   {
    "duration": 19,
    "start_time": "2022-06-25T15:49:11.000Z"
   },
   {
    "duration": 354,
    "start_time": "2022-06-25T15:49:49.095Z"
   },
   {
    "duration": 11,
    "start_time": "2022-06-25T15:49:55.665Z"
   },
   {
    "duration": 13,
    "start_time": "2022-06-25T15:50:53.052Z"
   },
   {
    "duration": 23,
    "start_time": "2022-06-25T15:52:33.947Z"
   },
   {
    "duration": 16,
    "start_time": "2022-06-25T15:54:08.285Z"
   },
   {
    "duration": 19,
    "start_time": "2022-06-25T15:54:53.536Z"
   },
   {
    "duration": 200,
    "start_time": "2022-06-25T15:55:56.091Z"
   },
   {
    "duration": 22,
    "start_time": "2022-06-25T15:59:24.104Z"
   },
   {
    "duration": 18,
    "start_time": "2022-06-25T16:00:42.253Z"
   },
   {
    "duration": 410,
    "start_time": "2022-06-25T16:02:33.881Z"
   },
   {
    "duration": 31,
    "start_time": "2022-06-25T16:02:52.985Z"
   },
   {
    "duration": 32,
    "start_time": "2022-06-25T16:04:19.158Z"
   },
   {
    "duration": 245,
    "start_time": "2022-06-25T16:10:34.199Z"
   },
   {
    "duration": 207,
    "start_time": "2022-06-25T16:11:12.062Z"
   },
   {
    "duration": 205,
    "start_time": "2022-06-25T16:16:22.960Z"
   },
   {
    "duration": 223,
    "start_time": "2022-06-25T16:17:00.006Z"
   },
   {
    "duration": 4,
    "start_time": "2022-06-25T16:19:58.809Z"
   },
   {
    "duration": 3,
    "start_time": "2022-06-25T16:20:05.718Z"
   },
   {
    "duration": 158,
    "start_time": "2022-06-25T16:20:16.830Z"
   },
   {
    "duration": 186,
    "start_time": "2022-06-25T16:20:21.960Z"
   },
   {
    "duration": 160,
    "start_time": "2022-06-25T16:20:26.923Z"
   },
   {
    "duration": 225,
    "start_time": "2022-06-25T16:20:43.770Z"
   },
   {
    "duration": 222,
    "start_time": "2022-06-25T16:20:53.386Z"
   },
   {
    "duration": 9,
    "start_time": "2022-06-25T16:22:33.758Z"
   },
   {
    "duration": 596,
    "start_time": "2022-06-25T16:23:08.654Z"
   },
   {
    "duration": 597,
    "start_time": "2022-06-25T16:24:15.847Z"
   },
   {
    "duration": 547,
    "start_time": "2022-06-25T16:24:28.695Z"
   },
   {
    "duration": 617,
    "start_time": "2022-06-25T16:24:48.929Z"
   },
   {
    "duration": 489,
    "start_time": "2022-06-25T16:25:24.561Z"
   },
   {
    "duration": 644,
    "start_time": "2022-06-25T16:25:34.665Z"
   },
   {
    "duration": 523,
    "start_time": "2022-06-25T16:26:14.017Z"
   },
   {
    "duration": 241,
    "start_time": "2022-06-25T16:26:58.327Z"
   },
   {
    "duration": 15,
    "start_time": "2022-06-25T16:30:03.128Z"
   },
   {
    "duration": 59,
    "start_time": "2022-06-25T16:32:56.011Z"
   },
   {
    "duration": 39,
    "start_time": "2022-06-25T16:33:41.183Z"
   },
   {
    "duration": 231,
    "start_time": "2022-06-25T16:34:22.704Z"
   },
   {
    "duration": 217,
    "start_time": "2022-06-25T16:35:29.823Z"
   },
   {
    "duration": 259,
    "start_time": "2022-06-25T16:35:39.141Z"
   },
   {
    "duration": 601,
    "start_time": "2022-06-25T16:37:01.972Z"
   },
   {
    "duration": 215,
    "start_time": "2022-06-25T16:37:44.108Z"
   },
   {
    "duration": 4,
    "start_time": "2022-06-25T16:43:01.128Z"
   },
   {
    "duration": 4,
    "start_time": "2022-06-25T16:43:31.607Z"
   },
   {
    "duration": 5,
    "start_time": "2022-06-25T16:44:38.979Z"
   },
   {
    "duration": 42,
    "start_time": "2022-06-25T16:46:02.656Z"
   },
   {
    "duration": 36,
    "start_time": "2022-06-25T16:46:17.468Z"
   },
   {
    "duration": 36,
    "start_time": "2022-06-25T16:47:49.999Z"
   },
   {
    "duration": 5,
    "start_time": "2022-06-25T16:48:14.143Z"
   },
   {
    "duration": 213,
    "start_time": "2022-06-25T16:48:43.900Z"
   },
   {
    "duration": 16,
    "start_time": "2022-06-25T16:49:25.437Z"
   },
   {
    "duration": 158,
    "start_time": "2022-06-25T16:49:40.122Z"
   },
   {
    "duration": 5,
    "start_time": "2022-06-25T16:54:13.226Z"
   },
   {
    "duration": 166,
    "start_time": "2022-06-25T16:54:14.460Z"
   },
   {
    "duration": 20,
    "start_time": "2022-06-25T16:54:31.903Z"
   },
   {
    "duration": 4,
    "start_time": "2022-06-25T16:56:51.219Z"
   },
   {
    "duration": 18,
    "start_time": "2022-06-25T16:56:55.790Z"
   },
   {
    "duration": 5,
    "start_time": "2022-06-25T16:58:02.832Z"
   },
   {
    "duration": 180,
    "start_time": "2022-06-25T16:58:05.551Z"
   },
   {
    "duration": 17,
    "start_time": "2022-06-25T16:58:08.365Z"
   },
   {
    "duration": 12,
    "start_time": "2022-06-25T16:58:11.765Z"
   },
   {
    "duration": 15,
    "start_time": "2022-06-25T16:58:50.058Z"
   },
   {
    "duration": 179,
    "start_time": "2022-06-25T16:58:51.318Z"
   },
   {
    "duration": 17,
    "start_time": "2022-06-25T16:58:53.042Z"
   },
   {
    "duration": 13,
    "start_time": "2022-06-25T16:58:56.893Z"
   },
   {
    "duration": 5,
    "start_time": "2022-06-25T16:59:35.871Z"
   },
   {
    "duration": 190,
    "start_time": "2022-06-25T16:59:36.508Z"
   },
   {
    "duration": 16,
    "start_time": "2022-06-25T16:59:37.763Z"
   },
   {
    "duration": 12,
    "start_time": "2022-06-25T16:59:43.497Z"
   },
   {
    "duration": 5,
    "start_time": "2022-06-25T17:00:37.132Z"
   },
   {
    "duration": 177,
    "start_time": "2022-06-25T17:00:38.167Z"
   },
   {
    "duration": 16,
    "start_time": "2022-06-25T17:00:41.064Z"
   },
   {
    "duration": 5,
    "start_time": "2022-06-25T17:00:51.425Z"
   },
   {
    "duration": 181,
    "start_time": "2022-06-25T17:00:52.342Z"
   },
   {
    "duration": 11,
    "start_time": "2022-06-25T17:00:57.049Z"
   },
   {
    "duration": 15,
    "start_time": "2022-06-25T17:01:16.805Z"
   },
   {
    "duration": 5,
    "start_time": "2022-06-25T17:02:46.199Z"
   },
   {
    "duration": 221,
    "start_time": "2022-06-25T17:03:16.845Z"
   },
   {
    "duration": 11,
    "start_time": "2022-06-25T17:03:22.366Z"
   },
   {
    "duration": 14,
    "start_time": "2022-06-25T17:03:24.909Z"
   },
   {
    "duration": 13,
    "start_time": "2022-06-25T17:05:59.406Z"
   },
   {
    "duration": 16,
    "start_time": "2022-06-25T17:06:34.407Z"
   },
   {
    "duration": 37067,
    "start_time": "2022-06-25T17:09:07.406Z"
   },
   {
    "duration": 3,
    "start_time": "2022-06-25T17:09:44.475Z"
   },
   {
    "duration": 75,
    "start_time": "2022-06-25T17:09:44.480Z"
   },
   {
    "duration": 14,
    "start_time": "2022-06-25T17:09:44.557Z"
   },
   {
    "duration": 6,
    "start_time": "2022-06-25T17:09:44.573Z"
   },
   {
    "duration": 5,
    "start_time": "2022-06-25T17:09:44.581Z"
   },
   {
    "duration": 12,
    "start_time": "2022-06-25T17:09:44.588Z"
   },
   {
    "duration": 41,
    "start_time": "2022-06-25T17:09:44.602Z"
   },
   {
    "duration": 11,
    "start_time": "2022-06-25T17:09:44.644Z"
   },
   {
    "duration": 4,
    "start_time": "2022-06-25T17:09:44.657Z"
   },
   {
    "duration": 181,
    "start_time": "2022-06-25T17:09:44.662Z"
   },
   {
    "duration": 12,
    "start_time": "2022-06-25T17:09:44.845Z"
   },
   {
    "duration": 131,
    "start_time": "2022-06-25T17:09:44.859Z"
   },
   {
    "duration": 21,
    "start_time": "2022-06-25T17:09:44.991Z"
   },
   {
    "duration": 176,
    "start_time": "2022-06-25T17:09:45.014Z"
   },
   {
    "duration": 41,
    "start_time": "2022-06-25T17:09:45.191Z"
   },
   {
    "duration": 221,
    "start_time": "2022-06-25T17:09:45.233Z"
   },
   {
    "duration": 17,
    "start_time": "2022-06-25T17:09:45.456Z"
   },
   {
    "duration": 182,
    "start_time": "2022-06-25T17:09:45.474Z"
   },
   {
    "duration": 4,
    "start_time": "2022-06-25T17:09:45.658Z"
   },
   {
    "duration": 202,
    "start_time": "2022-06-25T17:09:45.664Z"
   },
   {
    "duration": 13,
    "start_time": "2022-06-25T17:09:45.868Z"
   },
   {
    "duration": 15,
    "start_time": "2022-06-25T17:09:53.415Z"
   },
   {
    "duration": 37531,
    "start_time": "2022-06-25T17:09:54.738Z"
   },
   {
    "duration": 15,
    "start_time": "2022-06-25T17:10:32.272Z"
   },
   {
    "duration": 176,
    "start_time": "2022-06-25T17:10:45.201Z"
   },
   {
    "duration": 5,
    "start_time": "2022-06-25T17:21:20.963Z"
   },
   {
    "duration": 189,
    "start_time": "2022-06-25T17:21:24.262Z"
   },
   {
    "duration": 12,
    "start_time": "2022-06-25T17:21:28.973Z"
   },
   {
    "duration": 17,
    "start_time": "2022-06-25T17:21:32.232Z"
   },
   {
    "duration": 241,
    "start_time": "2022-06-25T17:21:35.963Z"
   },
   {
    "duration": 1013,
    "start_time": "2022-06-25T17:36:38.211Z"
   },
   {
    "duration": 913,
    "start_time": "2022-06-25T17:36:44.450Z"
   },
   {
    "duration": 895,
    "start_time": "2022-06-25T17:44:52.646Z"
   },
   {
    "duration": 859,
    "start_time": "2022-06-25T17:45:04.094Z"
   },
   {
    "duration": 834,
    "start_time": "2022-06-25T17:45:45.557Z"
   },
   {
    "duration": 1040,
    "start_time": "2022-06-25T17:49:09.957Z"
   },
   {
    "duration": 876,
    "start_time": "2022-06-25T17:49:25.311Z"
   },
   {
    "duration": 892,
    "start_time": "2022-06-25T17:49:37.173Z"
   },
   {
    "duration": 939,
    "start_time": "2022-06-25T17:51:42.475Z"
   },
   {
    "duration": 14,
    "start_time": "2022-06-25T17:52:12.807Z"
   },
   {
    "duration": 10,
    "start_time": "2022-06-25T17:53:53.911Z"
   },
   {
    "duration": 10,
    "start_time": "2022-06-25T17:54:42.070Z"
   },
   {
    "duration": 13,
    "start_time": "2022-06-25T17:54:51.417Z"
   },
   {
    "duration": 25,
    "start_time": "2022-06-25T18:01:17.745Z"
   },
   {
    "duration": 16,
    "start_time": "2022-06-25T18:02:40.470Z"
   },
   {
    "duration": 13,
    "start_time": "2022-06-25T18:03:20.327Z"
   },
   {
    "duration": 16,
    "start_time": "2022-06-25T18:11:50.808Z"
   },
   {
    "duration": 5,
    "start_time": "2022-06-25T18:15:55.518Z"
   },
   {
    "duration": 10,
    "start_time": "2022-06-25T18:16:22.935Z"
   },
   {
    "duration": 15,
    "start_time": "2022-06-25T18:17:04.080Z"
   },
   {
    "duration": 15,
    "start_time": "2022-06-25T18:17:15.322Z"
   },
   {
    "duration": 10,
    "start_time": "2022-06-25T18:18:51.414Z"
   },
   {
    "duration": 15,
    "start_time": "2022-06-25T18:18:58.614Z"
   },
   {
    "duration": 11,
    "start_time": "2022-06-25T18:20:34.315Z"
   },
   {
    "duration": 13,
    "start_time": "2022-06-25T18:20:54.682Z"
   },
   {
    "duration": 10,
    "start_time": "2022-06-25T18:21:00.728Z"
   },
   {
    "duration": 12,
    "start_time": "2022-06-25T18:21:13.314Z"
   },
   {
    "duration": 10,
    "start_time": "2022-06-25T18:21:58.764Z"
   },
   {
    "duration": 3,
    "start_time": "2022-06-25T18:24:05.917Z"
   },
   {
    "duration": 78,
    "start_time": "2022-06-25T18:24:05.921Z"
   },
   {
    "duration": 16,
    "start_time": "2022-06-25T18:24:06.001Z"
   },
   {
    "duration": 13,
    "start_time": "2022-06-25T18:24:06.019Z"
   },
   {
    "duration": 11,
    "start_time": "2022-06-25T18:24:06.035Z"
   },
   {
    "duration": 16,
    "start_time": "2022-06-25T18:24:06.048Z"
   },
   {
    "duration": 26,
    "start_time": "2022-06-25T18:24:06.066Z"
   },
   {
    "duration": 11,
    "start_time": "2022-06-25T18:24:06.094Z"
   },
   {
    "duration": 22,
    "start_time": "2022-06-25T18:24:06.107Z"
   },
   {
    "duration": 182,
    "start_time": "2022-06-25T18:24:06.131Z"
   },
   {
    "duration": 19,
    "start_time": "2022-06-25T18:24:06.315Z"
   },
   {
    "duration": 109,
    "start_time": "2022-06-25T18:24:06.335Z"
   },
   {
    "duration": 21,
    "start_time": "2022-06-25T18:24:06.446Z"
   },
   {
    "duration": 174,
    "start_time": "2022-06-25T18:24:06.469Z"
   },
   {
    "duration": 33,
    "start_time": "2022-06-25T18:24:06.644Z"
   },
   {
    "duration": 224,
    "start_time": "2022-06-25T18:24:06.678Z"
   },
   {
    "duration": 26,
    "start_time": "2022-06-25T18:24:06.904Z"
   },
   {
    "duration": 161,
    "start_time": "2022-06-25T18:24:06.932Z"
   },
   {
    "duration": 4,
    "start_time": "2022-06-25T18:24:07.095Z"
   },
   {
    "duration": 215,
    "start_time": "2022-06-25T18:24:07.100Z"
   },
   {
    "duration": 20,
    "start_time": "2022-06-25T18:24:07.317Z"
   },
   {
    "duration": 17,
    "start_time": "2022-06-25T18:24:07.338Z"
   },
   {
    "duration": 201,
    "start_time": "2022-06-25T18:24:07.357Z"
   },
   {
    "duration": 1343,
    "start_time": "2022-06-25T18:24:07.560Z"
   },
   {
    "duration": 13,
    "start_time": "2022-06-25T18:24:08.904Z"
   },
   {
    "duration": 12,
    "start_time": "2022-06-25T18:24:08.918Z"
   },
   {
    "duration": 15,
    "start_time": "2022-06-25T18:24:12.217Z"
   },
   {
    "duration": 13,
    "start_time": "2022-06-25T18:25:43.552Z"
   },
   {
    "duration": 12,
    "start_time": "2022-06-25T18:26:26.036Z"
   },
   {
    "duration": 14,
    "start_time": "2022-06-25T18:26:49.042Z"
   },
   {
    "duration": 15,
    "start_time": "2022-06-25T18:27:17.859Z"
   },
   {
    "duration": 12,
    "start_time": "2022-06-25T18:27:33.053Z"
   },
   {
    "duration": 12,
    "start_time": "2022-06-25T18:28:20.820Z"
   },
   {
    "duration": 1172,
    "start_time": "2022-06-25T18:29:35.738Z"
   },
   {
    "duration": 14,
    "start_time": "2022-06-25T18:29:42.116Z"
   },
   {
    "duration": 12,
    "start_time": "2022-06-25T18:29:50.504Z"
   },
   {
    "duration": 16,
    "start_time": "2022-06-25T18:29:56.522Z"
   },
   {
    "duration": 14,
    "start_time": "2022-06-25T18:30:04.649Z"
   },
   {
    "duration": 11,
    "start_time": "2022-06-25T18:30:11.851Z"
   },
   {
    "duration": 12,
    "start_time": "2022-06-25T18:30:22.818Z"
   },
   {
    "duration": 10,
    "start_time": "2022-06-25T18:30:47.529Z"
   },
   {
    "duration": 10,
    "start_time": "2022-06-25T18:31:26.520Z"
   },
   {
    "duration": 10,
    "start_time": "2022-06-25T18:31:47.251Z"
   },
   {
    "duration": 13,
    "start_time": "2022-06-25T18:33:16.514Z"
   },
   {
    "duration": 10,
    "start_time": "2022-06-25T18:33:39.402Z"
   },
   {
    "duration": 13,
    "start_time": "2022-06-25T18:41:52.461Z"
   },
   {
    "duration": 10,
    "start_time": "2022-06-25T18:42:57.409Z"
   },
   {
    "duration": 3,
    "start_time": "2022-06-25T19:05:52.344Z"
   },
   {
    "duration": 74,
    "start_time": "2022-06-25T19:05:52.354Z"
   },
   {
    "duration": 17,
    "start_time": "2022-06-25T19:05:52.445Z"
   },
   {
    "duration": 10,
    "start_time": "2022-06-25T19:05:52.463Z"
   },
   {
    "duration": 7,
    "start_time": "2022-06-25T19:05:52.474Z"
   },
   {
    "duration": 13,
    "start_time": "2022-06-25T19:05:52.483Z"
   },
   {
    "duration": 24,
    "start_time": "2022-06-25T19:05:52.498Z"
   },
   {
    "duration": 18,
    "start_time": "2022-06-25T19:05:52.524Z"
   },
   {
    "duration": 18,
    "start_time": "2022-06-25T19:05:52.544Z"
   },
   {
    "duration": 160,
    "start_time": "2022-06-25T19:05:52.563Z"
   },
   {
    "duration": 18,
    "start_time": "2022-06-25T19:05:52.724Z"
   },
   {
    "duration": 114,
    "start_time": "2022-06-25T19:05:52.745Z"
   },
   {
    "duration": 20,
    "start_time": "2022-06-25T19:05:52.860Z"
   },
   {
    "duration": 168,
    "start_time": "2022-06-25T19:05:52.882Z"
   },
   {
    "duration": 36,
    "start_time": "2022-06-25T19:05:53.053Z"
   },
   {
    "duration": 266,
    "start_time": "2022-06-25T19:05:53.091Z"
   },
   {
    "duration": 15,
    "start_time": "2022-06-25T19:05:53.359Z"
   },
   {
    "duration": 192,
    "start_time": "2022-06-25T19:05:53.376Z"
   },
   {
    "duration": 4,
    "start_time": "2022-06-25T19:05:53.570Z"
   },
   {
    "duration": 233,
    "start_time": "2022-06-25T19:05:53.576Z"
   },
   {
    "duration": 24,
    "start_time": "2022-06-25T19:05:53.810Z"
   },
   {
    "duration": 50,
    "start_time": "2022-06-25T19:05:53.835Z"
   },
   {
    "duration": 209,
    "start_time": "2022-06-25T19:05:53.887Z"
   },
   {
    "duration": 875,
    "start_time": "2022-06-25T19:05:54.098Z"
   },
   {
    "duration": 13,
    "start_time": "2022-06-25T19:05:54.975Z"
   },
   {
    "duration": 20,
    "start_time": "2022-06-25T19:05:54.990Z"
   },
   {
    "duration": 39,
    "start_time": "2022-06-25T19:05:55.011Z"
   },
   {
    "duration": 24,
    "start_time": "2022-06-25T19:05:55.052Z"
   },
   {
    "duration": 17,
    "start_time": "2022-06-25T19:05:55.078Z"
   },
   {
    "duration": 26,
    "start_time": "2022-06-25T19:05:55.096Z"
   },
   {
    "duration": 39,
    "start_time": "2022-06-25T19:05:55.124Z"
   },
   {
    "duration": 26,
    "start_time": "2022-06-25T19:05:55.165Z"
   },
   {
    "duration": 24,
    "start_time": "2022-06-25T19:05:55.192Z"
   },
   {
    "duration": 18,
    "start_time": "2022-06-25T19:35:24.853Z"
   },
   {
    "duration": 18,
    "start_time": "2022-06-25T19:35:42.404Z"
   },
   {
    "duration": 34,
    "start_time": "2022-06-25T19:35:52.524Z"
   },
   {
    "duration": 32,
    "start_time": "2022-06-25T19:36:06.316Z"
   },
   {
    "duration": 17,
    "start_time": "2022-06-25T19:36:11.563Z"
   },
   {
    "duration": 33,
    "start_time": "2022-06-25T19:38:05.720Z"
   },
   {
    "duration": 176,
    "start_time": "2022-06-25T19:38:09.889Z"
   },
   {
    "duration": 31,
    "start_time": "2022-06-25T19:38:12.855Z"
   },
   {
    "duration": 4,
    "start_time": "2022-06-25T19:58:55.626Z"
   },
   {
    "duration": 87,
    "start_time": "2022-06-25T19:58:55.631Z"
   },
   {
    "duration": 22,
    "start_time": "2022-06-25T19:58:55.720Z"
   },
   {
    "duration": 8,
    "start_time": "2022-06-25T19:58:55.744Z"
   },
   {
    "duration": 4,
    "start_time": "2022-06-25T19:58:55.755Z"
   },
   {
    "duration": 10,
    "start_time": "2022-06-25T19:58:55.761Z"
   },
   {
    "duration": 17,
    "start_time": "2022-06-25T19:58:55.773Z"
   },
   {
    "duration": 9,
    "start_time": "2022-06-25T19:58:55.792Z"
   },
   {
    "duration": 37,
    "start_time": "2022-06-25T19:58:55.803Z"
   },
   {
    "duration": 181,
    "start_time": "2022-06-25T19:58:55.842Z"
   },
   {
    "duration": 25,
    "start_time": "2022-06-25T19:58:56.026Z"
   },
   {
    "duration": 122,
    "start_time": "2022-06-25T19:58:56.053Z"
   },
   {
    "duration": 28,
    "start_time": "2022-06-25T19:58:56.177Z"
   },
   {
    "duration": 211,
    "start_time": "2022-06-25T19:58:56.207Z"
   },
   {
    "duration": 44,
    "start_time": "2022-06-25T19:58:56.420Z"
   },
   {
    "duration": 230,
    "start_time": "2022-06-25T19:58:56.466Z"
   },
   {
    "duration": 15,
    "start_time": "2022-06-25T19:58:56.697Z"
   },
   {
    "duration": 191,
    "start_time": "2022-06-25T19:58:56.713Z"
   },
   {
    "duration": 4,
    "start_time": "2022-06-25T19:58:56.905Z"
   },
   {
    "duration": 203,
    "start_time": "2022-06-25T19:58:56.911Z"
   },
   {
    "duration": 25,
    "start_time": "2022-06-25T19:58:57.116Z"
   },
   {
    "duration": 14,
    "start_time": "2022-06-25T19:58:57.142Z"
   },
   {
    "duration": 187,
    "start_time": "2022-06-25T19:58:57.158Z"
   },
   {
    "duration": 1331,
    "start_time": "2022-06-25T19:58:57.347Z"
   },
   {
    "duration": 12,
    "start_time": "2022-06-25T19:58:58.680Z"
   },
   {
    "duration": 10,
    "start_time": "2022-06-25T19:58:58.694Z"
   },
   {
    "duration": 20,
    "start_time": "2022-06-25T19:58:58.705Z"
   },
   {
    "duration": 22,
    "start_time": "2022-06-25T19:58:58.726Z"
   },
   {
    "duration": 11,
    "start_time": "2022-06-25T19:58:58.750Z"
   },
   {
    "duration": 11,
    "start_time": "2022-06-25T19:58:58.763Z"
   },
   {
    "duration": 11,
    "start_time": "2022-06-25T19:58:58.775Z"
   },
   {
    "duration": 12,
    "start_time": "2022-06-25T19:58:58.787Z"
   },
   {
    "duration": 38,
    "start_time": "2022-06-25T19:58:58.800Z"
   },
   {
    "duration": 64,
    "start_time": "2022-06-26T05:17:58.367Z"
   },
   {
    "duration": 43,
    "start_time": "2022-06-26T05:18:07.930Z"
   },
   {
    "duration": 1258,
    "start_time": "2022-06-26T05:18:14.329Z"
   },
   {
    "duration": 267,
    "start_time": "2022-06-26T05:18:15.589Z"
   },
   {
    "duration": 12,
    "start_time": "2022-06-26T05:18:15.858Z"
   },
   {
    "duration": 8,
    "start_time": "2022-06-26T05:18:15.873Z"
   },
   {
    "duration": 11,
    "start_time": "2022-06-26T05:18:15.883Z"
   },
   {
    "duration": 11,
    "start_time": "2022-06-26T05:18:15.895Z"
   },
   {
    "duration": 27,
    "start_time": "2022-06-26T05:18:17.855Z"
   },
   {
    "duration": 16,
    "start_time": "2022-06-26T05:18:25.172Z"
   },
   {
    "duration": 64,
    "start_time": "2022-06-26T05:18:37.173Z"
   },
   {
    "duration": 17,
    "start_time": "2022-06-26T05:19:18.252Z"
   },
   {
    "duration": 15,
    "start_time": "2022-06-26T05:20:29.182Z"
   },
   {
    "duration": 17,
    "start_time": "2022-06-26T05:20:35.560Z"
   },
   {
    "duration": 23,
    "start_time": "2022-06-26T05:21:50.706Z"
   },
   {
    "duration": 30,
    "start_time": "2022-06-26T05:23:10.780Z"
   },
   {
    "duration": 24,
    "start_time": "2022-06-26T05:24:41.158Z"
   },
   {
    "duration": 3,
    "start_time": "2022-06-26T05:24:49.413Z"
   },
   {
    "duration": 78,
    "start_time": "2022-06-26T05:24:49.418Z"
   },
   {
    "duration": 14,
    "start_time": "2022-06-26T05:24:49.498Z"
   },
   {
    "duration": 5,
    "start_time": "2022-06-26T05:24:49.514Z"
   },
   {
    "duration": 7,
    "start_time": "2022-06-26T05:24:49.521Z"
   },
   {
    "duration": 14,
    "start_time": "2022-06-26T05:24:49.529Z"
   },
   {
    "duration": 25,
    "start_time": "2022-06-26T05:24:53.242Z"
   },
   {
    "duration": 4,
    "start_time": "2022-06-26T05:28:59.623Z"
   },
   {
    "duration": 9,
    "start_time": "2022-06-26T05:29:05.098Z"
   },
   {
    "duration": 3,
    "start_time": "2022-06-26T05:29:20.223Z"
   },
   {
    "duration": 84,
    "start_time": "2022-06-26T05:29:20.228Z"
   },
   {
    "duration": 13,
    "start_time": "2022-06-26T05:29:20.314Z"
   },
   {
    "duration": 4,
    "start_time": "2022-06-26T05:29:20.328Z"
   },
   {
    "duration": 8,
    "start_time": "2022-06-26T05:29:20.334Z"
   },
   {
    "duration": 12,
    "start_time": "2022-06-26T05:29:20.343Z"
   },
   {
    "duration": 12,
    "start_time": "2022-06-26T05:29:29.832Z"
   },
   {
    "duration": 9,
    "start_time": "2022-06-26T05:30:36.187Z"
   },
   {
    "duration": 4,
    "start_time": "2022-06-26T05:30:58.039Z"
   },
   {
    "duration": 80,
    "start_time": "2022-06-26T05:30:58.046Z"
   },
   {
    "duration": 15,
    "start_time": "2022-06-26T05:30:58.128Z"
   },
   {
    "duration": 11,
    "start_time": "2022-06-26T05:30:58.144Z"
   },
   {
    "duration": 7,
    "start_time": "2022-06-26T05:30:58.156Z"
   },
   {
    "duration": 9,
    "start_time": "2022-06-26T05:30:58.165Z"
   },
   {
    "duration": 13,
    "start_time": "2022-06-26T05:31:00.648Z"
   },
   {
    "duration": 31,
    "start_time": "2022-06-26T05:31:12.477Z"
   },
   {
    "duration": 20,
    "start_time": "2022-06-26T05:31:15.547Z"
   },
   {
    "duration": 11,
    "start_time": "2022-06-26T05:32:56.421Z"
   },
   {
    "duration": 23,
    "start_time": "2022-06-26T05:32:59.817Z"
   },
   {
    "duration": 20,
    "start_time": "2022-06-26T05:35:35.952Z"
   },
   {
    "duration": 22,
    "start_time": "2022-06-26T05:39:49.924Z"
   },
   {
    "duration": 11,
    "start_time": "2022-06-26T05:40:08.629Z"
   },
   {
    "duration": 12,
    "start_time": "2022-06-26T05:41:04.055Z"
   },
   {
    "duration": 35,
    "start_time": "2022-06-26T05:41:59.031Z"
   },
   {
    "duration": 26,
    "start_time": "2022-06-26T05:42:03.954Z"
   },
   {
    "duration": 13,
    "start_time": "2022-06-26T05:42:09.586Z"
   },
   {
    "duration": 14,
    "start_time": "2022-06-26T05:45:11.128Z"
   },
   {
    "duration": 11,
    "start_time": "2022-06-26T05:49:31.854Z"
   },
   {
    "duration": 12,
    "start_time": "2022-06-26T05:51:01.960Z"
   },
   {
    "duration": 13,
    "start_time": "2022-06-26T05:56:22.370Z"
   },
   {
    "duration": 3,
    "start_time": "2022-06-26T05:56:31.259Z"
   },
   {
    "duration": 90,
    "start_time": "2022-06-26T05:56:31.264Z"
   },
   {
    "duration": 13,
    "start_time": "2022-06-26T05:56:31.356Z"
   },
   {
    "duration": 17,
    "start_time": "2022-06-26T05:56:31.370Z"
   },
   {
    "duration": 39,
    "start_time": "2022-06-26T05:56:31.389Z"
   },
   {
    "duration": 26,
    "start_time": "2022-06-26T05:56:31.430Z"
   },
   {
    "duration": 25,
    "start_time": "2022-06-26T05:56:31.458Z"
   },
   {
    "duration": 17,
    "start_time": "2022-06-26T05:56:31.485Z"
   },
   {
    "duration": 40,
    "start_time": "2022-06-26T05:56:31.504Z"
   },
   {
    "duration": 27,
    "start_time": "2022-06-26T05:56:31.546Z"
   },
   {
    "duration": 10,
    "start_time": "2022-06-26T05:56:31.576Z"
   },
   {
    "duration": 39,
    "start_time": "2022-06-26T05:56:31.588Z"
   },
   {
    "duration": 17,
    "start_time": "2022-06-26T05:56:31.629Z"
   },
   {
    "duration": 12,
    "start_time": "2022-06-26T05:56:35.857Z"
   },
   {
    "duration": 14,
    "start_time": "2022-06-26T05:57:23.269Z"
   },
   {
    "duration": 27,
    "start_time": "2022-06-26T05:57:28.656Z"
   },
   {
    "duration": 8,
    "start_time": "2022-06-26T05:57:31.074Z"
   },
   {
    "duration": 10,
    "start_time": "2022-06-26T05:57:34.180Z"
   },
   {
    "duration": 3,
    "start_time": "2022-06-26T05:57:47.979Z"
   },
   {
    "duration": 75,
    "start_time": "2022-06-26T05:57:47.986Z"
   },
   {
    "duration": 11,
    "start_time": "2022-06-26T05:57:48.063Z"
   },
   {
    "duration": 8,
    "start_time": "2022-06-26T05:57:48.076Z"
   },
   {
    "duration": 6,
    "start_time": "2022-06-26T05:57:48.086Z"
   },
   {
    "duration": 9,
    "start_time": "2022-06-26T05:57:48.094Z"
   },
   {
    "duration": 27,
    "start_time": "2022-06-26T05:57:48.104Z"
   },
   {
    "duration": 12,
    "start_time": "2022-06-26T05:57:48.133Z"
   },
   {
    "duration": 25,
    "start_time": "2022-06-26T05:57:48.146Z"
   },
   {
    "duration": 26,
    "start_time": "2022-06-26T05:57:53.388Z"
   },
   {
    "duration": 8,
    "start_time": "2022-06-26T05:57:57.044Z"
   },
   {
    "duration": 10,
    "start_time": "2022-06-26T05:57:59.305Z"
   },
   {
    "duration": 11,
    "start_time": "2022-06-26T05:58:01.212Z"
   },
   {
    "duration": 10,
    "start_time": "2022-06-26T05:58:06.009Z"
   },
   {
    "duration": 5,
    "start_time": "2022-06-26T05:58:11.801Z"
   },
   {
    "duration": 10,
    "start_time": "2022-06-26T05:59:29.148Z"
   },
   {
    "duration": 151,
    "start_time": "2022-06-26T05:59:42.761Z"
   },
   {
    "duration": 9,
    "start_time": "2022-06-26T06:00:14.740Z"
   },
   {
    "duration": 171,
    "start_time": "2022-06-26T06:00:18.385Z"
   },
   {
    "duration": 14,
    "start_time": "2022-06-26T06:01:26.761Z"
   },
   {
    "duration": 94,
    "start_time": "2022-06-26T06:01:30.895Z"
   },
   {
    "duration": 14,
    "start_time": "2022-06-26T06:02:27.556Z"
   },
   {
    "duration": 9,
    "start_time": "2022-06-26T06:02:36.477Z"
   },
   {
    "duration": 8,
    "start_time": "2022-06-26T06:02:48.286Z"
   },
   {
    "duration": 3,
    "start_time": "2022-06-26T06:03:33.389Z"
   },
   {
    "duration": 165,
    "start_time": "2022-06-26T06:03:39.391Z"
   },
   {
    "duration": 4,
    "start_time": "2022-06-26T06:03:57.673Z"
   },
   {
    "duration": 8,
    "start_time": "2022-06-26T06:04:06.298Z"
   },
   {
    "duration": 9,
    "start_time": "2022-06-26T06:05:08.646Z"
   },
   {
    "duration": 9,
    "start_time": "2022-06-26T06:05:32.108Z"
   },
   {
    "duration": 3,
    "start_time": "2022-06-26T06:05:39.928Z"
   },
   {
    "duration": 75,
    "start_time": "2022-06-26T06:05:39.941Z"
   },
   {
    "duration": 12,
    "start_time": "2022-06-26T06:05:40.018Z"
   },
   {
    "duration": 11,
    "start_time": "2022-06-26T06:05:40.032Z"
   },
   {
    "duration": 6,
    "start_time": "2022-06-26T06:05:40.045Z"
   },
   {
    "duration": 17,
    "start_time": "2022-06-26T06:05:40.053Z"
   },
   {
    "duration": 15,
    "start_time": "2022-06-26T06:05:40.072Z"
   },
   {
    "duration": 10,
    "start_time": "2022-06-26T06:05:40.089Z"
   },
   {
    "duration": 33,
    "start_time": "2022-06-26T06:05:40.100Z"
   },
   {
    "duration": 21,
    "start_time": "2022-06-26T06:05:40.135Z"
   },
   {
    "duration": 8,
    "start_time": "2022-06-26T06:05:40.158Z"
   },
   {
    "duration": 11,
    "start_time": "2022-06-26T06:05:40.167Z"
   },
   {
    "duration": 13,
    "start_time": "2022-06-26T06:05:40.179Z"
   },
   {
    "duration": 35,
    "start_time": "2022-06-26T06:05:40.194Z"
   },
   {
    "duration": 4,
    "start_time": "2022-06-26T06:05:40.232Z"
   },
   {
    "duration": 170,
    "start_time": "2022-06-26T06:05:40.238Z"
   },
   {
    "duration": 158,
    "start_time": "2022-06-26T06:05:42.882Z"
   },
   {
    "duration": 7,
    "start_time": "2022-06-26T06:06:01.192Z"
   },
   {
    "duration": 170,
    "start_time": "2022-06-26T06:06:33.120Z"
   },
   {
    "duration": 206,
    "start_time": "2022-06-26T06:07:53.025Z"
   },
   {
    "duration": 12,
    "start_time": "2022-06-26T06:09:09.634Z"
   },
   {
    "duration": 12,
    "start_time": "2022-06-26T06:09:58.576Z"
   },
   {
    "duration": 3,
    "start_time": "2022-06-26T06:10:07.198Z"
   },
   {
    "duration": 76,
    "start_time": "2022-06-26T06:10:07.205Z"
   },
   {
    "duration": 12,
    "start_time": "2022-06-26T06:10:07.283Z"
   },
   {
    "duration": 21,
    "start_time": "2022-06-26T06:10:07.296Z"
   },
   {
    "duration": 9,
    "start_time": "2022-06-26T06:10:07.319Z"
   },
   {
    "duration": 10,
    "start_time": "2022-06-26T06:10:07.331Z"
   },
   {
    "duration": 16,
    "start_time": "2022-06-26T06:10:07.342Z"
   },
   {
    "duration": 12,
    "start_time": "2022-06-26T06:10:07.360Z"
   },
   {
    "duration": 31,
    "start_time": "2022-06-26T06:10:07.374Z"
   },
   {
    "duration": 28,
    "start_time": "2022-06-26T06:10:07.426Z"
   },
   {
    "duration": 9,
    "start_time": "2022-06-26T06:10:07.457Z"
   },
   {
    "duration": 20,
    "start_time": "2022-06-26T06:10:07.468Z"
   },
   {
    "duration": 13,
    "start_time": "2022-06-26T06:10:07.490Z"
   },
   {
    "duration": 36,
    "start_time": "2022-06-26T06:10:07.504Z"
   },
   {
    "duration": 6,
    "start_time": "2022-06-26T06:10:07.542Z"
   },
   {
    "duration": 176,
    "start_time": "2022-06-26T06:10:07.549Z"
   },
   {
    "duration": 155,
    "start_time": "2022-06-26T06:10:09.958Z"
   },
   {
    "duration": 98,
    "start_time": "2022-06-26T06:11:07.661Z"
   },
   {
    "duration": 106,
    "start_time": "2022-06-26T06:11:49.422Z"
   },
   {
    "duration": 102,
    "start_time": "2022-06-26T06:12:10.602Z"
   },
   {
    "duration": 100,
    "start_time": "2022-06-26T06:12:24.568Z"
   },
   {
    "duration": 22,
    "start_time": "2022-06-26T06:13:50.945Z"
   },
   {
    "duration": 157,
    "start_time": "2022-06-26T06:13:58.254Z"
   },
   {
    "duration": 19,
    "start_time": "2022-06-26T06:15:53.850Z"
   },
   {
    "duration": 17,
    "start_time": "2022-06-26T06:16:37.596Z"
   },
   {
    "duration": 21,
    "start_time": "2022-06-26T06:16:50.006Z"
   },
   {
    "duration": 19,
    "start_time": "2022-06-26T06:17:01.988Z"
   },
   {
    "duration": 21,
    "start_time": "2022-06-26T06:17:35.787Z"
   },
   {
    "duration": 17,
    "start_time": "2022-06-26T06:17:58.507Z"
   },
   {
    "duration": 17,
    "start_time": "2022-06-26T06:18:38.116Z"
   },
   {
    "duration": 27,
    "start_time": "2022-06-26T06:18:46.055Z"
   },
   {
    "duration": 22,
    "start_time": "2022-06-26T06:19:14.416Z"
   },
   {
    "duration": 158,
    "start_time": "2022-06-26T06:19:46.359Z"
   },
   {
    "duration": 740,
    "start_time": "2022-06-26T06:23:40.811Z"
   },
   {
    "duration": 9,
    "start_time": "2022-06-26T06:25:25.535Z"
   },
   {
    "duration": 10,
    "start_time": "2022-06-26T06:29:46.517Z"
   },
   {
    "duration": 3,
    "start_time": "2022-06-26T06:30:05.050Z"
   },
   {
    "duration": 11,
    "start_time": "2022-06-26T06:30:13.801Z"
   },
   {
    "duration": 12,
    "start_time": "2022-06-26T06:30:44.179Z"
   },
   {
    "duration": 9,
    "start_time": "2022-06-26T06:34:57.606Z"
   },
   {
    "duration": 691,
    "start_time": "2022-06-26T06:36:57.969Z"
   },
   {
    "duration": 55,
    "start_time": "2022-06-26T06:37:14.703Z"
   },
   {
    "duration": 804,
    "start_time": "2022-06-26T06:38:20.778Z"
   },
   {
    "duration": 3,
    "start_time": "2022-06-26T06:42:12.723Z"
   },
   {
    "duration": 8,
    "start_time": "2022-06-26T06:42:20.813Z"
   },
   {
    "duration": 47,
    "start_time": "2022-06-26T06:42:38.878Z"
   },
   {
    "duration": 43,
    "start_time": "2022-06-26T06:43:25.248Z"
   },
   {
    "duration": 42,
    "start_time": "2022-06-26T06:43:44.244Z"
   },
   {
    "duration": 8,
    "start_time": "2022-06-26T06:51:38.981Z"
   },
   {
    "duration": 17,
    "start_time": "2022-06-26T06:52:16.240Z"
   },
   {
    "duration": 11,
    "start_time": "2022-06-26T06:53:07.904Z"
   },
   {
    "duration": 105,
    "start_time": "2022-06-26T06:54:11.406Z"
   },
   {
    "duration": 160,
    "start_time": "2022-06-26T06:54:18.536Z"
   },
   {
    "duration": 152,
    "start_time": "2022-06-26T06:54:45.546Z"
   },
   {
    "duration": 5,
    "start_time": "2022-06-26T06:55:09.050Z"
   },
   {
    "duration": 97,
    "start_time": "2022-06-26T06:55:09.057Z"
   },
   {
    "duration": 13,
    "start_time": "2022-06-26T06:55:09.157Z"
   },
   {
    "duration": 7,
    "start_time": "2022-06-26T06:55:09.171Z"
   },
   {
    "duration": 8,
    "start_time": "2022-06-26T06:55:09.179Z"
   },
   {
    "duration": 16,
    "start_time": "2022-06-26T06:55:09.189Z"
   },
   {
    "duration": 12,
    "start_time": "2022-06-26T06:55:09.207Z"
   },
   {
    "duration": 30,
    "start_time": "2022-06-26T06:55:09.221Z"
   },
   {
    "duration": 122,
    "start_time": "2022-06-26T06:55:09.254Z"
   },
   {
    "duration": 22,
    "start_time": "2022-06-26T06:55:09.377Z"
   },
   {
    "duration": 7,
    "start_time": "2022-06-26T06:55:09.401Z"
   },
   {
    "duration": 38,
    "start_time": "2022-06-26T06:55:09.410Z"
   },
   {
    "duration": 20,
    "start_time": "2022-06-26T06:55:09.454Z"
   },
   {
    "duration": 11,
    "start_time": "2022-06-26T06:55:09.476Z"
   },
   {
    "duration": 7,
    "start_time": "2022-06-26T06:55:09.488Z"
   },
   {
    "duration": 201,
    "start_time": "2022-06-26T06:55:09.497Z"
   },
   {
    "duration": 174,
    "start_time": "2022-06-26T06:55:09.700Z"
   },
   {
    "duration": 12,
    "start_time": "2022-06-26T06:55:09.875Z"
   },
   {
    "duration": 128,
    "start_time": "2022-06-26T06:55:09.889Z"
   },
   {
    "duration": 118,
    "start_time": "2022-06-26T06:55:10.018Z"
   },
   {
    "duration": 29,
    "start_time": "2022-06-26T06:55:10.138Z"
   },
   {
    "duration": 179,
    "start_time": "2022-06-26T06:55:15.754Z"
   },
   {
    "duration": 77,
    "start_time": "2022-06-26T06:55:21.176Z"
   },
   {
    "duration": 67,
    "start_time": "2022-06-26T06:55:52.089Z"
   },
   {
    "duration": 842,
    "start_time": "2022-06-26T06:56:06.244Z"
   },
   {
    "duration": 184,
    "start_time": "2022-06-26T06:56:19.847Z"
   },
   {
    "duration": 112,
    "start_time": "2022-06-26T07:01:07.153Z"
   },
   {
    "duration": 60,
    "start_time": "2022-06-26T07:02:12.224Z"
   },
   {
    "duration": 40,
    "start_time": "2022-06-26T07:04:27.364Z"
   },
   {
    "duration": 40,
    "start_time": "2022-06-26T07:06:05.100Z"
   },
   {
    "duration": 81,
    "start_time": "2022-06-26T07:07:28.919Z"
   },
   {
    "duration": 102,
    "start_time": "2022-06-26T07:07:33.415Z"
   },
   {
    "duration": 39,
    "start_time": "2022-06-26T07:07:43.154Z"
   },
   {
    "duration": 55,
    "start_time": "2022-06-26T07:08:10.864Z"
   },
   {
    "duration": 50,
    "start_time": "2022-06-26T07:08:22.542Z"
   },
   {
    "duration": 57,
    "start_time": "2022-06-26T07:08:47.921Z"
   },
   {
    "duration": 36,
    "start_time": "2022-06-26T07:09:29.756Z"
   },
   {
    "duration": 33,
    "start_time": "2022-06-26T07:09:47.558Z"
   },
   {
    "duration": 54,
    "start_time": "2022-06-26T07:11:40.923Z"
   },
   {
    "duration": 36,
    "start_time": "2022-06-26T07:11:50.554Z"
   },
   {
    "duration": 616,
    "start_time": "2022-06-26T07:12:27.058Z"
   },
   {
    "duration": 155,
    "start_time": "2022-06-26T07:13:21.797Z"
   },
   {
    "duration": 627,
    "start_time": "2022-06-26T07:13:42.984Z"
   },
   {
    "duration": 13,
    "start_time": "2022-06-26T07:15:44.331Z"
   },
   {
    "duration": 8,
    "start_time": "2022-06-26T07:18:59.200Z"
   },
   {
    "duration": 112,
    "start_time": "2022-06-26T07:31:10.960Z"
   },
   {
    "duration": 8,
    "start_time": "2022-06-26T07:31:16.593Z"
   },
   {
    "duration": 14,
    "start_time": "2022-06-26T07:31:25.843Z"
   },
   {
    "duration": 15,
    "start_time": "2022-06-26T07:31:59.704Z"
   },
   {
    "duration": 100,
    "start_time": "2022-06-26T07:32:05.843Z"
   },
   {
    "duration": 10,
    "start_time": "2022-06-26T07:33:08.071Z"
   },
   {
    "duration": 15,
    "start_time": "2022-06-26T07:33:42.537Z"
   },
   {
    "duration": 13,
    "start_time": "2022-06-26T07:34:09.964Z"
   },
   {
    "duration": 10,
    "start_time": "2022-06-26T07:34:29.339Z"
   },
   {
    "duration": 11,
    "start_time": "2022-06-26T07:35:13.453Z"
   },
   {
    "duration": 272,
    "start_time": "2022-06-26T07:35:23.743Z"
   },
   {
    "duration": 206,
    "start_time": "2022-06-26T07:35:29.146Z"
   },
   {
    "duration": 20,
    "start_time": "2022-06-26T07:35:59.519Z"
   },
   {
    "duration": 15,
    "start_time": "2022-06-26T07:36:09.196Z"
   },
   {
    "duration": 16,
    "start_time": "2022-06-26T07:36:32.312Z"
   },
   {
    "duration": 15,
    "start_time": "2022-06-26T07:36:36.700Z"
   },
   {
    "duration": 9,
    "start_time": "2022-06-26T07:36:44.506Z"
   },
   {
    "duration": 7,
    "start_time": "2022-06-26T07:37:06.087Z"
   },
   {
    "duration": 9,
    "start_time": "2022-06-26T07:37:14.462Z"
   },
   {
    "duration": 10,
    "start_time": "2022-06-26T07:37:37.038Z"
   },
   {
    "duration": 6,
    "start_time": "2022-06-26T07:37:54.302Z"
   },
   {
    "duration": 15,
    "start_time": "2022-06-26T07:37:59.627Z"
   },
   {
    "duration": 17,
    "start_time": "2022-06-26T07:39:24.552Z"
   },
   {
    "duration": 117,
    "start_time": "2022-06-26T07:39:43.268Z"
   },
   {
    "duration": 140,
    "start_time": "2022-06-26T07:40:57.506Z"
   },
   {
    "duration": 16,
    "start_time": "2022-06-26T07:42:43.670Z"
   },
   {
    "duration": 12,
    "start_time": "2022-06-26T07:42:48.733Z"
   },
   {
    "duration": 137,
    "start_time": "2022-06-26T07:42:55.230Z"
   },
   {
    "duration": 24,
    "start_time": "2022-06-26T07:44:52.383Z"
   },
   {
    "duration": 10,
    "start_time": "2022-06-26T07:44:53.428Z"
   },
   {
    "duration": 123,
    "start_time": "2022-06-26T07:44:57.674Z"
   },
   {
    "duration": 57,
    "start_time": "2022-06-26T07:49:20.177Z"
   },
   {
    "duration": 858,
    "start_time": "2022-06-26T07:50:41.724Z"
   },
   {
    "duration": 857,
    "start_time": "2022-06-26T07:51:53.828Z"
   },
   {
    "duration": 11,
    "start_time": "2022-06-26T07:52:10.176Z"
   },
   {
    "duration": 8,
    "start_time": "2022-06-26T07:52:21.056Z"
   },
   {
    "duration": 6,
    "start_time": "2022-06-26T07:53:06.234Z"
   },
   {
    "duration": 63,
    "start_time": "2022-06-26T07:53:32.245Z"
   },
   {
    "duration": 18,
    "start_time": "2022-06-26T07:53:46.904Z"
   },
   {
    "duration": 3,
    "start_time": "2022-06-26T07:53:52.772Z"
   },
   {
    "duration": 79,
    "start_time": "2022-06-26T07:53:52.777Z"
   },
   {
    "duration": 16,
    "start_time": "2022-06-26T07:53:52.858Z"
   },
   {
    "duration": 6,
    "start_time": "2022-06-26T07:53:52.877Z"
   },
   {
    "duration": 5,
    "start_time": "2022-06-26T07:53:52.885Z"
   },
   {
    "duration": 39,
    "start_time": "2022-06-26T07:53:52.891Z"
   },
   {
    "duration": 12,
    "start_time": "2022-06-26T07:53:52.932Z"
   },
   {
    "duration": 17,
    "start_time": "2022-06-26T07:53:52.945Z"
   },
   {
    "duration": 42,
    "start_time": "2022-06-26T07:53:52.965Z"
   },
   {
    "duration": 40,
    "start_time": "2022-06-26T07:53:53.027Z"
   },
   {
    "duration": 9,
    "start_time": "2022-06-26T07:53:53.071Z"
   },
   {
    "duration": 14,
    "start_time": "2022-06-26T07:53:53.082Z"
   },
   {
    "duration": 30,
    "start_time": "2022-06-26T07:53:53.098Z"
   },
   {
    "duration": 12,
    "start_time": "2022-06-26T07:53:53.130Z"
   },
   {
    "duration": 5,
    "start_time": "2022-06-26T07:53:53.145Z"
   },
   {
    "duration": 212,
    "start_time": "2022-06-26T07:53:53.152Z"
   },
   {
    "duration": 165,
    "start_time": "2022-06-26T07:53:53.366Z"
   },
   {
    "duration": 13,
    "start_time": "2022-06-26T07:53:53.533Z"
   },
   {
    "duration": 130,
    "start_time": "2022-06-26T07:53:53.548Z"
   },
   {
    "duration": 112,
    "start_time": "2022-06-26T07:53:53.680Z"
   },
   {
    "duration": 32,
    "start_time": "2022-06-26T07:53:53.794Z"
   },
   {
    "duration": 175,
    "start_time": "2022-06-26T07:53:53.828Z"
   },
   {
    "duration": 45,
    "start_time": "2022-06-26T07:53:54.006Z"
   },
   {
    "duration": 11,
    "start_time": "2022-06-26T07:53:54.053Z"
   },
   {
    "duration": 16,
    "start_time": "2022-06-26T07:53:54.066Z"
   },
   {
    "duration": 54,
    "start_time": "2022-06-26T07:53:54.084Z"
   },
   {
    "duration": 0,
    "start_time": "2022-06-26T07:53:54.140Z"
   },
   {
    "duration": 0,
    "start_time": "2022-06-26T07:53:54.141Z"
   },
   {
    "duration": 0,
    "start_time": "2022-06-26T07:53:54.142Z"
   },
   {
    "duration": 0,
    "start_time": "2022-06-26T07:53:54.143Z"
   },
   {
    "duration": 0,
    "start_time": "2022-06-26T07:53:54.144Z"
   },
   {
    "duration": 0,
    "start_time": "2022-06-26T07:53:54.145Z"
   },
   {
    "duration": 0,
    "start_time": "2022-06-26T07:53:54.146Z"
   },
   {
    "duration": 0,
    "start_time": "2022-06-26T07:53:54.148Z"
   },
   {
    "duration": 0,
    "start_time": "2022-06-26T07:53:54.148Z"
   },
   {
    "duration": 0,
    "start_time": "2022-06-26T07:53:54.150Z"
   },
   {
    "duration": 0,
    "start_time": "2022-06-26T07:53:54.151Z"
   },
   {
    "duration": 0,
    "start_time": "2022-06-26T07:53:54.152Z"
   },
   {
    "duration": 12,
    "start_time": "2022-06-26T07:53:58.525Z"
   },
   {
    "duration": 4,
    "start_time": "2022-06-26T07:54:50.959Z"
   },
   {
    "duration": 105,
    "start_time": "2022-06-26T07:54:50.965Z"
   },
   {
    "duration": 13,
    "start_time": "2022-06-26T07:54:51.071Z"
   },
   {
    "duration": 8,
    "start_time": "2022-06-26T07:54:51.087Z"
   },
   {
    "duration": 11,
    "start_time": "2022-06-26T07:54:51.097Z"
   },
   {
    "duration": 9,
    "start_time": "2022-06-26T07:54:51.127Z"
   },
   {
    "duration": 15,
    "start_time": "2022-06-26T07:54:51.138Z"
   },
   {
    "duration": 12,
    "start_time": "2022-06-26T07:54:51.154Z"
   },
   {
    "duration": 30,
    "start_time": "2022-06-26T07:54:51.169Z"
   },
   {
    "duration": 25,
    "start_time": "2022-06-26T07:54:51.226Z"
   },
   {
    "duration": 8,
    "start_time": "2022-06-26T07:54:51.253Z"
   },
   {
    "duration": 10,
    "start_time": "2022-06-26T07:54:51.262Z"
   },
   {
    "duration": 11,
    "start_time": "2022-06-26T07:54:51.274Z"
   },
   {
    "duration": 45,
    "start_time": "2022-06-26T07:54:51.287Z"
   },
   {
    "duration": 4,
    "start_time": "2022-06-26T07:54:51.334Z"
   },
   {
    "duration": 195,
    "start_time": "2022-06-26T07:54:51.339Z"
   },
   {
    "duration": 281,
    "start_time": "2022-06-26T07:54:51.536Z"
   },
   {
    "duration": 26,
    "start_time": "2022-06-26T07:54:51.819Z"
   },
   {
    "duration": 110,
    "start_time": "2022-06-26T07:54:51.846Z"
   },
   {
    "duration": 110,
    "start_time": "2022-06-26T07:54:51.958Z"
   },
   {
    "duration": 22,
    "start_time": "2022-06-26T07:54:52.070Z"
   },
   {
    "duration": 169,
    "start_time": "2022-06-26T07:54:52.093Z"
   },
   {
    "duration": 34,
    "start_time": "2022-06-26T07:54:52.263Z"
   },
   {
    "duration": 7,
    "start_time": "2022-06-26T07:54:52.300Z"
   },
   {
    "duration": 26,
    "start_time": "2022-06-26T07:54:52.309Z"
   },
   {
    "duration": 18,
    "start_time": "2022-06-26T07:54:52.337Z"
   },
   {
    "duration": 16,
    "start_time": "2022-06-26T07:54:52.357Z"
   },
   {
    "duration": 146,
    "start_time": "2022-06-26T07:54:52.375Z"
   },
   {
    "duration": 16,
    "start_time": "2022-06-26T07:54:52.527Z"
   },
   {
    "duration": 185,
    "start_time": "2022-06-26T07:54:52.545Z"
   },
   {
    "duration": 4,
    "start_time": "2022-06-26T07:54:52.732Z"
   },
   {
    "duration": 217,
    "start_time": "2022-06-26T07:54:52.737Z"
   },
   {
    "duration": 15,
    "start_time": "2022-06-26T07:54:52.956Z"
   },
   {
    "duration": 29,
    "start_time": "2022-06-26T07:54:52.973Z"
   },
   {
    "duration": 200,
    "start_time": "2022-06-26T07:54:53.004Z"
   },
   {
    "duration": 877,
    "start_time": "2022-06-26T07:54:53.206Z"
   },
   {
    "duration": 5,
    "start_time": "2022-06-26T07:54:54.085Z"
   },
   {
    "duration": 26,
    "start_time": "2022-06-26T07:54:54.091Z"
   },
   {
    "duration": 14,
    "start_time": "2022-06-26T07:55:02.436Z"
   },
   {
    "duration": 12,
    "start_time": "2022-06-26T07:55:16.816Z"
   },
   {
    "duration": 17,
    "start_time": "2022-06-26T07:55:22.332Z"
   },
   {
    "duration": 16,
    "start_time": "2022-06-26T07:55:41.216Z"
   },
   {
    "duration": 13,
    "start_time": "2022-06-26T07:55:47.165Z"
   },
   {
    "duration": 14,
    "start_time": "2022-06-26T07:55:56.839Z"
   },
   {
    "duration": 22,
    "start_time": "2022-06-26T07:56:25.931Z"
   },
   {
    "duration": 4,
    "start_time": "2022-06-26T07:56:48.383Z"
   },
   {
    "duration": 90,
    "start_time": "2022-06-26T07:56:48.389Z"
   },
   {
    "duration": 13,
    "start_time": "2022-06-26T07:56:48.481Z"
   },
   {
    "duration": 33,
    "start_time": "2022-06-26T07:56:48.496Z"
   },
   {
    "duration": 5,
    "start_time": "2022-06-26T07:56:48.531Z"
   },
   {
    "duration": 14,
    "start_time": "2022-06-26T07:56:48.538Z"
   },
   {
    "duration": 13,
    "start_time": "2022-06-26T07:56:48.554Z"
   },
   {
    "duration": 11,
    "start_time": "2022-06-26T07:56:48.569Z"
   },
   {
    "duration": 59,
    "start_time": "2022-06-26T07:56:48.583Z"
   },
   {
    "duration": 27,
    "start_time": "2022-06-26T07:56:48.645Z"
   },
   {
    "duration": 8,
    "start_time": "2022-06-26T07:56:48.674Z"
   },
   {
    "duration": 11,
    "start_time": "2022-06-26T07:56:48.684Z"
   },
   {
    "duration": 39,
    "start_time": "2022-06-26T07:56:48.696Z"
   },
   {
    "duration": 11,
    "start_time": "2022-06-26T07:56:48.736Z"
   },
   {
    "duration": 9,
    "start_time": "2022-06-26T07:56:48.749Z"
   },
   {
    "duration": 178,
    "start_time": "2022-06-26T07:56:48.760Z"
   },
   {
    "duration": 160,
    "start_time": "2022-06-26T07:56:48.940Z"
   },
   {
    "duration": 25,
    "start_time": "2022-06-26T07:56:49.102Z"
   },
   {
    "duration": 117,
    "start_time": "2022-06-26T07:56:49.129Z"
   },
   {
    "duration": 110,
    "start_time": "2022-06-26T07:56:49.249Z"
   },
   {
    "duration": 22,
    "start_time": "2022-06-26T07:56:49.361Z"
   },
   {
    "duration": 274,
    "start_time": "2022-06-26T07:56:49.384Z"
   },
   {
    "duration": 38,
    "start_time": "2022-06-26T07:56:49.661Z"
   },
   {
    "duration": 7,
    "start_time": "2022-06-26T07:56:49.702Z"
   },
   {
    "duration": 21,
    "start_time": "2022-06-26T07:56:49.711Z"
   },
   {
    "duration": 17,
    "start_time": "2022-06-26T07:56:49.733Z"
   },
   {
    "duration": 13,
    "start_time": "2022-06-26T07:56:49.752Z"
   },
   {
    "duration": 137,
    "start_time": "2022-06-26T07:56:49.767Z"
   },
   {
    "duration": 23,
    "start_time": "2022-06-26T07:56:49.906Z"
   },
   {
    "duration": 170,
    "start_time": "2022-06-26T07:56:49.930Z"
   },
   {
    "duration": 6,
    "start_time": "2022-06-26T07:56:50.102Z"
   },
   {
    "duration": 231,
    "start_time": "2022-06-26T07:56:50.110Z"
   },
   {
    "duration": 14,
    "start_time": "2022-06-26T07:56:50.343Z"
   },
   {
    "duration": 27,
    "start_time": "2022-06-26T07:56:50.358Z"
   },
   {
    "duration": 198,
    "start_time": "2022-06-26T07:56:50.387Z"
   },
   {
    "duration": 814,
    "start_time": "2022-06-26T07:56:50.586Z"
   },
   {
    "duration": 6,
    "start_time": "2022-06-26T07:56:51.401Z"
   },
   {
    "duration": 15,
    "start_time": "2022-06-26T07:56:51.408Z"
   },
   {
    "duration": 17,
    "start_time": "2022-06-26T07:56:51.425Z"
   },
   {
    "duration": 44,
    "start_time": "2022-06-26T07:56:51.444Z"
   },
   {
    "duration": 28,
    "start_time": "2022-06-26T07:56:51.491Z"
   },
   {
    "duration": 17,
    "start_time": "2022-06-26T07:56:51.521Z"
   },
   {
    "duration": 47,
    "start_time": "2022-06-26T07:56:51.541Z"
   },
   {
    "duration": 23,
    "start_time": "2022-06-26T07:56:51.590Z"
   },
   {
    "duration": 33,
    "start_time": "2022-06-26T07:56:51.616Z"
   },
   {
    "duration": 26,
    "start_time": "2022-06-26T07:56:51.652Z"
   },
   {
    "duration": 48,
    "start_time": "2022-06-26T14:01:01.496Z"
   },
   {
    "duration": 1153,
    "start_time": "2022-06-26T14:01:06.822Z"
   },
   {
    "duration": 72,
    "start_time": "2022-06-26T14:01:07.976Z"
   },
   {
    "duration": 13,
    "start_time": "2022-06-26T14:01:08.049Z"
   },
   {
    "duration": 7,
    "start_time": "2022-06-26T14:01:08.064Z"
   },
   {
    "duration": 8,
    "start_time": "2022-06-26T14:01:08.073Z"
   },
   {
    "duration": 10,
    "start_time": "2022-06-26T14:01:08.084Z"
   },
   {
    "duration": 33,
    "start_time": "2022-06-26T14:01:08.096Z"
   },
   {
    "duration": 10,
    "start_time": "2022-06-26T14:01:08.130Z"
   },
   {
    "duration": 26,
    "start_time": "2022-06-26T14:01:08.141Z"
   },
   {
    "duration": 23,
    "start_time": "2022-06-26T14:01:08.170Z"
   },
   {
    "duration": 33,
    "start_time": "2022-06-26T14:01:08.194Z"
   },
   {
    "duration": 13,
    "start_time": "2022-06-26T14:01:08.229Z"
   },
   {
    "duration": 10,
    "start_time": "2022-06-26T14:01:08.243Z"
   },
   {
    "duration": 9,
    "start_time": "2022-06-26T14:01:08.255Z"
   },
   {
    "duration": 6,
    "start_time": "2022-06-26T14:01:08.266Z"
   },
   {
    "duration": 221,
    "start_time": "2022-06-26T14:01:08.273Z"
   },
   {
    "duration": 165,
    "start_time": "2022-06-26T14:01:08.496Z"
   },
   {
    "duration": 140,
    "start_time": "2022-06-26T14:01:08.663Z"
   },
   {
    "duration": 23,
    "start_time": "2022-06-26T14:01:08.805Z"
   },
   {
    "duration": 119,
    "start_time": "2022-06-26T14:01:08.830Z"
   },
   {
    "duration": 108,
    "start_time": "2022-06-26T14:01:08.950Z"
   },
   {
    "duration": 23,
    "start_time": "2022-06-26T14:01:09.060Z"
   },
   {
    "duration": 178,
    "start_time": "2022-06-26T14:01:09.085Z"
   },
   {
    "duration": 35,
    "start_time": "2022-06-26T14:01:09.265Z"
   },
   {
    "duration": 24,
    "start_time": "2022-06-26T14:01:09.301Z"
   },
   {
    "duration": 8,
    "start_time": "2022-06-26T14:01:09.327Z"
   },
   {
    "duration": 16,
    "start_time": "2022-06-26T14:01:09.337Z"
   },
   {
    "duration": 9,
    "start_time": "2022-06-26T14:01:09.357Z"
   },
   {
    "duration": 136,
    "start_time": "2022-06-26T14:01:09.367Z"
   },
   {
    "duration": 23,
    "start_time": "2022-06-26T14:01:09.505Z"
   },
   {
    "duration": 166,
    "start_time": "2022-06-26T14:01:09.530Z"
   },
   {
    "duration": 4,
    "start_time": "2022-06-26T14:01:09.698Z"
   },
   {
    "duration": 191,
    "start_time": "2022-06-26T14:01:09.703Z"
   },
   {
    "duration": 12,
    "start_time": "2022-06-26T14:01:09.896Z"
   },
   {
    "duration": 26,
    "start_time": "2022-06-26T14:01:09.909Z"
   },
   {
    "duration": 256,
    "start_time": "2022-06-26T14:01:09.937Z"
   },
   {
    "duration": 891,
    "start_time": "2022-06-26T14:01:10.195Z"
   },
   {
    "duration": 5,
    "start_time": "2022-06-26T14:01:11.087Z"
   },
   {
    "duration": 14,
    "start_time": "2022-06-26T14:01:11.093Z"
   },
   {
    "duration": 11,
    "start_time": "2022-06-26T14:01:11.108Z"
   },
   {
    "duration": 14,
    "start_time": "2022-06-26T14:01:11.120Z"
   },
   {
    "duration": 13,
    "start_time": "2022-06-26T14:01:11.136Z"
   },
   {
    "duration": 12,
    "start_time": "2022-06-26T14:01:11.150Z"
   },
   {
    "duration": 12,
    "start_time": "2022-06-26T14:01:11.163Z"
   },
   {
    "duration": 10,
    "start_time": "2022-06-26T14:01:11.177Z"
   },
   {
    "duration": 38,
    "start_time": "2022-06-26T14:01:11.188Z"
   },
   {
    "duration": 10,
    "start_time": "2022-06-26T14:01:11.228Z"
   },
   {
    "duration": 183,
    "start_time": "2022-06-26T14:04:52.023Z"
   },
   {
    "duration": 71,
    "start_time": "2022-06-26T14:05:22.596Z"
   },
   {
    "duration": 14,
    "start_time": "2022-06-26T14:05:35.554Z"
   },
   {
    "duration": 3,
    "start_time": "2022-06-26T14:05:39.455Z"
   },
   {
    "duration": 78,
    "start_time": "2022-06-26T14:05:39.460Z"
   },
   {
    "duration": 11,
    "start_time": "2022-06-26T14:05:39.539Z"
   },
   {
    "duration": 6,
    "start_time": "2022-06-26T14:05:39.552Z"
   },
   {
    "duration": 7,
    "start_time": "2022-06-26T14:05:39.559Z"
   },
   {
    "duration": 9,
    "start_time": "2022-06-26T14:05:39.567Z"
   },
   {
    "duration": 11,
    "start_time": "2022-06-26T14:05:39.577Z"
   },
   {
    "duration": 41,
    "start_time": "2022-06-26T14:05:39.590Z"
   },
   {
    "duration": 22,
    "start_time": "2022-06-26T14:05:39.633Z"
   },
   {
    "duration": 20,
    "start_time": "2022-06-26T14:05:39.656Z"
   },
   {
    "duration": 6,
    "start_time": "2022-06-26T14:05:39.678Z"
   },
   {
    "duration": 8,
    "start_time": "2022-06-26T14:05:39.686Z"
   },
   {
    "duration": 36,
    "start_time": "2022-06-26T14:05:39.696Z"
   },
   {
    "duration": 9,
    "start_time": "2022-06-26T14:05:39.733Z"
   },
   {
    "duration": 3,
    "start_time": "2022-06-26T14:05:39.743Z"
   },
   {
    "duration": 175,
    "start_time": "2022-06-26T14:05:39.748Z"
   },
   {
    "duration": 158,
    "start_time": "2022-06-26T14:05:39.925Z"
   },
   {
    "duration": 147,
    "start_time": "2022-06-26T14:05:40.084Z"
   },
   {
    "duration": 13,
    "start_time": "2022-06-26T14:05:40.233Z"
   },
   {
    "duration": 109,
    "start_time": "2022-06-26T14:05:40.248Z"
   },
   {
    "duration": 103,
    "start_time": "2022-06-26T14:05:40.359Z"
   },
   {
    "duration": 22,
    "start_time": "2022-06-26T14:05:40.463Z"
   },
   {
    "duration": 286,
    "start_time": "2022-06-26T14:05:40.487Z"
   },
   {
    "duration": 33,
    "start_time": "2022-06-26T14:05:40.825Z"
   },
   {
    "duration": 6,
    "start_time": "2022-06-26T14:05:40.860Z"
   },
   {
    "duration": 62,
    "start_time": "2022-06-26T14:05:40.867Z"
   },
   {
    "duration": 14,
    "start_time": "2022-06-26T14:05:40.931Z"
   },
   {
    "duration": 10,
    "start_time": "2022-06-26T14:05:40.947Z"
   },
   {
    "duration": 273,
    "start_time": "2022-06-26T14:05:40.959Z"
   },
   {
    "duration": 16,
    "start_time": "2022-06-26T14:05:41.233Z"
   },
   {
    "duration": 376,
    "start_time": "2022-06-26T14:05:41.251Z"
   },
   {
    "duration": 3,
    "start_time": "2022-06-26T14:05:41.629Z"
   },
   {
    "duration": 330,
    "start_time": "2022-06-26T14:05:41.633Z"
   },
   {
    "duration": 64,
    "start_time": "2022-06-26T14:05:41.964Z"
   },
   {
    "duration": 14,
    "start_time": "2022-06-26T14:05:42.029Z"
   },
   {
    "duration": 393,
    "start_time": "2022-06-26T14:05:42.044Z"
   },
   {
    "duration": 805,
    "start_time": "2022-06-26T14:05:42.439Z"
   },
   {
    "duration": 4,
    "start_time": "2022-06-26T14:05:43.246Z"
   },
   {
    "duration": 15,
    "start_time": "2022-06-26T14:05:43.251Z"
   },
   {
    "duration": 11,
    "start_time": "2022-06-26T14:05:43.268Z"
   },
   {
    "duration": 15,
    "start_time": "2022-06-26T14:05:43.280Z"
   },
   {
    "duration": 38,
    "start_time": "2022-06-26T14:05:43.296Z"
   },
   {
    "duration": 11,
    "start_time": "2022-06-26T14:05:43.335Z"
   },
   {
    "duration": 13,
    "start_time": "2022-06-26T14:05:43.347Z"
   },
   {
    "duration": 10,
    "start_time": "2022-06-26T14:05:43.361Z"
   },
   {
    "duration": 13,
    "start_time": "2022-06-26T14:05:43.373Z"
   },
   {
    "duration": 39,
    "start_time": "2022-06-26T14:05:43.388Z"
   },
   {
    "duration": 237,
    "start_time": "2022-06-26T14:05:56.401Z"
   },
   {
    "duration": 140,
    "start_time": "2022-06-26T14:07:07.627Z"
   }
  ],
  "kernelspec": {
   "display_name": "Python 3.9.12 ('base')",
   "language": "python",
   "name": "python3"
  },
  "language_info": {
   "codemirror_mode": {
    "name": "ipython",
    "version": 3
   },
   "file_extension": ".py",
   "mimetype": "text/x-python",
   "name": "python",
   "nbconvert_exporter": "python",
   "pygments_lexer": "ipython3",
   "version": "3.9.12"
  },
  "toc": {
   "base_numbering": 1,
   "nav_menu": {},
   "number_sections": true,
   "sideBar": true,
   "skip_h1_title": true,
   "title_cell": "Table of Contents",
   "title_sidebar": "Contents",
   "toc_cell": false,
   "toc_position": {},
   "toc_section_display": true,
   "toc_window_display": true
  },
  "vscode": {
   "interpreter": {
    "hash": "555a5e9622df4d64c8df3117a8c825618f6542198b7b66e3ec2fa7f831564c12"
   }
  }
 },
 "nbformat": 4,
 "nbformat_minor": 2
}
