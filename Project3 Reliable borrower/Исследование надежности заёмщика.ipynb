{
 "cells": [
  {
   "cell_type": "markdown",
   "id": "ca6dfea7",
   "metadata": {},
   "source": [
    "# Исследование надежности заемщиков"
   ]
  },
  {
   "cell_type": "markdown",
   "id": "3a6122cc",
   "metadata": {},
   "source": [
    "**Цель исследования** - определить степень влияния семейного положения и количества детей заёмщика на факт своевременного погашения кредита. "
   ]
  },
  {
   "cell_type": "markdown",
   "id": "9338f6a9",
   "metadata": {},
   "source": [
    "Для достижения поставленной цели необходимо решить следующие задачи:\n",
    "1. [Изучение и обработка данных](#1)\n",
    "2. [Проверка данных на аномалии и исправления](#2)\n",
    "3. [Изменение типов данных](#3)\n",
    "4. [Удаление дубликатов](#4)\n",
    "5. [Формирование дополнительных датафреймов словарей, декомпозиция исходного датафрейма](#5)\n",
    "6. [Категоризация дохода](#6)\n",
    "7. [Категоризация целей кредита](#7)\n",
    "8. [Определения зависимостей](#8)\n",
    "9. [Общий вывод](#9)"
   ]
  },
  {
   "cell_type": "markdown",
   "id": "dcb5b3a8",
   "metadata": {},
   "source": [
    "<a id='1'></a>\n",
    "### 1. Изучение и обработка данных"
   ]
  },
  {
   "cell_type": "code",
   "execution_count": 3,
   "id": "a0a79e1f",
   "metadata": {},
   "outputs": [
    {
     "data": {
      "text/html": [
       "<div>\n",
       "<style scoped>\n",
       "    .dataframe tbody tr th:only-of-type {\n",
       "        vertical-align: middle;\n",
       "    }\n",
       "\n",
       "    .dataframe tbody tr th {\n",
       "        vertical-align: top;\n",
       "    }\n",
       "\n",
       "    .dataframe thead th {\n",
       "        text-align: right;\n",
       "    }\n",
       "</style>\n",
       "<table border=\"1\" class=\"dataframe\">\n",
       "  <thead>\n",
       "    <tr style=\"text-align: right;\">\n",
       "      <th></th>\n",
       "      <th>children</th>\n",
       "      <th>days_employed</th>\n",
       "      <th>dob_years</th>\n",
       "      <th>education</th>\n",
       "      <th>education_id</th>\n",
       "      <th>family_status</th>\n",
       "      <th>family_status_id</th>\n",
       "      <th>gender</th>\n",
       "      <th>income_type</th>\n",
       "      <th>debt</th>\n",
       "      <th>total_income</th>\n",
       "      <th>purpose</th>\n",
       "    </tr>\n",
       "  </thead>\n",
       "  <tbody>\n",
       "    <tr>\n",
       "      <th>0</th>\n",
       "      <td>1</td>\n",
       "      <td>-8437.673028</td>\n",
       "      <td>42</td>\n",
       "      <td>высшее</td>\n",
       "      <td>0</td>\n",
       "      <td>женат / замужем</td>\n",
       "      <td>0</td>\n",
       "      <td>F</td>\n",
       "      <td>сотрудник</td>\n",
       "      <td>0</td>\n",
       "      <td>253875.639453</td>\n",
       "      <td>покупка жилья</td>\n",
       "    </tr>\n",
       "    <tr>\n",
       "      <th>1</th>\n",
       "      <td>1</td>\n",
       "      <td>-4024.803754</td>\n",
       "      <td>36</td>\n",
       "      <td>среднее</td>\n",
       "      <td>1</td>\n",
       "      <td>женат / замужем</td>\n",
       "      <td>0</td>\n",
       "      <td>F</td>\n",
       "      <td>сотрудник</td>\n",
       "      <td>0</td>\n",
       "      <td>112080.014102</td>\n",
       "      <td>приобретение автомобиля</td>\n",
       "    </tr>\n",
       "    <tr>\n",
       "      <th>2</th>\n",
       "      <td>0</td>\n",
       "      <td>-5623.422610</td>\n",
       "      <td>33</td>\n",
       "      <td>Среднее</td>\n",
       "      <td>1</td>\n",
       "      <td>женат / замужем</td>\n",
       "      <td>0</td>\n",
       "      <td>M</td>\n",
       "      <td>сотрудник</td>\n",
       "      <td>0</td>\n",
       "      <td>145885.952297</td>\n",
       "      <td>покупка жилья</td>\n",
       "    </tr>\n",
       "    <tr>\n",
       "      <th>3</th>\n",
       "      <td>3</td>\n",
       "      <td>-4124.747207</td>\n",
       "      <td>32</td>\n",
       "      <td>среднее</td>\n",
       "      <td>1</td>\n",
       "      <td>женат / замужем</td>\n",
       "      <td>0</td>\n",
       "      <td>M</td>\n",
       "      <td>сотрудник</td>\n",
       "      <td>0</td>\n",
       "      <td>267628.550329</td>\n",
       "      <td>дополнительное образование</td>\n",
       "    </tr>\n",
       "    <tr>\n",
       "      <th>4</th>\n",
       "      <td>0</td>\n",
       "      <td>340266.072047</td>\n",
       "      <td>53</td>\n",
       "      <td>среднее</td>\n",
       "      <td>1</td>\n",
       "      <td>гражданский брак</td>\n",
       "      <td>1</td>\n",
       "      <td>F</td>\n",
       "      <td>пенсионер</td>\n",
       "      <td>0</td>\n",
       "      <td>158616.077870</td>\n",
       "      <td>сыграть свадьбу</td>\n",
       "    </tr>\n",
       "  </tbody>\n",
       "</table>\n",
       "</div>"
      ],
      "text/plain": [
       "   children  days_employed  dob_years education  education_id  \\\n",
       "0         1   -8437.673028         42    высшее             0   \n",
       "1         1   -4024.803754         36   среднее             1   \n",
       "2         0   -5623.422610         33   Среднее             1   \n",
       "3         3   -4124.747207         32   среднее             1   \n",
       "4         0  340266.072047         53   среднее             1   \n",
       "\n",
       "      family_status  family_status_id gender income_type  debt   total_income  \\\n",
       "0   женат / замужем                 0      F   сотрудник     0  253875.639453   \n",
       "1   женат / замужем                 0      F   сотрудник     0  112080.014102   \n",
       "2   женат / замужем                 0      M   сотрудник     0  145885.952297   \n",
       "3   женат / замужем                 0      M   сотрудник     0  267628.550329   \n",
       "4  гражданский брак                 1      F   пенсионер     0  158616.077870   \n",
       "\n",
       "                      purpose  \n",
       "0               покупка жилья  \n",
       "1     приобретение автомобиля  \n",
       "2               покупка жилья  \n",
       "3  дополнительное образование  \n",
       "4             сыграть свадьбу  "
      ]
     },
     "metadata": {},
     "output_type": "display_data"
    },
    {
     "name": "stdout",
     "output_type": "stream",
     "text": [
      "<class 'pandas.core.frame.DataFrame'>\n",
      "RangeIndex: 21525 entries, 0 to 21524\n",
      "Data columns (total 12 columns):\n",
      " #   Column            Non-Null Count  Dtype  \n",
      "---  ------            --------------  -----  \n",
      " 0   children          21525 non-null  int64  \n",
      " 1   days_employed     19351 non-null  float64\n",
      " 2   dob_years         21525 non-null  int64  \n",
      " 3   education         21525 non-null  object \n",
      " 4   education_id      21525 non-null  int64  \n",
      " 5   family_status     21525 non-null  object \n",
      " 6   family_status_id  21525 non-null  int64  \n",
      " 7   gender            21525 non-null  object \n",
      " 8   income_type       21525 non-null  object \n",
      " 9   debt              21525 non-null  int64  \n",
      " 10  total_income      19351 non-null  float64\n",
      " 11  purpose           21525 non-null  object \n",
      "dtypes: float64(2), int64(5), object(5)\n",
      "memory usage: 2.0+ MB\n"
     ]
    }
   ],
   "source": [
    "import pandas as pd\n",
    "data = pd.read_csv('/datasets/data.csv')\n",
    "display(data.head())\n",
    "data.info()"
   ]
  },
  {
   "cell_type": "markdown",
   "id": "dd15b240",
   "metadata": {},
   "source": [
    "Данные содержат 21525 строк и 12 колонок:\n",
    " - children - количество детей в семье;\n",
    " - days_employed - общий трудовой стаж, в днях;\n",
    " - dob_years - возраст клиента;           \n",
    " - education - уровень образования клиента;           \n",
    " - education_id - идентификатор уровня образования;     \n",
    " - family_status - семейное положение;      \n",
    " - family_status_id - идентификатор семейного положения;   \n",
    " - gender - пол клиента;   \n",
    " - income_type - тип занятости клиента;\n",
    " - debt - имел ли задолженности по кредитам (0 - не имел, 1 - имел);                \n",
    " - total_income - ежемесячных доход;        \n",
    " - purpose - цель получения кредита.  \n",
    " \n",
    "Количество значений в колонках days_employed и total_income различаются - значит есть пропущенные значения."
   ]
  },
  {
   "cell_type": "code",
   "execution_count": 4,
   "id": "d1b0ab16",
   "metadata": {},
   "outputs": [
    {
     "data": {
      "text/html": [
       "<div>\n",
       "<style scoped>\n",
       "    .dataframe tbody tr th:only-of-type {\n",
       "        vertical-align: middle;\n",
       "    }\n",
       "\n",
       "    .dataframe tbody tr th {\n",
       "        vertical-align: top;\n",
       "    }\n",
       "\n",
       "    .dataframe thead th {\n",
       "        text-align: right;\n",
       "    }\n",
       "</style>\n",
       "<table border=\"1\" class=\"dataframe\">\n",
       "  <thead>\n",
       "    <tr style=\"text-align: right;\">\n",
       "      <th></th>\n",
       "      <th>children</th>\n",
       "      <th>days_employed</th>\n",
       "      <th>dob_years</th>\n",
       "      <th>education</th>\n",
       "      <th>education_id</th>\n",
       "      <th>family_status</th>\n",
       "      <th>family_status_id</th>\n",
       "      <th>gender</th>\n",
       "      <th>income_type</th>\n",
       "      <th>debt</th>\n",
       "      <th>total_income</th>\n",
       "      <th>purpose</th>\n",
       "    </tr>\n",
       "  </thead>\n",
       "  <tbody>\n",
       "    <tr>\n",
       "      <th>12</th>\n",
       "      <td>0</td>\n",
       "      <td>NaN</td>\n",
       "      <td>65</td>\n",
       "      <td>среднее</td>\n",
       "      <td>1</td>\n",
       "      <td>гражданский брак</td>\n",
       "      <td>1</td>\n",
       "      <td>M</td>\n",
       "      <td>пенсионер</td>\n",
       "      <td>0</td>\n",
       "      <td>NaN</td>\n",
       "      <td>сыграть свадьбу</td>\n",
       "    </tr>\n",
       "    <tr>\n",
       "      <th>26</th>\n",
       "      <td>0</td>\n",
       "      <td>NaN</td>\n",
       "      <td>41</td>\n",
       "      <td>среднее</td>\n",
       "      <td>1</td>\n",
       "      <td>женат / замужем</td>\n",
       "      <td>0</td>\n",
       "      <td>M</td>\n",
       "      <td>госслужащий</td>\n",
       "      <td>0</td>\n",
       "      <td>NaN</td>\n",
       "      <td>образование</td>\n",
       "    </tr>\n",
       "    <tr>\n",
       "      <th>29</th>\n",
       "      <td>0</td>\n",
       "      <td>NaN</td>\n",
       "      <td>63</td>\n",
       "      <td>среднее</td>\n",
       "      <td>1</td>\n",
       "      <td>Не женат / не замужем</td>\n",
       "      <td>4</td>\n",
       "      <td>F</td>\n",
       "      <td>пенсионер</td>\n",
       "      <td>0</td>\n",
       "      <td>NaN</td>\n",
       "      <td>строительство жилой недвижимости</td>\n",
       "    </tr>\n",
       "    <tr>\n",
       "      <th>41</th>\n",
       "      <td>0</td>\n",
       "      <td>NaN</td>\n",
       "      <td>50</td>\n",
       "      <td>среднее</td>\n",
       "      <td>1</td>\n",
       "      <td>женат / замужем</td>\n",
       "      <td>0</td>\n",
       "      <td>F</td>\n",
       "      <td>госслужащий</td>\n",
       "      <td>0</td>\n",
       "      <td>NaN</td>\n",
       "      <td>сделка с подержанным автомобилем</td>\n",
       "    </tr>\n",
       "    <tr>\n",
       "      <th>55</th>\n",
       "      <td>0</td>\n",
       "      <td>NaN</td>\n",
       "      <td>54</td>\n",
       "      <td>среднее</td>\n",
       "      <td>1</td>\n",
       "      <td>гражданский брак</td>\n",
       "      <td>1</td>\n",
       "      <td>F</td>\n",
       "      <td>пенсионер</td>\n",
       "      <td>1</td>\n",
       "      <td>NaN</td>\n",
       "      <td>сыграть свадьбу</td>\n",
       "    </tr>\n",
       "    <tr>\n",
       "      <th>...</th>\n",
       "      <td>...</td>\n",
       "      <td>...</td>\n",
       "      <td>...</td>\n",
       "      <td>...</td>\n",
       "      <td>...</td>\n",
       "      <td>...</td>\n",
       "      <td>...</td>\n",
       "      <td>...</td>\n",
       "      <td>...</td>\n",
       "      <td>...</td>\n",
       "      <td>...</td>\n",
       "      <td>...</td>\n",
       "    </tr>\n",
       "    <tr>\n",
       "      <th>21489</th>\n",
       "      <td>2</td>\n",
       "      <td>NaN</td>\n",
       "      <td>47</td>\n",
       "      <td>Среднее</td>\n",
       "      <td>1</td>\n",
       "      <td>женат / замужем</td>\n",
       "      <td>0</td>\n",
       "      <td>M</td>\n",
       "      <td>компаньон</td>\n",
       "      <td>0</td>\n",
       "      <td>NaN</td>\n",
       "      <td>сделка с автомобилем</td>\n",
       "    </tr>\n",
       "    <tr>\n",
       "      <th>21495</th>\n",
       "      <td>1</td>\n",
       "      <td>NaN</td>\n",
       "      <td>50</td>\n",
       "      <td>среднее</td>\n",
       "      <td>1</td>\n",
       "      <td>гражданский брак</td>\n",
       "      <td>1</td>\n",
       "      <td>F</td>\n",
       "      <td>сотрудник</td>\n",
       "      <td>0</td>\n",
       "      <td>NaN</td>\n",
       "      <td>свадьба</td>\n",
       "    </tr>\n",
       "    <tr>\n",
       "      <th>21497</th>\n",
       "      <td>0</td>\n",
       "      <td>NaN</td>\n",
       "      <td>48</td>\n",
       "      <td>ВЫСШЕЕ</td>\n",
       "      <td>0</td>\n",
       "      <td>женат / замужем</td>\n",
       "      <td>0</td>\n",
       "      <td>F</td>\n",
       "      <td>компаньон</td>\n",
       "      <td>0</td>\n",
       "      <td>NaN</td>\n",
       "      <td>строительство недвижимости</td>\n",
       "    </tr>\n",
       "    <tr>\n",
       "      <th>21502</th>\n",
       "      <td>1</td>\n",
       "      <td>NaN</td>\n",
       "      <td>42</td>\n",
       "      <td>среднее</td>\n",
       "      <td>1</td>\n",
       "      <td>женат / замужем</td>\n",
       "      <td>0</td>\n",
       "      <td>F</td>\n",
       "      <td>сотрудник</td>\n",
       "      <td>0</td>\n",
       "      <td>NaN</td>\n",
       "      <td>строительство жилой недвижимости</td>\n",
       "    </tr>\n",
       "    <tr>\n",
       "      <th>21510</th>\n",
       "      <td>2</td>\n",
       "      <td>NaN</td>\n",
       "      <td>28</td>\n",
       "      <td>среднее</td>\n",
       "      <td>1</td>\n",
       "      <td>женат / замужем</td>\n",
       "      <td>0</td>\n",
       "      <td>F</td>\n",
       "      <td>сотрудник</td>\n",
       "      <td>0</td>\n",
       "      <td>NaN</td>\n",
       "      <td>приобретение автомобиля</td>\n",
       "    </tr>\n",
       "  </tbody>\n",
       "</table>\n",
       "<p>2174 rows × 12 columns</p>\n",
       "</div>"
      ],
      "text/plain": [
       "       children  days_employed  dob_years education  education_id  \\\n",
       "12            0            NaN         65   среднее             1   \n",
       "26            0            NaN         41   среднее             1   \n",
       "29            0            NaN         63   среднее             1   \n",
       "41            0            NaN         50   среднее             1   \n",
       "55            0            NaN         54   среднее             1   \n",
       "...         ...            ...        ...       ...           ...   \n",
       "21489         2            NaN         47   Среднее             1   \n",
       "21495         1            NaN         50   среднее             1   \n",
       "21497         0            NaN         48    ВЫСШЕЕ             0   \n",
       "21502         1            NaN         42   среднее             1   \n",
       "21510         2            NaN         28   среднее             1   \n",
       "\n",
       "               family_status  family_status_id gender  income_type  debt  \\\n",
       "12          гражданский брак                 1      M    пенсионер     0   \n",
       "26           женат / замужем                 0      M  госслужащий     0   \n",
       "29     Не женат / не замужем                 4      F    пенсионер     0   \n",
       "41           женат / замужем                 0      F  госслужащий     0   \n",
       "55          гражданский брак                 1      F    пенсионер     1   \n",
       "...                      ...               ...    ...          ...   ...   \n",
       "21489        женат / замужем                 0      M    компаньон     0   \n",
       "21495       гражданский брак                 1      F    сотрудник     0   \n",
       "21497        женат / замужем                 0      F    компаньон     0   \n",
       "21502        женат / замужем                 0      F    сотрудник     0   \n",
       "21510        женат / замужем                 0      F    сотрудник     0   \n",
       "\n",
       "       total_income                           purpose  \n",
       "12              NaN                   сыграть свадьбу  \n",
       "26              NaN                       образование  \n",
       "29              NaN  строительство жилой недвижимости  \n",
       "41              NaN  сделка с подержанным автомобилем  \n",
       "55              NaN                   сыграть свадьбу  \n",
       "...             ...                               ...  \n",
       "21489           NaN              сделка с автомобилем  \n",
       "21495           NaN                           свадьба  \n",
       "21497           NaN        строительство недвижимости  \n",
       "21502           NaN  строительство жилой недвижимости  \n",
       "21510           NaN           приобретение автомобиля  \n",
       "\n",
       "[2174 rows x 12 columns]"
      ]
     },
     "execution_count": 4,
     "metadata": {},
     "output_type": "execute_result"
    }
   ],
   "source": [
    "#Заполнение пропусков\n",
    "data[data['days_employed'].isna()]\n",
    "data[data['total_income'].isna()]"
   ]
  },
  {
   "cell_type": "markdown",
   "id": "da8a47d9",
   "metadata": {},
   "source": [
    "Пропущенные значения по столбцам days_employed и total_income находятся в одних и тех же строках, ячейки заполнены NaN и составляют 10% от общего числа ячеек.\n",
    "Наличие пропусков может быть связано с непредоставлением клиентом (заёмщиком) информации о доходах.\n"
   ]
  },
  {
   "cell_type": "code",
   "execution_count": 5,
   "id": "14bcce91",
   "metadata": {},
   "outputs": [
    {
     "name": "stdout",
     "output_type": "stream",
     "text": [
      "<class 'pandas.core.frame.DataFrame'>\n",
      "RangeIndex: 21525 entries, 0 to 21524\n",
      "Data columns (total 12 columns):\n",
      " #   Column            Non-Null Count  Dtype  \n",
      "---  ------            --------------  -----  \n",
      " 0   children          21525 non-null  int64  \n",
      " 1   days_employed     21525 non-null  float64\n",
      " 2   dob_years         21525 non-null  int64  \n",
      " 3   education         21525 non-null  object \n",
      " 4   education_id      21525 non-null  int64  \n",
      " 5   family_status     21525 non-null  object \n",
      " 6   family_status_id  21525 non-null  int64  \n",
      " 7   gender            21525 non-null  object \n",
      " 8   income_type       21525 non-null  object \n",
      " 9   debt              21525 non-null  int64  \n",
      " 10  total_income      21525 non-null  float64\n",
      " 11  purpose           21525 non-null  object \n",
      "dtypes: float64(2), int64(5), object(5)\n",
      "memory usage: 2.0+ MB\n"
     ]
    }
   ],
   "source": [
    "data['days_employed'] = data['days_employed'].abs()\n",
    "data['days_employed'] = data['days_employed'].fillna(data['days_employed'].median())\n",
    "data['total_income'] = data['total_income'].fillna(data['total_income'].median())\n",
    "data.info()"
   ]
  },
  {
   "cell_type": "markdown",
   "id": "12260453",
   "metadata": {},
   "source": [
    "Пропущенные значения в колонках days_employed и total_income заменены на медианное значение по столбцу, как характеризующее состояние выборки в количественном значении."
   ]
  },
  {
   "cell_type": "markdown",
   "id": "c26a275d",
   "metadata": {},
   "source": [
    "<a id='2'></a>\n",
    "### 2. Проверка данных на аномалии и исправления"
   ]
  },
  {
   "cell_type": "markdown",
   "id": "6ad17780",
   "metadata": {},
   "source": [
    "#### Колонка children - количество детей заёмщика"
   ]
  },
  {
   "cell_type": "code",
   "execution_count": 6,
   "id": "6c4fcd79",
   "metadata": {},
   "outputs": [
    {
     "data": {
      "text/plain": [
       "array([-1,  0,  1,  2,  3,  4,  5, 20], dtype=int64)"
      ]
     },
     "execution_count": 6,
     "metadata": {},
     "output_type": "execute_result"
    }
   ],
   "source": [
    "data['children'].sort_values().unique()"
   ]
  },
  {
   "cell_type": "code",
   "execution_count": 7,
   "id": "1cd17686",
   "metadata": {},
   "outputs": [
    {
     "data": {
      "text/plain": [
       "47"
      ]
     },
     "execution_count": 7,
     "metadata": {},
     "output_type": "execute_result"
    }
   ],
   "source": [
    "data.loc[data['children'] == -1]['children'].count()"
   ]
  },
  {
   "cell_type": "code",
   "execution_count": 8,
   "id": "e0af6bf0",
   "metadata": {},
   "outputs": [
    {
     "data": {
      "text/plain": [
       "76"
      ]
     },
     "execution_count": 8,
     "metadata": {},
     "output_type": "execute_result"
    }
   ],
   "source": [
    "data.loc[data['children'] == 20]['children'].count()"
   ]
  },
  {
   "cell_type": "markdown",
   "id": "775840da",
   "metadata": {},
   "source": [
    "При проверке значений по колонке children выявлены аномальные значения: -1 (47 строк) и 20 (76 строк).\n",
    "Возможно данные аномальные значения возникли в результате опечатки. Заменим -1 на 1, 20 на 2."
   ]
  },
  {
   "cell_type": "code",
   "execution_count": 9,
   "id": "9ab7d5a8",
   "metadata": {},
   "outputs": [
    {
     "data": {
      "text/plain": [
       "array([0, 1, 2, 3, 4, 5], dtype=int64)"
      ]
     },
     "execution_count": 9,
     "metadata": {},
     "output_type": "execute_result"
    }
   ],
   "source": [
    "data['children'] = data['children'].replace(-1, 1)\n",
    "data['children'] = data['children'].replace(20, 2)\n",
    "data['children'].sort_values().unique()"
   ]
  },
  {
   "cell_type": "markdown",
   "id": "e3616f94",
   "metadata": {},
   "source": [
    "#### Колонка dob_years - возраст заёмщика"
   ]
  },
  {
   "cell_type": "code",
   "execution_count": 10,
   "id": "9006fae3",
   "metadata": {},
   "outputs": [
    {
     "data": {
      "text/plain": [
       "array([ 0, 19, 20, 21, 22, 23, 24, 25, 26, 27, 28, 29, 30, 31, 32, 33, 34,\n",
       "       35, 36, 37, 38, 39, 40, 41, 42, 43, 44, 45, 46, 47, 48, 49, 50, 51,\n",
       "       52, 53, 54, 55, 56, 57, 58, 59, 60, 61, 62, 63, 64, 65, 66, 67, 68,\n",
       "       69, 70, 71, 72, 73, 74, 75], dtype=int64)"
      ]
     },
     "execution_count": 10,
     "metadata": {},
     "output_type": "execute_result"
    }
   ],
   "source": [
    "data['dob_years'].sort_values().unique()"
   ]
  },
  {
   "cell_type": "code",
   "execution_count": 11,
   "id": "9563b452",
   "metadata": {},
   "outputs": [
    {
     "data": {
      "text/plain": [
       "101"
      ]
     },
     "execution_count": 11,
     "metadata": {},
     "output_type": "execute_result"
    }
   ],
   "source": [
    "data.loc[data['dob_years'] == 0]['dob_years'].count()"
   ]
  },
  {
   "cell_type": "markdown",
   "id": "b0338c78",
   "metadata": {},
   "source": [
    "При проверке значений по колонке dob_years выявлены аномальные значения: 0 лет (101 строка). Заменим на медианное значение."
   ]
  },
  {
   "cell_type": "code",
   "execution_count": 12,
   "id": "44930de2",
   "metadata": {},
   "outputs": [
    {
     "data": {
      "text/plain": [
       "array([19, 20, 21, 22, 23, 24, 25, 26, 27, 28, 29, 30, 31, 32, 33, 34, 35,\n",
       "       36, 37, 38, 39, 40, 41, 42, 43, 44, 45, 46, 47, 48, 49, 50, 51, 52,\n",
       "       53, 54, 55, 56, 57, 58, 59, 60, 61, 62, 63, 64, 65, 66, 67, 68, 69,\n",
       "       70, 71, 72, 73, 74, 75], dtype=int64)"
      ]
     },
     "execution_count": 12,
     "metadata": {},
     "output_type": "execute_result"
    }
   ],
   "source": [
    "data['dob_years'] = data['dob_years'].replace(0, data['dob_years'].median())\n",
    "data['dob_years'].sort_values().unique()"
   ]
  },
  {
   "cell_type": "markdown",
   "id": "f2194ac2",
   "metadata": {},
   "source": [
    "#### Колонка family_status - семейное положение и family_status_id - идентификатор семейного положения"
   ]
  },
  {
   "cell_type": "code",
   "execution_count": 13,
   "id": "f91132f2",
   "metadata": {},
   "outputs": [
    {
     "data": {
      "text/plain": [
       "array(['Не женат / не замужем', 'в разводе', 'вдовец / вдова',\n",
       "       'гражданский брак', 'женат / замужем'], dtype=object)"
      ]
     },
     "execution_count": 13,
     "metadata": {},
     "output_type": "execute_result"
    }
   ],
   "source": [
    "data['family_status'].sort_values().unique()"
   ]
  },
  {
   "cell_type": "code",
   "execution_count": 14,
   "id": "3a72a20c",
   "metadata": {},
   "outputs": [
    {
     "data": {
      "text/plain": [
       "array([0, 1, 2, 3, 4], dtype=int64)"
      ]
     },
     "execution_count": 14,
     "metadata": {},
     "output_type": "execute_result"
    }
   ],
   "source": [
    "data['family_status_id'].sort_values().unique()"
   ]
  },
  {
   "cell_type": "markdown",
   "id": "858f6eff",
   "metadata": {},
   "source": [
    "Без аномальных значений."
   ]
  },
  {
   "cell_type": "markdown",
   "id": "a8554164",
   "metadata": {},
   "source": [
    "#### Колонка gender - пол заёмщика"
   ]
  },
  {
   "cell_type": "code",
   "execution_count": 15,
   "id": "9fba8d65",
   "metadata": {},
   "outputs": [
    {
     "data": {
      "text/plain": [
       "array(['F', 'M', 'XNA'], dtype=object)"
      ]
     },
     "execution_count": 15,
     "metadata": {},
     "output_type": "execute_result"
    }
   ],
   "source": [
    "data['gender'].sort_values().unique()"
   ]
  },
  {
   "cell_type": "code",
   "execution_count": 16,
   "id": "ef03e2b0",
   "metadata": {},
   "outputs": [
    {
     "data": {
      "text/plain": [
       "1"
      ]
     },
     "execution_count": 16,
     "metadata": {},
     "output_type": "execute_result"
    }
   ],
   "source": [
    "data.loc[data['gender'] == 'XNA']['gender'].count()"
   ]
  },
  {
   "cell_type": "code",
   "execution_count": 17,
   "id": "18e26db5",
   "metadata": {},
   "outputs": [
    {
     "data": {
      "text/html": [
       "<div>\n",
       "<style scoped>\n",
       "    .dataframe tbody tr th:only-of-type {\n",
       "        vertical-align: middle;\n",
       "    }\n",
       "\n",
       "    .dataframe tbody tr th {\n",
       "        vertical-align: top;\n",
       "    }\n",
       "\n",
       "    .dataframe thead th {\n",
       "        text-align: right;\n",
       "    }\n",
       "</style>\n",
       "<table border=\"1\" class=\"dataframe\">\n",
       "  <thead>\n",
       "    <tr style=\"text-align: right;\">\n",
       "      <th></th>\n",
       "      <th>children</th>\n",
       "      <th>days_employed</th>\n",
       "      <th>dob_years</th>\n",
       "      <th>education</th>\n",
       "      <th>education_id</th>\n",
       "      <th>family_status</th>\n",
       "      <th>family_status_id</th>\n",
       "      <th>gender</th>\n",
       "      <th>income_type</th>\n",
       "      <th>debt</th>\n",
       "      <th>total_income</th>\n",
       "      <th>purpose</th>\n",
       "    </tr>\n",
       "  </thead>\n",
       "  <tbody>\n",
       "    <tr>\n",
       "      <th>10701</th>\n",
       "      <td>0</td>\n",
       "      <td>2358.600502</td>\n",
       "      <td>24</td>\n",
       "      <td>неоконченное высшее</td>\n",
       "      <td>2</td>\n",
       "      <td>гражданский брак</td>\n",
       "      <td>1</td>\n",
       "      <td>XNA</td>\n",
       "      <td>компаньон</td>\n",
       "      <td>0</td>\n",
       "      <td>203905.157261</td>\n",
       "      <td>покупка недвижимости</td>\n",
       "    </tr>\n",
       "  </tbody>\n",
       "</table>\n",
       "</div>"
      ],
      "text/plain": [
       "       children  days_employed  dob_years            education  education_id  \\\n",
       "10701         0    2358.600502         24  неоконченное высшее             2   \n",
       "\n",
       "          family_status  family_status_id gender income_type  debt  \\\n",
       "10701  гражданский брак                 1    XNA   компаньон     0   \n",
       "\n",
       "        total_income               purpose  \n",
       "10701  203905.157261  покупка недвижимости  "
      ]
     },
     "execution_count": 17,
     "metadata": {},
     "output_type": "execute_result"
    }
   ],
   "source": [
    "data[data['gender'] == 'XNA']"
   ]
  },
  {
   "cell_type": "markdown",
   "id": "f15ce35e",
   "metadata": {},
   "source": [
    "В Российской Федерации официально признано два пола: мужской и женский. Вероятно значение XNA - опечатка. Для достижения цели исследования данные по столбцу gender не имеют значения. Оставлено без изменений."
   ]
  },
  {
   "cell_type": "markdown",
   "id": "157b5a16",
   "metadata": {},
   "source": [
    "#### Колонка income_type, debt и total_income"
   ]
  },
  {
   "cell_type": "code",
   "execution_count": 18,
   "id": "54ef044c",
   "metadata": {},
   "outputs": [
    {
     "data": {
      "text/plain": [
       "array(['безработный', 'в декрете', 'госслужащий', 'компаньон',\n",
       "       'пенсионер', 'предприниматель', 'сотрудник', 'студент'],\n",
       "      dtype=object)"
      ]
     },
     "execution_count": 18,
     "metadata": {},
     "output_type": "execute_result"
    }
   ],
   "source": [
    "data['income_type'].sort_values().unique()"
   ]
  },
  {
   "cell_type": "code",
   "execution_count": 19,
   "id": "0ed5be65",
   "metadata": {},
   "outputs": [
    {
     "data": {
      "text/plain": [
       "array([0, 1], dtype=int64)"
      ]
     },
     "execution_count": 19,
     "metadata": {},
     "output_type": "execute_result"
    }
   ],
   "source": [
    "data['debt'].sort_values().unique()"
   ]
  },
  {
   "cell_type": "code",
   "execution_count": 20,
   "id": "2abdc885",
   "metadata": {},
   "outputs": [
    {
     "data": {
      "text/plain": [
       "array([  20667.26379327,   21205.28056622,   21367.64835649, ...,\n",
       "       1726276.01433167, 2200852.2102589 , 2265604.02872274])"
      ]
     },
     "execution_count": 20,
     "metadata": {},
     "output_type": "execute_result"
    }
   ],
   "source": [
    "data['total_income'].sort_values().unique()"
   ]
  },
  {
   "cell_type": "code",
   "execution_count": 21,
   "id": "2e659d22",
   "metadata": {},
   "outputs": [
    {
     "data": {
      "text/plain": [
       "count    2.152500e+04\n",
       "mean     1.651595e+05\n",
       "std      9.786607e+04\n",
       "min      2.066726e+04\n",
       "25%      1.077982e+05\n",
       "50%      1.450179e+05\n",
       "75%      1.955436e+05\n",
       "max      2.265604e+06\n",
       "Name: total_income, dtype: float64"
      ]
     },
     "execution_count": 21,
     "metadata": {},
     "output_type": "execute_result"
    }
   ],
   "source": [
    "data['total_income'].describe()"
   ]
  },
  {
   "cell_type": "markdown",
   "id": "c06fa7f5",
   "metadata": {},
   "source": [
    "Без аномальных значений."
   ]
  },
  {
   "cell_type": "markdown",
   "id": "43d28d25",
   "metadata": {},
   "source": [
    "#### Колонка purpose - цель кредита"
   ]
  },
  {
   "cell_type": "code",
   "execution_count": 22,
   "id": "075754e3",
   "metadata": {},
   "outputs": [
    {
     "data": {
      "text/plain": [
       "array(['автомобили', 'автомобиль', 'высшее образование',\n",
       "       'дополнительное образование', 'жилье',\n",
       "       'заняться высшим образованием', 'заняться образованием',\n",
       "       'на покупку автомобиля', 'на покупку подержанного автомобиля',\n",
       "       'на покупку своего автомобиля', 'на проведение свадьбы',\n",
       "       'недвижимость', 'образование', 'операции с жильем',\n",
       "       'операции с коммерческой недвижимостью',\n",
       "       'операции с недвижимостью', 'операции со своей недвижимостью',\n",
       "       'покупка жилой недвижимости', 'покупка жилья',\n",
       "       'покупка жилья для сдачи', 'покупка жилья для семьи',\n",
       "       'покупка коммерческой недвижимости', 'покупка недвижимости',\n",
       "       'покупка своего жилья', 'получение высшего образования',\n",
       "       'получение дополнительного образования', 'получение образования',\n",
       "       'приобретение автомобиля', 'профильное образование',\n",
       "       'ремонт жилью', 'свадьба', 'свой автомобиль',\n",
       "       'сделка с автомобилем', 'сделка с подержанным автомобилем',\n",
       "       'строительство жилой недвижимости', 'строительство недвижимости',\n",
       "       'строительство собственной недвижимости', 'сыграть свадьбу'],\n",
       "      dtype=object)"
      ]
     },
     "execution_count": 22,
     "metadata": {},
     "output_type": "execute_result"
    }
   ],
   "source": [
    "data['purpose'].sort_values().unique()"
   ]
  },
  {
   "cell_type": "markdown",
   "id": "d5933122",
   "metadata": {},
   "source": [
    "Цели повторяются в разной формулировке."
   ]
  },
  {
   "cell_type": "markdown",
   "id": "1e986c6a",
   "metadata": {},
   "source": [
    "<a id='3'></a>\n",
    "### 3. Изменение типов данных"
   ]
  },
  {
   "cell_type": "markdown",
   "id": "8fc98a55",
   "metadata": {},
   "source": [
    "В колонке total_income тип данных указан как float64. Заменим на целочисленное значение."
   ]
  },
  {
   "cell_type": "code",
   "execution_count": 23,
   "id": "62c12093",
   "metadata": {},
   "outputs": [
    {
     "data": {
      "text/plain": [
       "array([  20667,   21205,   21367, ..., 1726276, 2200852, 2265604])"
      ]
     },
     "execution_count": 23,
     "metadata": {},
     "output_type": "execute_result"
    }
   ],
   "source": [
    "data['total_income'] = data['total_income'].astype('int')\n",
    "data['total_income'].sort_values().unique()"
   ]
  },
  {
   "cell_type": "code",
   "execution_count": 24,
   "id": "335dec77",
   "metadata": {},
   "outputs": [
    {
     "name": "stdout",
     "output_type": "stream",
     "text": [
      "<class 'pandas.core.frame.DataFrame'>\n",
      "RangeIndex: 21525 entries, 0 to 21524\n",
      "Data columns (total 12 columns):\n",
      " #   Column            Non-Null Count  Dtype  \n",
      "---  ------            --------------  -----  \n",
      " 0   children          21525 non-null  int64  \n",
      " 1   days_employed     21525 non-null  float64\n",
      " 2   dob_years         21525 non-null  int64  \n",
      " 3   education         21525 non-null  object \n",
      " 4   education_id      21525 non-null  int64  \n",
      " 5   family_status     21525 non-null  object \n",
      " 6   family_status_id  21525 non-null  int64  \n",
      " 7   gender            21525 non-null  object \n",
      " 8   income_type       21525 non-null  object \n",
      " 9   debt              21525 non-null  int64  \n",
      " 10  total_income      21525 non-null  int32  \n",
      " 11  purpose           21525 non-null  object \n",
      "dtypes: float64(1), int32(1), int64(5), object(5)\n",
      "memory usage: 1.9+ MB\n"
     ]
    }
   ],
   "source": [
    "data.info()"
   ]
  },
  {
   "cell_type": "markdown",
   "id": "2d7a817d",
   "metadata": {},
   "source": [
    "<a id='4'></a>\n",
    "### 4. Удаление дубликатов"
   ]
  },
  {
   "cell_type": "code",
   "execution_count": 25,
   "id": "763d049e",
   "metadata": {},
   "outputs": [
    {
     "data": {
      "text/plain": [
       "array(['ВЫСШЕЕ', 'Высшее', 'НАЧАЛЬНОЕ', 'НЕОКОНЧЕННОЕ ВЫСШЕЕ',\n",
       "       'Начальное', 'Неоконченное высшее', 'СРЕДНЕЕ', 'Среднее',\n",
       "       'УЧЕНАЯ СТЕПЕНЬ', 'Ученая степень', 'высшее', 'начальное',\n",
       "       'неоконченное высшее', 'среднее', 'ученая степень'], dtype=object)"
      ]
     },
     "execution_count": 25,
     "metadata": {},
     "output_type": "execute_result"
    }
   ],
   "source": [
    "data['education'].sort_values().unique()"
   ]
  },
  {
   "cell_type": "code",
   "execution_count": 26,
   "id": "1d4eab24",
   "metadata": {},
   "outputs": [
    {
     "data": {
      "text/plain": [
       "array(['высшее', 'начальное', 'неоконченное высшее', 'среднее',\n",
       "       'ученая степень'], dtype=object)"
      ]
     },
     "execution_count": 26,
     "metadata": {},
     "output_type": "execute_result"
    }
   ],
   "source": [
    "data['education'] = data['education'].str.lower()\n",
    "data['education'].sort_values().unique()"
   ]
  },
  {
   "cell_type": "code",
   "execution_count": 27,
   "id": "2fa81b1b",
   "metadata": {},
   "outputs": [
    {
     "data": {
      "text/plain": [
       "72"
      ]
     },
     "execution_count": 27,
     "metadata": {},
     "output_type": "execute_result"
    }
   ],
   "source": [
    "data.duplicated().sum()"
   ]
  },
  {
   "cell_type": "code",
   "execution_count": 28,
   "id": "8b890955",
   "metadata": {},
   "outputs": [
    {
     "data": {
      "text/plain": [
       "0"
      ]
     },
     "execution_count": 28,
     "metadata": {},
     "output_type": "execute_result"
    }
   ],
   "source": [
    "data = data.drop_duplicates().reset_index(drop=True)\n",
    "data.duplicated().sum()\n"
   ]
  },
  {
   "cell_type": "code",
   "execution_count": 29,
   "id": "291c0994",
   "metadata": {},
   "outputs": [
    {
     "name": "stdout",
     "output_type": "stream",
     "text": [
      "<class 'pandas.core.frame.DataFrame'>\n",
      "RangeIndex: 21453 entries, 0 to 21452\n",
      "Data columns (total 12 columns):\n",
      " #   Column            Non-Null Count  Dtype  \n",
      "---  ------            --------------  -----  \n",
      " 0   children          21453 non-null  int64  \n",
      " 1   days_employed     21453 non-null  float64\n",
      " 2   dob_years         21453 non-null  int64  \n",
      " 3   education         21453 non-null  object \n",
      " 4   education_id      21453 non-null  int64  \n",
      " 5   family_status     21453 non-null  object \n",
      " 6   family_status_id  21453 non-null  int64  \n",
      " 7   gender            21453 non-null  object \n",
      " 8   income_type       21453 non-null  object \n",
      " 9   debt              21453 non-null  int64  \n",
      " 10  total_income      21453 non-null  int32  \n",
      " 11  purpose           21453 non-null  object \n",
      "dtypes: float64(1), int32(1), int64(5), object(5)\n",
      "memory usage: 1.9+ MB\n"
     ]
    }
   ],
   "source": [
    "data.info()"
   ]
  },
  {
   "cell_type": "markdown",
   "id": "714db7fb",
   "metadata": {},
   "source": [
    "В процессе анализа по столбцу education выявлены неявные дубликаты, связанные с применением в значении разных регистров. Исправлено приведением к одному. Также обнаружены дубликаты строк в количестве 72. После удаления общее число строк уменьшилось до 21453."
   ]
  },
  {
   "cell_type": "markdown",
   "id": "145f7b55",
   "metadata": {},
   "source": [
    "<a id='5'></a>\n",
    "### 5. Формирование дополнительных датафреймов словарей, декомпозиция исходного датафрейма"
   ]
  },
  {
   "cell_type": "code",
   "execution_count": 30,
   "id": "2ffd0256",
   "metadata": {},
   "outputs": [
    {
     "data": {
      "text/html": [
       "<div>\n",
       "<style scoped>\n",
       "    .dataframe tbody tr th:only-of-type {\n",
       "        vertical-align: middle;\n",
       "    }\n",
       "\n",
       "    .dataframe tbody tr th {\n",
       "        vertical-align: top;\n",
       "    }\n",
       "\n",
       "    .dataframe thead th {\n",
       "        text-align: right;\n",
       "    }\n",
       "</style>\n",
       "<table border=\"1\" class=\"dataframe\">\n",
       "  <thead>\n",
       "    <tr style=\"text-align: right;\">\n",
       "      <th></th>\n",
       "      <th>education_id</th>\n",
       "      <th>education</th>\n",
       "    </tr>\n",
       "  </thead>\n",
       "  <tbody>\n",
       "    <tr>\n",
       "      <th>0</th>\n",
       "      <td>0</td>\n",
       "      <td>высшее</td>\n",
       "    </tr>\n",
       "    <tr>\n",
       "      <th>1</th>\n",
       "      <td>1</td>\n",
       "      <td>среднее</td>\n",
       "    </tr>\n",
       "    <tr>\n",
       "      <th>2</th>\n",
       "      <td>2</td>\n",
       "      <td>неоконченное высшее</td>\n",
       "    </tr>\n",
       "    <tr>\n",
       "      <th>3</th>\n",
       "      <td>3</td>\n",
       "      <td>начальное</td>\n",
       "    </tr>\n",
       "    <tr>\n",
       "      <th>4</th>\n",
       "      <td>4</td>\n",
       "      <td>ученая степень</td>\n",
       "    </tr>\n",
       "  </tbody>\n",
       "</table>\n",
       "</div>"
      ],
      "text/plain": [
       "   education_id            education\n",
       "0             0               высшее\n",
       "1             1              среднее\n",
       "2             2  неоконченное высшее\n",
       "3             3            начальное\n",
       "4             4       ученая степень"
      ]
     },
     "execution_count": 30,
     "metadata": {},
     "output_type": "execute_result"
    }
   ],
   "source": [
    "education_dict = data[['education_id', 'education']]\n",
    "education_dict = education_dict.drop_duplicates().reset_index(drop=True)\n",
    "education_dict"
   ]
  },
  {
   "cell_type": "code",
   "execution_count": 31,
   "id": "fdaf67ee",
   "metadata": {},
   "outputs": [
    {
     "data": {
      "text/html": [
       "<div>\n",
       "<style scoped>\n",
       "    .dataframe tbody tr th:only-of-type {\n",
       "        vertical-align: middle;\n",
       "    }\n",
       "\n",
       "    .dataframe tbody tr th {\n",
       "        vertical-align: top;\n",
       "    }\n",
       "\n",
       "    .dataframe thead th {\n",
       "        text-align: right;\n",
       "    }\n",
       "</style>\n",
       "<table border=\"1\" class=\"dataframe\">\n",
       "  <thead>\n",
       "    <tr style=\"text-align: right;\">\n",
       "      <th></th>\n",
       "      <th>family_status_id</th>\n",
       "      <th>family_status</th>\n",
       "    </tr>\n",
       "  </thead>\n",
       "  <tbody>\n",
       "    <tr>\n",
       "      <th>0</th>\n",
       "      <td>0</td>\n",
       "      <td>женат / замужем</td>\n",
       "    </tr>\n",
       "    <tr>\n",
       "      <th>1</th>\n",
       "      <td>1</td>\n",
       "      <td>гражданский брак</td>\n",
       "    </tr>\n",
       "    <tr>\n",
       "      <th>2</th>\n",
       "      <td>2</td>\n",
       "      <td>вдовец / вдова</td>\n",
       "    </tr>\n",
       "    <tr>\n",
       "      <th>3</th>\n",
       "      <td>3</td>\n",
       "      <td>в разводе</td>\n",
       "    </tr>\n",
       "    <tr>\n",
       "      <th>4</th>\n",
       "      <td>4</td>\n",
       "      <td>Не женат / не замужем</td>\n",
       "    </tr>\n",
       "  </tbody>\n",
       "</table>\n",
       "</div>"
      ],
      "text/plain": [
       "   family_status_id          family_status\n",
       "0                 0        женат / замужем\n",
       "1                 1       гражданский брак\n",
       "2                 2         вдовец / вдова\n",
       "3                 3              в разводе\n",
       "4                 4  Не женат / не замужем"
      ]
     },
     "execution_count": 31,
     "metadata": {},
     "output_type": "execute_result"
    }
   ],
   "source": [
    "family_status_dict = data[['family_status_id', 'family_status']]\n",
    "family_status_dict =family_status_dict.drop_duplicates().reset_index(drop=True)\n",
    "family_status_dict "
   ]
  },
  {
   "cell_type": "code",
   "execution_count": 32,
   "id": "4784c7de",
   "metadata": {},
   "outputs": [
    {
     "name": "stdout",
     "output_type": "stream",
     "text": [
      "<class 'pandas.core.frame.DataFrame'>\n",
      "RangeIndex: 21453 entries, 0 to 21452\n",
      "Data columns (total 10 columns):\n",
      " #   Column         Non-Null Count  Dtype  \n",
      "---  ------         --------------  -----  \n",
      " 0   children       21453 non-null  int64  \n",
      " 1   days_employed  21453 non-null  float64\n",
      " 2   dob_years      21453 non-null  int64  \n",
      " 3   education      21453 non-null  object \n",
      " 4   family_status  21453 non-null  object \n",
      " 5   gender         21453 non-null  object \n",
      " 6   income_type    21453 non-null  object \n",
      " 7   debt           21453 non-null  int64  \n",
      " 8   total_income   21453 non-null  int32  \n",
      " 9   purpose        21453 non-null  object \n",
      "dtypes: float64(1), int32(1), int64(3), object(5)\n",
      "memory usage: 1.6+ MB\n"
     ]
    }
   ],
   "source": [
    "data = data[['children', 'days_employed', 'dob_years', 'education', 'family_status', 'gender', 'income_type', 'debt', 'total_income', 'purpose']]\n",
    "data.info()"
   ]
  },
  {
   "cell_type": "markdown",
   "id": "fd329b26",
   "metadata": {},
   "source": [
    "<a id='6'></a>\n",
    "### 6. Категоризация дохода"
   ]
  },
  {
   "cell_type": "code",
   "execution_count": 33,
   "id": "b252e1ea",
   "metadata": {},
   "outputs": [
    {
     "data": {
      "text/html": [
       "<div>\n",
       "<style scoped>\n",
       "    .dataframe tbody tr th:only-of-type {\n",
       "        vertical-align: middle;\n",
       "    }\n",
       "\n",
       "    .dataframe tbody tr th {\n",
       "        vertical-align: top;\n",
       "    }\n",
       "\n",
       "    .dataframe thead th {\n",
       "        text-align: right;\n",
       "    }\n",
       "</style>\n",
       "<table border=\"1\" class=\"dataframe\">\n",
       "  <thead>\n",
       "    <tr style=\"text-align: right;\">\n",
       "      <th></th>\n",
       "      <th>children</th>\n",
       "      <th>days_employed</th>\n",
       "      <th>dob_years</th>\n",
       "      <th>education</th>\n",
       "      <th>family_status</th>\n",
       "      <th>gender</th>\n",
       "      <th>income_type</th>\n",
       "      <th>debt</th>\n",
       "      <th>total_income</th>\n",
       "      <th>purpose</th>\n",
       "      <th>total_income_category</th>\n",
       "    </tr>\n",
       "  </thead>\n",
       "  <tbody>\n",
       "    <tr>\n",
       "      <th>0</th>\n",
       "      <td>1</td>\n",
       "      <td>8437.673028</td>\n",
       "      <td>42</td>\n",
       "      <td>высшее</td>\n",
       "      <td>женат / замужем</td>\n",
       "      <td>F</td>\n",
       "      <td>сотрудник</td>\n",
       "      <td>0</td>\n",
       "      <td>253875</td>\n",
       "      <td>покупка жилья</td>\n",
       "      <td>B</td>\n",
       "    </tr>\n",
       "    <tr>\n",
       "      <th>1</th>\n",
       "      <td>1</td>\n",
       "      <td>4024.803754</td>\n",
       "      <td>36</td>\n",
       "      <td>среднее</td>\n",
       "      <td>женат / замужем</td>\n",
       "      <td>F</td>\n",
       "      <td>сотрудник</td>\n",
       "      <td>0</td>\n",
       "      <td>112080</td>\n",
       "      <td>приобретение автомобиля</td>\n",
       "      <td>C</td>\n",
       "    </tr>\n",
       "    <tr>\n",
       "      <th>2</th>\n",
       "      <td>0</td>\n",
       "      <td>5623.422610</td>\n",
       "      <td>33</td>\n",
       "      <td>среднее</td>\n",
       "      <td>женат / замужем</td>\n",
       "      <td>M</td>\n",
       "      <td>сотрудник</td>\n",
       "      <td>0</td>\n",
       "      <td>145885</td>\n",
       "      <td>покупка жилья</td>\n",
       "      <td>C</td>\n",
       "    </tr>\n",
       "    <tr>\n",
       "      <th>3</th>\n",
       "      <td>3</td>\n",
       "      <td>4124.747207</td>\n",
       "      <td>32</td>\n",
       "      <td>среднее</td>\n",
       "      <td>женат / замужем</td>\n",
       "      <td>M</td>\n",
       "      <td>сотрудник</td>\n",
       "      <td>0</td>\n",
       "      <td>267628</td>\n",
       "      <td>дополнительное образование</td>\n",
       "      <td>B</td>\n",
       "    </tr>\n",
       "    <tr>\n",
       "      <th>4</th>\n",
       "      <td>0</td>\n",
       "      <td>340266.072047</td>\n",
       "      <td>53</td>\n",
       "      <td>среднее</td>\n",
       "      <td>гражданский брак</td>\n",
       "      <td>F</td>\n",
       "      <td>пенсионер</td>\n",
       "      <td>0</td>\n",
       "      <td>158616</td>\n",
       "      <td>сыграть свадьбу</td>\n",
       "      <td>C</td>\n",
       "    </tr>\n",
       "    <tr>\n",
       "      <th>5</th>\n",
       "      <td>0</td>\n",
       "      <td>926.185831</td>\n",
       "      <td>27</td>\n",
       "      <td>высшее</td>\n",
       "      <td>гражданский брак</td>\n",
       "      <td>M</td>\n",
       "      <td>компаньон</td>\n",
       "      <td>0</td>\n",
       "      <td>255763</td>\n",
       "      <td>покупка жилья</td>\n",
       "      <td>B</td>\n",
       "    </tr>\n",
       "    <tr>\n",
       "      <th>6</th>\n",
       "      <td>0</td>\n",
       "      <td>2879.202052</td>\n",
       "      <td>43</td>\n",
       "      <td>высшее</td>\n",
       "      <td>женат / замужем</td>\n",
       "      <td>F</td>\n",
       "      <td>компаньон</td>\n",
       "      <td>0</td>\n",
       "      <td>240525</td>\n",
       "      <td>операции с жильем</td>\n",
       "      <td>B</td>\n",
       "    </tr>\n",
       "    <tr>\n",
       "      <th>7</th>\n",
       "      <td>0</td>\n",
       "      <td>152.779569</td>\n",
       "      <td>50</td>\n",
       "      <td>среднее</td>\n",
       "      <td>женат / замужем</td>\n",
       "      <td>M</td>\n",
       "      <td>сотрудник</td>\n",
       "      <td>0</td>\n",
       "      <td>135823</td>\n",
       "      <td>образование</td>\n",
       "      <td>C</td>\n",
       "    </tr>\n",
       "    <tr>\n",
       "      <th>8</th>\n",
       "      <td>2</td>\n",
       "      <td>6929.865299</td>\n",
       "      <td>35</td>\n",
       "      <td>высшее</td>\n",
       "      <td>гражданский брак</td>\n",
       "      <td>F</td>\n",
       "      <td>сотрудник</td>\n",
       "      <td>0</td>\n",
       "      <td>95856</td>\n",
       "      <td>на проведение свадьбы</td>\n",
       "      <td>C</td>\n",
       "    </tr>\n",
       "    <tr>\n",
       "      <th>9</th>\n",
       "      <td>0</td>\n",
       "      <td>2188.756445</td>\n",
       "      <td>41</td>\n",
       "      <td>среднее</td>\n",
       "      <td>женат / замужем</td>\n",
       "      <td>M</td>\n",
       "      <td>сотрудник</td>\n",
       "      <td>0</td>\n",
       "      <td>144425</td>\n",
       "      <td>покупка жилья для семьи</td>\n",
       "      <td>C</td>\n",
       "    </tr>\n",
       "  </tbody>\n",
       "</table>\n",
       "</div>"
      ],
      "text/plain": [
       "   children  days_employed  dob_years education     family_status gender  \\\n",
       "0         1    8437.673028         42    высшее   женат / замужем      F   \n",
       "1         1    4024.803754         36   среднее   женат / замужем      F   \n",
       "2         0    5623.422610         33   среднее   женат / замужем      M   \n",
       "3         3    4124.747207         32   среднее   женат / замужем      M   \n",
       "4         0  340266.072047         53   среднее  гражданский брак      F   \n",
       "5         0     926.185831         27    высшее  гражданский брак      M   \n",
       "6         0    2879.202052         43    высшее   женат / замужем      F   \n",
       "7         0     152.779569         50   среднее   женат / замужем      M   \n",
       "8         2    6929.865299         35    высшее  гражданский брак      F   \n",
       "9         0    2188.756445         41   среднее   женат / замужем      M   \n",
       "\n",
       "  income_type  debt  total_income                     purpose  \\\n",
       "0   сотрудник     0        253875               покупка жилья   \n",
       "1   сотрудник     0        112080     приобретение автомобиля   \n",
       "2   сотрудник     0        145885               покупка жилья   \n",
       "3   сотрудник     0        267628  дополнительное образование   \n",
       "4   пенсионер     0        158616             сыграть свадьбу   \n",
       "5   компаньон     0        255763               покупка жилья   \n",
       "6   компаньон     0        240525           операции с жильем   \n",
       "7   сотрудник     0        135823                 образование   \n",
       "8   сотрудник     0         95856       на проведение свадьбы   \n",
       "9   сотрудник     0        144425     покупка жилья для семьи   \n",
       "\n",
       "  total_income_category  \n",
       "0                     B  \n",
       "1                     C  \n",
       "2                     C  \n",
       "3                     B  \n",
       "4                     C  \n",
       "5                     B  \n",
       "6                     B  \n",
       "7                     C  \n",
       "8                     C  \n",
       "9                     C  "
      ]
     },
     "execution_count": 33,
     "metadata": {},
     "output_type": "execute_result"
    }
   ],
   "source": [
    "def category (total_income):\n",
    "    if total_income <= 30000:\n",
    "        return 'E'\n",
    "    if total_income <= 50000:\n",
    "        return 'D'\n",
    "    if total_income <= 200000:\n",
    "        return 'C'\n",
    "    if total_income <= 1000000:\n",
    "        return 'B'\n",
    "    return 'A'\n",
    "\n",
    "data['total_income_category'] = data['total_income'].apply(category)\n",
    "data.head(10)"
   ]
  },
  {
   "cell_type": "markdown",
   "id": "8c271be6",
   "metadata": {},
   "source": [
    "<a id='7'></a>\n",
    "### 7. Категоризация целей кредита"
   ]
  },
  {
   "cell_type": "code",
   "execution_count": 34,
   "id": "55efc61d",
   "metadata": {},
   "outputs": [
    {
     "data": {
      "text/html": [
       "<div>\n",
       "<style scoped>\n",
       "    .dataframe tbody tr th:only-of-type {\n",
       "        vertical-align: middle;\n",
       "    }\n",
       "\n",
       "    .dataframe tbody tr th {\n",
       "        vertical-align: top;\n",
       "    }\n",
       "\n",
       "    .dataframe thead th {\n",
       "        text-align: right;\n",
       "    }\n",
       "</style>\n",
       "<table border=\"1\" class=\"dataframe\">\n",
       "  <thead>\n",
       "    <tr style=\"text-align: right;\">\n",
       "      <th></th>\n",
       "      <th>children</th>\n",
       "      <th>days_employed</th>\n",
       "      <th>dob_years</th>\n",
       "      <th>education</th>\n",
       "      <th>family_status</th>\n",
       "      <th>gender</th>\n",
       "      <th>income_type</th>\n",
       "      <th>debt</th>\n",
       "      <th>total_income</th>\n",
       "      <th>purpose</th>\n",
       "      <th>total_income_category</th>\n",
       "      <th>purpose_category</th>\n",
       "    </tr>\n",
       "  </thead>\n",
       "  <tbody>\n",
       "    <tr>\n",
       "      <th>0</th>\n",
       "      <td>1</td>\n",
       "      <td>8437.673028</td>\n",
       "      <td>42</td>\n",
       "      <td>высшее</td>\n",
       "      <td>женат / замужем</td>\n",
       "      <td>F</td>\n",
       "      <td>сотрудник</td>\n",
       "      <td>0</td>\n",
       "      <td>253875</td>\n",
       "      <td>покупка жилья</td>\n",
       "      <td>B</td>\n",
       "      <td>операции с недвижимостью</td>\n",
       "    </tr>\n",
       "    <tr>\n",
       "      <th>1</th>\n",
       "      <td>1</td>\n",
       "      <td>4024.803754</td>\n",
       "      <td>36</td>\n",
       "      <td>среднее</td>\n",
       "      <td>женат / замужем</td>\n",
       "      <td>F</td>\n",
       "      <td>сотрудник</td>\n",
       "      <td>0</td>\n",
       "      <td>112080</td>\n",
       "      <td>приобретение автомобиля</td>\n",
       "      <td>C</td>\n",
       "      <td>операции с автомобилями</td>\n",
       "    </tr>\n",
       "    <tr>\n",
       "      <th>2</th>\n",
       "      <td>0</td>\n",
       "      <td>5623.422610</td>\n",
       "      <td>33</td>\n",
       "      <td>среднее</td>\n",
       "      <td>женат / замужем</td>\n",
       "      <td>M</td>\n",
       "      <td>сотрудник</td>\n",
       "      <td>0</td>\n",
       "      <td>145885</td>\n",
       "      <td>покупка жилья</td>\n",
       "      <td>C</td>\n",
       "      <td>операции с недвижимостью</td>\n",
       "    </tr>\n",
       "    <tr>\n",
       "      <th>3</th>\n",
       "      <td>3</td>\n",
       "      <td>4124.747207</td>\n",
       "      <td>32</td>\n",
       "      <td>среднее</td>\n",
       "      <td>женат / замужем</td>\n",
       "      <td>M</td>\n",
       "      <td>сотрудник</td>\n",
       "      <td>0</td>\n",
       "      <td>267628</td>\n",
       "      <td>дополнительное образование</td>\n",
       "      <td>B</td>\n",
       "      <td>получение образования</td>\n",
       "    </tr>\n",
       "    <tr>\n",
       "      <th>4</th>\n",
       "      <td>0</td>\n",
       "      <td>340266.072047</td>\n",
       "      <td>53</td>\n",
       "      <td>среднее</td>\n",
       "      <td>гражданский брак</td>\n",
       "      <td>F</td>\n",
       "      <td>пенсионер</td>\n",
       "      <td>0</td>\n",
       "      <td>158616</td>\n",
       "      <td>сыграть свадьбу</td>\n",
       "      <td>C</td>\n",
       "      <td>проведение свадеб</td>\n",
       "    </tr>\n",
       "    <tr>\n",
       "      <th>5</th>\n",
       "      <td>0</td>\n",
       "      <td>926.185831</td>\n",
       "      <td>27</td>\n",
       "      <td>высшее</td>\n",
       "      <td>гражданский брак</td>\n",
       "      <td>M</td>\n",
       "      <td>компаньон</td>\n",
       "      <td>0</td>\n",
       "      <td>255763</td>\n",
       "      <td>покупка жилья</td>\n",
       "      <td>B</td>\n",
       "      <td>операции с недвижимостью</td>\n",
       "    </tr>\n",
       "    <tr>\n",
       "      <th>6</th>\n",
       "      <td>0</td>\n",
       "      <td>2879.202052</td>\n",
       "      <td>43</td>\n",
       "      <td>высшее</td>\n",
       "      <td>женат / замужем</td>\n",
       "      <td>F</td>\n",
       "      <td>компаньон</td>\n",
       "      <td>0</td>\n",
       "      <td>240525</td>\n",
       "      <td>операции с жильем</td>\n",
       "      <td>B</td>\n",
       "      <td>операции с недвижимостью</td>\n",
       "    </tr>\n",
       "    <tr>\n",
       "      <th>7</th>\n",
       "      <td>0</td>\n",
       "      <td>152.779569</td>\n",
       "      <td>50</td>\n",
       "      <td>среднее</td>\n",
       "      <td>женат / замужем</td>\n",
       "      <td>M</td>\n",
       "      <td>сотрудник</td>\n",
       "      <td>0</td>\n",
       "      <td>135823</td>\n",
       "      <td>образование</td>\n",
       "      <td>C</td>\n",
       "      <td>получение образования</td>\n",
       "    </tr>\n",
       "    <tr>\n",
       "      <th>8</th>\n",
       "      <td>2</td>\n",
       "      <td>6929.865299</td>\n",
       "      <td>35</td>\n",
       "      <td>высшее</td>\n",
       "      <td>гражданский брак</td>\n",
       "      <td>F</td>\n",
       "      <td>сотрудник</td>\n",
       "      <td>0</td>\n",
       "      <td>95856</td>\n",
       "      <td>на проведение свадьбы</td>\n",
       "      <td>C</td>\n",
       "      <td>проведение свадеб</td>\n",
       "    </tr>\n",
       "    <tr>\n",
       "      <th>9</th>\n",
       "      <td>0</td>\n",
       "      <td>2188.756445</td>\n",
       "      <td>41</td>\n",
       "      <td>среднее</td>\n",
       "      <td>женат / замужем</td>\n",
       "      <td>M</td>\n",
       "      <td>сотрудник</td>\n",
       "      <td>0</td>\n",
       "      <td>144425</td>\n",
       "      <td>покупка жилья для семьи</td>\n",
       "      <td>C</td>\n",
       "      <td>операции с недвижимостью</td>\n",
       "    </tr>\n",
       "  </tbody>\n",
       "</table>\n",
       "</div>"
      ],
      "text/plain": [
       "   children  days_employed  dob_years education     family_status gender  \\\n",
       "0         1    8437.673028         42    высшее   женат / замужем      F   \n",
       "1         1    4024.803754         36   среднее   женат / замужем      F   \n",
       "2         0    5623.422610         33   среднее   женат / замужем      M   \n",
       "3         3    4124.747207         32   среднее   женат / замужем      M   \n",
       "4         0  340266.072047         53   среднее  гражданский брак      F   \n",
       "5         0     926.185831         27    высшее  гражданский брак      M   \n",
       "6         0    2879.202052         43    высшее   женат / замужем      F   \n",
       "7         0     152.779569         50   среднее   женат / замужем      M   \n",
       "8         2    6929.865299         35    высшее  гражданский брак      F   \n",
       "9         0    2188.756445         41   среднее   женат / замужем      M   \n",
       "\n",
       "  income_type  debt  total_income                     purpose  \\\n",
       "0   сотрудник     0        253875               покупка жилья   \n",
       "1   сотрудник     0        112080     приобретение автомобиля   \n",
       "2   сотрудник     0        145885               покупка жилья   \n",
       "3   сотрудник     0        267628  дополнительное образование   \n",
       "4   пенсионер     0        158616             сыграть свадьбу   \n",
       "5   компаньон     0        255763               покупка жилья   \n",
       "6   компаньон     0        240525           операции с жильем   \n",
       "7   сотрудник     0        135823                 образование   \n",
       "8   сотрудник     0         95856       на проведение свадьбы   \n",
       "9   сотрудник     0        144425     покупка жилья для семьи   \n",
       "\n",
       "  total_income_category          purpose_category  \n",
       "0                     B  операции с недвижимостью  \n",
       "1                     C   операции с автомобилями  \n",
       "2                     C  операции с недвижимостью  \n",
       "3                     B     получение образования  \n",
       "4                     C         проведение свадеб  \n",
       "5                     B  операции с недвижимостью  \n",
       "6                     B  операции с недвижимостью  \n",
       "7                     C     получение образования  \n",
       "8                     C         проведение свадеб  \n",
       "9                     C  операции с недвижимостью  "
      ]
     },
     "execution_count": 34,
     "metadata": {},
     "output_type": "execute_result"
    }
   ],
   "source": [
    "def purpose_category(purpose):\n",
    "    if 'авто' in purpose:\n",
    "        return 'операции с автомобилями'\n",
    "    if 'образов' in purpose:\n",
    "        return 'получение образования'\n",
    "    if 'свад' in purpose:\n",
    "        return 'проведение свадеб'\n",
    "    return 'операции с недвижимостью'\n",
    "\n",
    "data['purpose_category'] = data['purpose'].apply(purpose_category)\n",
    "data.head(10)"
   ]
  },
  {
   "cell_type": "markdown",
   "id": "1e19bdfc",
   "metadata": {},
   "source": [
    "<a id='8'></a>\n",
    "### 8. Определение зависимостей"
   ]
  },
  {
   "cell_type": "markdown",
   "id": "c30c63dc",
   "metadata": {},
   "source": [
    "#### Определим зависимость между количеством детей и возвратом кредита в срок"
   ]
  },
  {
   "cell_type": "code",
   "execution_count": 35,
   "id": "500fc91b",
   "metadata": {},
   "outputs": [
    {
     "data": {
      "text/html": [
       "<div>\n",
       "<style scoped>\n",
       "    .dataframe tbody tr th:only-of-type {\n",
       "        vertical-align: middle;\n",
       "    }\n",
       "\n",
       "    .dataframe tbody tr th {\n",
       "        vertical-align: top;\n",
       "    }\n",
       "\n",
       "    .dataframe thead tr th {\n",
       "        text-align: left;\n",
       "    }\n",
       "\n",
       "    .dataframe thead tr:last-of-type th {\n",
       "        text-align: right;\n",
       "    }\n",
       "</style>\n",
       "<table border=\"1\" class=\"dataframe\">\n",
       "  <thead>\n",
       "    <tr>\n",
       "      <th></th>\n",
       "      <th>sum</th>\n",
       "      <th>count</th>\n",
       "      <th>mean</th>\n",
       "    </tr>\n",
       "    <tr>\n",
       "      <th></th>\n",
       "      <th>debt</th>\n",
       "      <th>debt</th>\n",
       "      <th>debt</th>\n",
       "    </tr>\n",
       "    <tr>\n",
       "      <th>children</th>\n",
       "      <th></th>\n",
       "      <th></th>\n",
       "      <th></th>\n",
       "    </tr>\n",
       "  </thead>\n",
       "  <tbody>\n",
       "    <tr>\n",
       "      <th>0</th>\n",
       "      <td>1063</td>\n",
       "      <td>14090</td>\n",
       "      <td>0.075444</td>\n",
       "    </tr>\n",
       "    <tr>\n",
       "      <th>1</th>\n",
       "      <td>445</td>\n",
       "      <td>4855</td>\n",
       "      <td>0.091658</td>\n",
       "    </tr>\n",
       "    <tr>\n",
       "      <th>2</th>\n",
       "      <td>202</td>\n",
       "      <td>2128</td>\n",
       "      <td>0.094925</td>\n",
       "    </tr>\n",
       "    <tr>\n",
       "      <th>3</th>\n",
       "      <td>27</td>\n",
       "      <td>330</td>\n",
       "      <td>0.081818</td>\n",
       "    </tr>\n",
       "    <tr>\n",
       "      <th>4</th>\n",
       "      <td>4</td>\n",
       "      <td>41</td>\n",
       "      <td>0.097561</td>\n",
       "    </tr>\n",
       "    <tr>\n",
       "      <th>5</th>\n",
       "      <td>0</td>\n",
       "      <td>9</td>\n",
       "      <td>0.000000</td>\n",
       "    </tr>\n",
       "  </tbody>\n",
       "</table>\n",
       "</div>"
      ],
      "text/plain": [
       "           sum  count      mean\n",
       "          debt   debt      debt\n",
       "children                       \n",
       "0         1063  14090  0.075444\n",
       "1          445   4855  0.091658\n",
       "2          202   2128  0.094925\n",
       "3           27    330  0.081818\n",
       "4            4     41  0.097561\n",
       "5            0      9  0.000000"
      ]
     },
     "execution_count": 35,
     "metadata": {},
     "output_type": "execute_result"
    }
   ],
   "source": [
    "data.pivot_table(index='children', values='debt', aggfunc=['sum', 'count', 'mean'])\n"
   ]
  },
  {
   "cell_type": "markdown",
   "id": "21ecd7dc",
   "metadata": {},
   "source": [
    "Вывод:  Зависимость между количеством детей и возвратом кредита в срок есть - чаще кредиты берут люди без детей.\n",
    "С увеличением числа детей, уменьшается количество должников, но доля должников к общему числу заёмщиков:\n",
    "у \"бездетных\" 7,5%\n",
    "с 1-м ребёнком - 9,1%\n",
    "с 2-мя детьмя - 9,5%\n",
    "с 3-мя детьми - 8,2%\n",
    "с 4-мя детьми - 9,75%\n",
    "Самые добросовестные заёмщики с числом детей - 5, больше всего просрочек с 4-мя и 2-мя детьми."
   ]
  },
  {
   "cell_type": "markdown",
   "id": "d14a66fe",
   "metadata": {},
   "source": [
    "#### Определим зависимость между семейным положением и возвратом кредита в срок"
   ]
  },
  {
   "cell_type": "code",
   "execution_count": 36,
   "id": "43bc2a7b",
   "metadata": {},
   "outputs": [
    {
     "data": {
      "text/html": [
       "<div>\n",
       "<style scoped>\n",
       "    .dataframe tbody tr th:only-of-type {\n",
       "        vertical-align: middle;\n",
       "    }\n",
       "\n",
       "    .dataframe tbody tr th {\n",
       "        vertical-align: top;\n",
       "    }\n",
       "\n",
       "    .dataframe thead tr th {\n",
       "        text-align: left;\n",
       "    }\n",
       "\n",
       "    .dataframe thead tr:last-of-type th {\n",
       "        text-align: right;\n",
       "    }\n",
       "</style>\n",
       "<table border=\"1\" class=\"dataframe\">\n",
       "  <thead>\n",
       "    <tr>\n",
       "      <th></th>\n",
       "      <th>sum</th>\n",
       "      <th>count</th>\n",
       "      <th>mean</th>\n",
       "    </tr>\n",
       "    <tr>\n",
       "      <th></th>\n",
       "      <th>debt</th>\n",
       "      <th>debt</th>\n",
       "      <th>debt</th>\n",
       "    </tr>\n",
       "    <tr>\n",
       "      <th>family_status</th>\n",
       "      <th></th>\n",
       "      <th></th>\n",
       "      <th></th>\n",
       "    </tr>\n",
       "  </thead>\n",
       "  <tbody>\n",
       "    <tr>\n",
       "      <th>Не женат / не замужем</th>\n",
       "      <td>274</td>\n",
       "      <td>2810</td>\n",
       "      <td>0.097509</td>\n",
       "    </tr>\n",
       "    <tr>\n",
       "      <th>в разводе</th>\n",
       "      <td>85</td>\n",
       "      <td>1195</td>\n",
       "      <td>0.071130</td>\n",
       "    </tr>\n",
       "    <tr>\n",
       "      <th>вдовец / вдова</th>\n",
       "      <td>63</td>\n",
       "      <td>959</td>\n",
       "      <td>0.065693</td>\n",
       "    </tr>\n",
       "    <tr>\n",
       "      <th>гражданский брак</th>\n",
       "      <td>388</td>\n",
       "      <td>4150</td>\n",
       "      <td>0.093494</td>\n",
       "    </tr>\n",
       "    <tr>\n",
       "      <th>женат / замужем</th>\n",
       "      <td>931</td>\n",
       "      <td>12339</td>\n",
       "      <td>0.075452</td>\n",
       "    </tr>\n",
       "  </tbody>\n",
       "</table>\n",
       "</div>"
      ],
      "text/plain": [
       "                       sum  count      mean\n",
       "                      debt   debt      debt\n",
       "family_status                              \n",
       "Не женат / не замужем  274   2810  0.097509\n",
       "в разводе               85   1195  0.071130\n",
       "вдовец / вдова          63    959  0.065693\n",
       "гражданский брак       388   4150  0.093494\n",
       "женат / замужем        931  12339  0.075452"
      ]
     },
     "execution_count": 36,
     "metadata": {},
     "output_type": "execute_result"
    }
   ],
   "source": [
    "data.pivot_table(index='family_status', values='debt', aggfunc= ['sum', 'count', 'mean'])\n"
   ]
  },
  {
   "cell_type": "markdown",
   "id": "ed69836f",
   "metadata": {},
   "source": [
    "Вывод:  Зависисмость между семейным положением и возвратом кредита в срок есть - чаще кредиты берут женатые/замужние, но доля должников из общего числа заёмщиков выше у не женатых/не замужних - они самые ненадежные.\n",
    "\n",
    "Не женатые/не замужние - 9,74%  \n",
    "в разводе - 7,11%  \n",
    "вдовец/вдова - 6,56%  \n",
    "гражданский брак - 9,28%  \n",
    "женат/замужем - 7,5%  \n",
    "    "
   ]
  },
  {
   "cell_type": "markdown",
   "id": "9cefe768",
   "metadata": {},
   "source": [
    "#### Определим зависимость между уровнем дохода и возвратом кредита в срок"
   ]
  },
  {
   "cell_type": "code",
   "execution_count": 37,
   "id": "bf4259c0",
   "metadata": {},
   "outputs": [
    {
     "data": {
      "text/html": [
       "<div>\n",
       "<style scoped>\n",
       "    .dataframe tbody tr th:only-of-type {\n",
       "        vertical-align: middle;\n",
       "    }\n",
       "\n",
       "    .dataframe tbody tr th {\n",
       "        vertical-align: top;\n",
       "    }\n",
       "\n",
       "    .dataframe thead tr th {\n",
       "        text-align: left;\n",
       "    }\n",
       "\n",
       "    .dataframe thead tr:last-of-type th {\n",
       "        text-align: right;\n",
       "    }\n",
       "</style>\n",
       "<table border=\"1\" class=\"dataframe\">\n",
       "  <thead>\n",
       "    <tr>\n",
       "      <th></th>\n",
       "      <th>sum</th>\n",
       "      <th>count</th>\n",
       "      <th>mean</th>\n",
       "    </tr>\n",
       "    <tr>\n",
       "      <th></th>\n",
       "      <th>debt</th>\n",
       "      <th>debt</th>\n",
       "      <th>debt</th>\n",
       "    </tr>\n",
       "    <tr>\n",
       "      <th>total_income_category</th>\n",
       "      <th></th>\n",
       "      <th></th>\n",
       "      <th></th>\n",
       "    </tr>\n",
       "  </thead>\n",
       "  <tbody>\n",
       "    <tr>\n",
       "      <th>A</th>\n",
       "      <td>2</td>\n",
       "      <td>25</td>\n",
       "      <td>0.080000</td>\n",
       "    </tr>\n",
       "    <tr>\n",
       "      <th>B</th>\n",
       "      <td>356</td>\n",
       "      <td>5041</td>\n",
       "      <td>0.070621</td>\n",
       "    </tr>\n",
       "    <tr>\n",
       "      <th>C</th>\n",
       "      <td>1360</td>\n",
       "      <td>16015</td>\n",
       "      <td>0.084920</td>\n",
       "    </tr>\n",
       "    <tr>\n",
       "      <th>D</th>\n",
       "      <td>21</td>\n",
       "      <td>350</td>\n",
       "      <td>0.060000</td>\n",
       "    </tr>\n",
       "    <tr>\n",
       "      <th>E</th>\n",
       "      <td>2</td>\n",
       "      <td>22</td>\n",
       "      <td>0.090909</td>\n",
       "    </tr>\n",
       "  </tbody>\n",
       "</table>\n",
       "</div>"
      ],
      "text/plain": [
       "                        sum  count      mean\n",
       "                       debt   debt      debt\n",
       "total_income_category                       \n",
       "A                         2     25  0.080000\n",
       "B                       356   5041  0.070621\n",
       "C                      1360  16015  0.084920\n",
       "D                        21    350  0.060000\n",
       "E                         2     22  0.090909"
      ]
     },
     "execution_count": 37,
     "metadata": {},
     "output_type": "execute_result"
    }
   ],
   "source": [
    "data.pivot_table(index='total_income_category', values='debt', aggfunc=['sum', 'count', 'mean'])\n"
   ]
  },
  {
   "cell_type": "markdown",
   "id": "f380cef5",
   "metadata": {},
   "source": [
    "Вывод:  Зависисмость между уровнем дохода и возвратом кредита в срок есть - чаще за кредитом обращаются люди с доходом от 50001 до 200000, но наибольшая доля должников в общем числе заёмщиков у категории Е - с доходом до 30000.  \n",
    "А - 8%  \n",
    "B - 7%  \n",
    "C - 8.45%  \n",
    "D - 6%  \n",
    "E - 9.1%  "
   ]
  },
  {
   "cell_type": "markdown",
   "id": "eb2d5312",
   "metadata": {},
   "source": [
    "#### Определим влияние разных целей кредита на его возврат в срок"
   ]
  },
  {
   "cell_type": "code",
   "execution_count": 38,
   "id": "a8ac6573",
   "metadata": {},
   "outputs": [
    {
     "data": {
      "text/html": [
       "<div>\n",
       "<style scoped>\n",
       "    .dataframe tbody tr th:only-of-type {\n",
       "        vertical-align: middle;\n",
       "    }\n",
       "\n",
       "    .dataframe tbody tr th {\n",
       "        vertical-align: top;\n",
       "    }\n",
       "\n",
       "    .dataframe thead tr th {\n",
       "        text-align: left;\n",
       "    }\n",
       "\n",
       "    .dataframe thead tr:last-of-type th {\n",
       "        text-align: right;\n",
       "    }\n",
       "</style>\n",
       "<table border=\"1\" class=\"dataframe\">\n",
       "  <thead>\n",
       "    <tr>\n",
       "      <th></th>\n",
       "      <th>sum</th>\n",
       "      <th>count</th>\n",
       "      <th>mean</th>\n",
       "    </tr>\n",
       "    <tr>\n",
       "      <th></th>\n",
       "      <th>debt</th>\n",
       "      <th>debt</th>\n",
       "      <th>debt</th>\n",
       "    </tr>\n",
       "    <tr>\n",
       "      <th>purpose_category</th>\n",
       "      <th></th>\n",
       "      <th></th>\n",
       "      <th></th>\n",
       "    </tr>\n",
       "  </thead>\n",
       "  <tbody>\n",
       "    <tr>\n",
       "      <th>операции с автомобилями</th>\n",
       "      <td>403</td>\n",
       "      <td>4306</td>\n",
       "      <td>0.093590</td>\n",
       "    </tr>\n",
       "    <tr>\n",
       "      <th>операции с недвижимостью</th>\n",
       "      <td>782</td>\n",
       "      <td>10811</td>\n",
       "      <td>0.072334</td>\n",
       "    </tr>\n",
       "    <tr>\n",
       "      <th>получение образования</th>\n",
       "      <td>370</td>\n",
       "      <td>4013</td>\n",
       "      <td>0.092200</td>\n",
       "    </tr>\n",
       "    <tr>\n",
       "      <th>проведение свадеб</th>\n",
       "      <td>186</td>\n",
       "      <td>2323</td>\n",
       "      <td>0.080069</td>\n",
       "    </tr>\n",
       "  </tbody>\n",
       "</table>\n",
       "</div>"
      ],
      "text/plain": [
       "                          sum  count      mean\n",
       "                         debt   debt      debt\n",
       "purpose_category                              \n",
       "операции с автомобилями   403   4306  0.093590\n",
       "операции с недвижимостью  782  10811  0.072334\n",
       "получение образования     370   4013  0.092200\n",
       "проведение свадеб         186   2323  0.080069"
      ]
     },
     "execution_count": 38,
     "metadata": {},
     "output_type": "execute_result"
    }
   ],
   "source": [
    "data.pivot_table(index='purpose_category', values='debt', aggfunc=['sum', 'count', 'mean'])\n"
   ]
  },
  {
   "cell_type": "markdown",
   "id": "1d1e5ff0",
   "metadata": {},
   "source": [
    "Вывод:  Чаще за кредитом обращаются с целью приобретение недвижимости, но наибольшую долю должников из общего числа заёмщиков, те, что брали кредит на операции с автомобилями.\n",
    "операции с автомобилями - 9,33%\n",
    "операции с недвижимостью - 7,21%\n",
    "получение образования - 9,19%\n",
    "проведение свадеб - 8,04%"
   ]
  },
  {
   "cell_type": "markdown",
   "id": "67db8756",
   "metadata": {},
   "source": [
    "<a id='9'></a>\n",
    "### 9.Общий вывод"
   ]
  },
  {
   "cell_type": "markdown",
   "id": "29af4bb2",
   "metadata": {},
   "source": [
    "**Цель исследования** - определить степень влияния семейного положения и количества детей заёмщика на факт своевременного погашения кредита, достигнута**.  \n",
    "\n",
    "В ходе анализа были подробно изучены исходные данные, состоящие из 21525 строк и 12 колонок, по составу и содержанию:  \n",
    "- Проведена предобработка: заполнены пропуски в строках, исправлены выявленные артефакты, удалены дубликаты;    \n",
    "- Уникальные связки id с значениями типа образования и семейного статуса сформированы в отдельные таблицы;  \n",
    "- Для удобства анализа данные о доходах и целях кредита объединены по категориям. \n",
    "\n",
    "Как результат - определена зависимость возврата кредита в срок от количества детей, семейного положения, уровня доходов и цели кредита: **семейное положение имеет влияние на возврат кредита в срок: не женатые/не замужние, в гражданском браке - имеют наибольшую долю \"невозвратов\". Заёмщики, имеющие 2-х и 4-х детей, также имеют больший процент должников.**"
   ]
  }
 ],
 "metadata": {
  "ExecuteTimeLog": [
   {
    "duration": 1989,
    "start_time": "2022-03-05T07:33:24.525Z"
   },
   {
    "duration": 1382,
    "start_time": "2022-03-05T07:36:33.511Z"
   },
   {
    "duration": 1461,
    "start_time": "2022-03-05T07:37:02.209Z"
   },
   {
    "duration": 1413,
    "start_time": "2022-03-05T07:38:03.000Z"
   },
   {
    "duration": 48,
    "start_time": "2022-03-05T07:44:35.977Z"
   },
   {
    "duration": 54,
    "start_time": "2022-03-05T07:44:53.101Z"
   },
   {
    "duration": 52,
    "start_time": "2022-03-05T07:47:12.895Z"
   },
   {
    "duration": 47,
    "start_time": "2022-03-05T09:40:25.415Z"
   },
   {
    "duration": 58,
    "start_time": "2022-03-05T09:41:17.593Z"
   },
   {
    "duration": 5,
    "start_time": "2022-03-05T10:01:33.981Z"
   },
   {
    "duration": 15,
    "start_time": "2022-03-05T10:02:26.220Z"
   },
   {
    "duration": 15,
    "start_time": "2022-03-05T10:09:55.089Z"
   },
   {
    "duration": 10,
    "start_time": "2022-03-05T10:10:04.132Z"
   },
   {
    "duration": 9,
    "start_time": "2022-03-05T10:10:09.900Z"
   },
   {
    "duration": 7,
    "start_time": "2022-03-05T10:10:43.613Z"
   },
   {
    "duration": 8,
    "start_time": "2022-03-05T10:12:47.016Z"
   },
   {
    "duration": 7,
    "start_time": "2022-03-05T10:13:49.714Z"
   },
   {
    "duration": 196,
    "start_time": "2022-03-05T10:15:19.923Z"
   },
   {
    "duration": 189,
    "start_time": "2022-03-05T10:15:39.518Z"
   },
   {
    "duration": 5,
    "start_time": "2022-03-05T10:16:21.583Z"
   },
   {
    "duration": 111,
    "start_time": "2022-03-06T06:54:07.321Z"
   },
   {
    "duration": 328,
    "start_time": "2022-03-06T06:54:18.547Z"
   },
   {
    "duration": 624,
    "start_time": "2022-03-06T06:54:26.179Z"
   },
   {
    "duration": 8,
    "start_time": "2022-03-06T06:54:30.093Z"
   },
   {
    "duration": 2150,
    "start_time": "2022-03-06T06:54:55.827Z"
   },
   {
    "duration": 5,
    "start_time": "2022-03-06T06:55:18.384Z"
   },
   {
    "duration": 305,
    "start_time": "2022-03-06T06:56:34.170Z"
   },
   {
    "duration": 341,
    "start_time": "2022-03-06T06:57:29.726Z"
   },
   {
    "duration": 7,
    "start_time": "2022-03-06T06:57:38.349Z"
   },
   {
    "duration": 5,
    "start_time": "2022-03-06T06:59:27.665Z"
   },
   {
    "duration": 19,
    "start_time": "2022-03-06T06:59:51.026Z"
   },
   {
    "duration": 18,
    "start_time": "2022-03-06T07:01:09.932Z"
   },
   {
    "duration": -516,
    "start_time": "2022-03-06T07:12:10.107Z"
   },
   {
    "duration": 5569,
    "start_time": "2022-03-06T07:12:47.154Z"
   },
   {
    "duration": 5530,
    "start_time": "2022-03-06T07:13:07.443Z"
   },
   {
    "duration": 5,
    "start_time": "2022-03-06T07:14:45.366Z"
   },
   {
    "duration": 6,
    "start_time": "2022-03-06T07:15:13.414Z"
   },
   {
    "duration": 8,
    "start_time": "2022-03-06T07:17:52.401Z"
   },
   {
    "duration": 3835,
    "start_time": "2022-03-06T07:18:40.693Z"
   },
   {
    "duration": 6,
    "start_time": "2022-03-06T07:20:31.281Z"
   },
   {
    "duration": 288,
    "start_time": "2022-03-06T07:20:50.888Z"
   },
   {
    "duration": 7,
    "start_time": "2022-03-06T07:21:07.757Z"
   },
   {
    "duration": 4,
    "start_time": "2022-03-06T07:22:18.069Z"
   },
   {
    "duration": 15,
    "start_time": "2022-03-06T07:30:00.623Z"
   },
   {
    "duration": 3,
    "start_time": "2022-03-06T07:42:36.577Z"
   },
   {
    "duration": 5,
    "start_time": "2022-03-06T07:45:08.051Z"
   },
   {
    "duration": 5956,
    "start_time": "2022-03-06T07:45:22.908Z"
   },
   {
    "duration": 19,
    "start_time": "2022-03-06T07:46:40.138Z"
   },
   {
    "duration": 6,
    "start_time": "2022-03-06T07:47:10.867Z"
   },
   {
    "duration": 7,
    "start_time": "2022-03-06T07:47:48.615Z"
   },
   {
    "duration": 5,
    "start_time": "2022-03-06T07:48:32.058Z"
   },
   {
    "duration": 5,
    "start_time": "2022-03-06T07:49:00.018Z"
   },
   {
    "duration": 5,
    "start_time": "2022-03-06T07:50:26.849Z"
   },
   {
    "duration": 4,
    "start_time": "2022-03-06T07:54:36.104Z"
   },
   {
    "duration": 5,
    "start_time": "2022-03-06T07:57:58.587Z"
   },
   {
    "duration": 305,
    "start_time": "2022-03-06T07:58:30.756Z"
   },
   {
    "duration": 282,
    "start_time": "2022-03-06T07:58:37.279Z"
   },
   {
    "duration": 21,
    "start_time": "2022-03-06T08:01:19.699Z"
   },
   {
    "duration": 6,
    "start_time": "2022-03-06T08:04:11.203Z"
   },
   {
    "duration": 7,
    "start_time": "2022-03-06T08:04:48.487Z"
   },
   {
    "duration": 5,
    "start_time": "2022-03-06T08:04:59.266Z"
   },
   {
    "duration": 7,
    "start_time": "2022-03-06T08:06:23.691Z"
   },
   {
    "duration": 5,
    "start_time": "2022-03-06T08:08:11.761Z"
   },
   {
    "duration": 14,
    "start_time": "2022-03-06T08:09:22.143Z"
   },
   {
    "duration": 5,
    "start_time": "2022-03-06T08:10:47.291Z"
   },
   {
    "duration": 15,
    "start_time": "2022-03-06T08:11:30.873Z"
   },
   {
    "duration": 5,
    "start_time": "2022-03-06T08:12:13.228Z"
   },
   {
    "duration": 13,
    "start_time": "2022-03-06T08:12:37.167Z"
   },
   {
    "duration": 295,
    "start_time": "2022-03-06T08:13:20.975Z"
   },
   {
    "duration": 6,
    "start_time": "2022-03-06T08:13:37.684Z"
   },
   {
    "duration": 13,
    "start_time": "2022-03-06T08:14:09.304Z"
   },
   {
    "duration": 5,
    "start_time": "2022-03-06T08:14:53.388Z"
   },
   {
    "duration": 7,
    "start_time": "2022-03-06T08:15:25.610Z"
   },
   {
    "duration": 16,
    "start_time": "2022-03-06T08:16:13.348Z"
   },
   {
    "duration": 4,
    "start_time": "2022-03-06T08:23:25.700Z"
   },
   {
    "duration": 5,
    "start_time": "2022-03-06T08:23:53.015Z"
   },
   {
    "duration": 4,
    "start_time": "2022-03-06T08:23:58.937Z"
   },
   {
    "duration": 5,
    "start_time": "2022-03-06T08:24:00.042Z"
   },
   {
    "duration": 6,
    "start_time": "2022-03-06T08:43:35.686Z"
   },
   {
    "duration": 103,
    "start_time": "2022-03-06T08:44:23.649Z"
   },
   {
    "duration": 5,
    "start_time": "2022-03-06T08:47:53.153Z"
   },
   {
    "duration": 7,
    "start_time": "2022-03-06T08:48:12.374Z"
   },
   {
    "duration": 4,
    "start_time": "2022-03-06T08:48:57.366Z"
   },
   {
    "duration": 7,
    "start_time": "2022-03-06T08:48:59.025Z"
   },
   {
    "duration": 7792,
    "start_time": "2022-03-06T08:49:59.676Z"
   },
   {
    "duration": -548,
    "start_time": "2022-03-06T08:50:08.018Z"
   },
   {
    "duration": 5,
    "start_time": "2022-03-06T08:51:09.570Z"
   },
   {
    "duration": 7,
    "start_time": "2022-03-06T08:51:12.932Z"
   },
   {
    "duration": 6,
    "start_time": "2022-03-06T08:53:28.682Z"
   },
   {
    "duration": 7,
    "start_time": "2022-03-06T08:53:29.775Z"
   },
   {
    "duration": 5,
    "start_time": "2022-03-06T08:53:44.298Z"
   },
   {
    "duration": 8,
    "start_time": "2022-03-06T08:53:44.961Z"
   },
   {
    "duration": 6,
    "start_time": "2022-03-06T08:53:54.111Z"
   },
   {
    "duration": 8,
    "start_time": "2022-03-06T08:54:00.597Z"
   },
   {
    "duration": 6,
    "start_time": "2022-03-06T08:54:16.050Z"
   },
   {
    "duration": 6,
    "start_time": "2022-03-06T08:54:29.657Z"
   },
   {
    "duration": 71,
    "start_time": "2022-03-06T08:54:39.069Z"
   },
   {
    "duration": 19,
    "start_time": "2022-03-06T08:54:50.820Z"
   },
   {
    "duration": 19,
    "start_time": "2022-03-06T08:54:55.113Z"
   },
   {
    "duration": 12,
    "start_time": "2022-03-06T08:54:59.048Z"
   },
   {
    "duration": 6,
    "start_time": "2022-03-06T08:55:03.788Z"
   },
   {
    "duration": 6,
    "start_time": "2022-03-06T08:55:09.191Z"
   },
   {
    "duration": 6,
    "start_time": "2022-03-06T08:55:10.455Z"
   },
   {
    "duration": 3,
    "start_time": "2022-03-06T08:55:13.156Z"
   },
   {
    "duration": 4,
    "start_time": "2022-03-06T08:55:14.306Z"
   },
   {
    "duration": 5,
    "start_time": "2022-03-06T08:55:15.249Z"
   },
   {
    "duration": 7,
    "start_time": "2022-03-06T08:55:18.289Z"
   },
   {
    "duration": 6,
    "start_time": "2022-03-06T08:55:19.555Z"
   },
   {
    "duration": 7,
    "start_time": "2022-03-06T08:55:20.527Z"
   },
   {
    "duration": 6,
    "start_time": "2022-03-06T08:55:57.557Z"
   },
   {
    "duration": 6,
    "start_time": "2022-03-06T08:56:01.059Z"
   },
   {
    "duration": 7329,
    "start_time": "2022-03-06T09:02:24.114Z"
   },
   {
    "duration": -511,
    "start_time": "2022-03-06T09:02:31.955Z"
   },
   {
    "duration": 7050,
    "start_time": "2022-03-06T09:02:36.452Z"
   },
   {
    "duration": 5,
    "start_time": "2022-03-06T09:02:53.253Z"
   },
   {
    "duration": 5,
    "start_time": "2022-03-06T09:02:58.257Z"
   },
   {
    "duration": 13,
    "start_time": "2022-03-06T09:04:40.726Z"
   },
   {
    "duration": 90,
    "start_time": "2022-03-06T09:04:41.899Z"
   },
   {
    "duration": 327,
    "start_time": "2022-03-06T09:07:16.820Z"
   },
   {
    "duration": 11,
    "start_time": "2022-03-06T09:07:40.756Z"
   },
   {
    "duration": 13,
    "start_time": "2022-03-06T09:07:56.163Z"
   },
   {
    "duration": 8,
    "start_time": "2022-03-06T09:08:26.398Z"
   },
   {
    "duration": 21,
    "start_time": "2022-03-06T09:08:28.115Z"
   },
   {
    "duration": 5,
    "start_time": "2022-03-06T09:09:20.909Z"
   },
   {
    "duration": 13,
    "start_time": "2022-03-06T09:09:22.319Z"
   },
   {
    "duration": 5,
    "start_time": "2022-03-06T09:11:57.176Z"
   },
   {
    "duration": 14,
    "start_time": "2022-03-06T09:12:00.962Z"
   },
   {
    "duration": 13,
    "start_time": "2022-03-06T09:12:43.666Z"
   },
   {
    "duration": 3698,
    "start_time": "2022-03-06T09:13:52.960Z"
   },
   {
    "duration": 11,
    "start_time": "2022-03-06T09:15:36.460Z"
   },
   {
    "duration": 16,
    "start_time": "2022-03-06T09:24:01.476Z"
   },
   {
    "duration": 206,
    "start_time": "2022-03-06T09:26:24.199Z"
   },
   {
    "duration": 3,
    "start_time": "2022-03-06T09:31:04.546Z"
   },
   {
    "duration": 6,
    "start_time": "2022-03-06T09:31:18.562Z"
   },
   {
    "duration": 675,
    "start_time": "2022-03-09T09:43:05.485Z"
   },
   {
    "duration": 612,
    "start_time": "2022-03-09T09:46:08.626Z"
   },
   {
    "duration": 26,
    "start_time": "2022-03-09T09:46:09.240Z"
   },
   {
    "duration": 23,
    "start_time": "2022-03-09T09:46:09.269Z"
   },
   {
    "duration": 13,
    "start_time": "2022-03-09T09:46:09.294Z"
   },
   {
    "duration": 5,
    "start_time": "2022-03-09T09:46:09.309Z"
   },
   {
    "duration": 5,
    "start_time": "2022-03-09T09:46:09.316Z"
   },
   {
    "duration": 10,
    "start_time": "2022-03-09T09:46:09.322Z"
   },
   {
    "duration": 8,
    "start_time": "2022-03-09T09:46:09.362Z"
   },
   {
    "duration": 4,
    "start_time": "2022-03-09T09:46:09.373Z"
   },
   {
    "duration": 9,
    "start_time": "2022-03-09T09:46:09.378Z"
   },
   {
    "duration": 9,
    "start_time": "2022-03-09T09:46:09.388Z"
   },
   {
    "duration": 7,
    "start_time": "2022-03-09T09:46:09.398Z"
   },
   {
    "duration": 6,
    "start_time": "2022-03-09T09:46:09.406Z"
   },
   {
    "duration": 45,
    "start_time": "2022-03-09T09:46:09.414Z"
   },
   {
    "duration": 6,
    "start_time": "2022-03-09T09:46:09.461Z"
   },
   {
    "duration": 7,
    "start_time": "2022-03-09T09:46:09.472Z"
   },
   {
    "duration": 16,
    "start_time": "2022-03-09T09:46:09.481Z"
   },
   {
    "duration": 6,
    "start_time": "2022-03-09T09:46:09.498Z"
   },
   {
    "duration": 14,
    "start_time": "2022-03-09T09:46:09.505Z"
   },
   {
    "duration": 40,
    "start_time": "2022-03-09T09:46:09.520Z"
   },
   {
    "duration": 17,
    "start_time": "2022-03-09T09:46:09.562Z"
   },
   {
    "duration": 16,
    "start_time": "2022-03-09T09:46:09.581Z"
   },
   {
    "duration": 5,
    "start_time": "2022-03-09T09:46:09.600Z"
   },
   {
    "duration": 7,
    "start_time": "2022-03-09T09:46:09.607Z"
   },
   {
    "duration": 55,
    "start_time": "2022-03-09T09:46:09.616Z"
   },
   {
    "duration": 4,
    "start_time": "2022-03-09T09:46:09.674Z"
   },
   {
    "duration": 9,
    "start_time": "2022-03-09T09:46:09.680Z"
   },
   {
    "duration": 15,
    "start_time": "2022-03-09T09:46:09.691Z"
   },
   {
    "duration": 10,
    "start_time": "2022-03-09T09:46:09.708Z"
   },
   {
    "duration": 64,
    "start_time": "2022-03-09T09:46:09.719Z"
   },
   {
    "duration": 473,
    "start_time": "2022-03-09T09:46:09.785Z"
   },
   {
    "duration": 271,
    "start_time": "2022-03-09T09:46:47.226Z"
   },
   {
    "duration": 949,
    "start_time": "2022-03-09T09:49:36.620Z"
   },
   {
    "duration": 62,
    "start_time": "2022-03-09T09:49:50.338Z"
   },
   {
    "duration": 23,
    "start_time": "2022-03-09T09:49:55.287Z"
   },
   {
    "duration": 22,
    "start_time": "2022-03-09T09:49:59.232Z"
   },
   {
    "duration": 15,
    "start_time": "2022-03-09T09:50:02.672Z"
   },
   {
    "duration": 5,
    "start_time": "2022-03-09T09:50:07.725Z"
   },
   {
    "duration": 5,
    "start_time": "2022-03-09T09:50:09.009Z"
   },
   {
    "duration": 8,
    "start_time": "2022-03-09T09:50:09.761Z"
   },
   {
    "duration": 4,
    "start_time": "2022-03-09T09:50:14.193Z"
   },
   {
    "duration": 4,
    "start_time": "2022-03-09T09:50:14.983Z"
   },
   {
    "duration": 6,
    "start_time": "2022-03-09T09:50:15.642Z"
   },
   {
    "duration": 9,
    "start_time": "2022-03-09T09:50:20.372Z"
   },
   {
    "duration": 8,
    "start_time": "2022-03-09T09:50:21.282Z"
   },
   {
    "duration": 6,
    "start_time": "2022-03-09T09:50:24.303Z"
   },
   {
    "duration": 5,
    "start_time": "2022-03-09T09:50:25.436Z"
   },
   {
    "duration": 5,
    "start_time": "2022-03-09T09:50:28.477Z"
   },
   {
    "duration": 11,
    "start_time": "2022-03-09T09:50:29.865Z"
   },
   {
    "duration": 22,
    "start_time": "2022-03-09T09:50:33.960Z"
   },
   {
    "duration": 7,
    "start_time": "2022-03-09T09:50:34.754Z"
   },
   {
    "duration": 15,
    "start_time": "2022-03-09T09:50:37.709Z"
   },
   {
    "duration": 6,
    "start_time": "2022-03-09T09:50:38.452Z"
   },
   {
    "duration": 15,
    "start_time": "2022-03-09T09:50:39.103Z"
   },
   {
    "duration": 18,
    "start_time": "2022-03-09T09:50:42.920Z"
   },
   {
    "duration": 6,
    "start_time": "2022-03-09T09:50:43.777Z"
   },
   {
    "duration": 8,
    "start_time": "2022-03-09T09:50:44.444Z"
   },
   {
    "duration": 19,
    "start_time": "2022-03-09T09:50:47.404Z"
   },
   {
    "duration": 3,
    "start_time": "2022-03-09T09:50:50.415Z"
   },
   {
    "duration": 10,
    "start_time": "2022-03-09T09:50:51.166Z"
   },
   {
    "duration": 15,
    "start_time": "2022-03-09T09:50:54.005Z"
   },
   {
    "duration": 11,
    "start_time": "2022-03-09T09:50:54.709Z"
   },
   {
    "duration": 26,
    "start_time": "2022-03-09T09:50:55.927Z"
   },
   {
    "duration": 455,
    "start_time": "2022-03-09T09:51:00.040Z"
   },
   {
    "duration": 79,
    "start_time": "2022-03-09T09:51:50.112Z"
   },
   {
    "duration": 91,
    "start_time": "2022-03-09T09:52:00.652Z"
   },
   {
    "duration": 56,
    "start_time": "2022-03-09T09:52:09.358Z"
   },
   {
    "duration": 7,
    "start_time": "2022-03-09T09:52:30.277Z"
   },
   {
    "duration": 13,
    "start_time": "2022-03-09T09:52:42.224Z"
   },
   {
    "duration": 13,
    "start_time": "2022-03-09T09:59:24.322Z"
   },
   {
    "duration": 20,
    "start_time": "2022-03-09T10:07:11.809Z"
   },
   {
    "duration": 19,
    "start_time": "2022-03-09T10:21:42.268Z"
   },
   {
    "duration": 8,
    "start_time": "2022-03-09T10:21:54.299Z"
   },
   {
    "duration": 62,
    "start_time": "2022-03-09T10:22:05.348Z"
   },
   {
    "duration": 23,
    "start_time": "2022-03-09T10:22:05.412Z"
   },
   {
    "duration": 30,
    "start_time": "2022-03-09T10:22:05.437Z"
   },
   {
    "duration": 15,
    "start_time": "2022-03-09T10:22:05.469Z"
   },
   {
    "duration": 10,
    "start_time": "2022-03-09T10:22:05.486Z"
   },
   {
    "duration": 6,
    "start_time": "2022-03-09T10:22:05.498Z"
   },
   {
    "duration": 14,
    "start_time": "2022-03-09T10:22:05.506Z"
   },
   {
    "duration": 7,
    "start_time": "2022-03-09T10:22:05.522Z"
   },
   {
    "duration": 29,
    "start_time": "2022-03-09T10:22:05.532Z"
   },
   {
    "duration": 7,
    "start_time": "2022-03-09T10:22:05.563Z"
   },
   {
    "duration": 8,
    "start_time": "2022-03-09T10:22:05.572Z"
   },
   {
    "duration": 6,
    "start_time": "2022-03-09T10:22:05.581Z"
   },
   {
    "duration": 10,
    "start_time": "2022-03-09T10:22:05.588Z"
   },
   {
    "duration": 7,
    "start_time": "2022-03-09T10:22:05.599Z"
   },
   {
    "duration": 5,
    "start_time": "2022-03-09T10:22:05.608Z"
   },
   {
    "duration": 46,
    "start_time": "2022-03-09T10:22:05.615Z"
   },
   {
    "duration": 17,
    "start_time": "2022-03-09T10:22:05.663Z"
   },
   {
    "duration": 11,
    "start_time": "2022-03-09T10:22:05.683Z"
   },
   {
    "duration": 22,
    "start_time": "2022-03-09T10:22:05.696Z"
   },
   {
    "duration": 8,
    "start_time": "2022-03-09T10:22:05.720Z"
   },
   {
    "duration": 36,
    "start_time": "2022-03-09T10:22:05.730Z"
   },
   {
    "duration": 17,
    "start_time": "2022-03-09T10:22:05.769Z"
   },
   {
    "duration": 9,
    "start_time": "2022-03-09T10:22:05.788Z"
   },
   {
    "duration": 9,
    "start_time": "2022-03-09T10:22:05.799Z"
   },
   {
    "duration": 18,
    "start_time": "2022-03-09T10:22:05.810Z"
   },
   {
    "duration": 5,
    "start_time": "2022-03-09T10:22:05.859Z"
   },
   {
    "duration": 11,
    "start_time": "2022-03-09T10:22:05.867Z"
   },
   {
    "duration": 15,
    "start_time": "2022-03-09T10:22:05.880Z"
   },
   {
    "duration": 11,
    "start_time": "2022-03-09T10:22:05.897Z"
   },
   {
    "duration": 50,
    "start_time": "2022-03-09T10:22:05.910Z"
   },
   {
    "duration": 5,
    "start_time": "2022-03-09T10:22:05.962Z"
   },
   {
    "duration": 16,
    "start_time": "2022-03-09T10:22:05.969Z"
   },
   {
    "duration": 20,
    "start_time": "2022-03-09T10:22:05.987Z"
   },
   {
    "duration": 68,
    "start_time": "2022-03-09T10:22:06.009Z"
   },
   {
    "duration": 62,
    "start_time": "2022-03-09T10:23:24.999Z"
   },
   {
    "duration": 18,
    "start_time": "2022-03-09T10:23:25.063Z"
   },
   {
    "duration": 22,
    "start_time": "2022-03-09T10:23:25.084Z"
   },
   {
    "duration": 13,
    "start_time": "2022-03-09T10:23:25.108Z"
   },
   {
    "duration": 6,
    "start_time": "2022-03-09T10:23:25.122Z"
   },
   {
    "duration": 35,
    "start_time": "2022-03-09T10:23:25.129Z"
   },
   {
    "duration": 7,
    "start_time": "2022-03-09T10:23:25.166Z"
   },
   {
    "duration": 4,
    "start_time": "2022-03-09T10:23:25.175Z"
   },
   {
    "duration": 4,
    "start_time": "2022-03-09T10:23:25.181Z"
   },
   {
    "duration": 7,
    "start_time": "2022-03-09T10:23:25.186Z"
   },
   {
    "duration": 8,
    "start_time": "2022-03-09T10:23:25.194Z"
   },
   {
    "duration": 6,
    "start_time": "2022-03-09T10:23:25.203Z"
   },
   {
    "duration": 51,
    "start_time": "2022-03-09T10:23:25.211Z"
   },
   {
    "duration": 5,
    "start_time": "2022-03-09T10:23:25.264Z"
   },
   {
    "duration": 5,
    "start_time": "2022-03-09T10:23:25.271Z"
   },
   {
    "duration": 7,
    "start_time": "2022-03-09T10:23:25.278Z"
   },
   {
    "duration": 16,
    "start_time": "2022-03-09T10:23:25.286Z"
   },
   {
    "duration": 5,
    "start_time": "2022-03-09T10:23:25.303Z"
   },
   {
    "duration": 53,
    "start_time": "2022-03-09T10:23:25.310Z"
   },
   {
    "duration": 7,
    "start_time": "2022-03-09T10:23:25.365Z"
   },
   {
    "duration": 14,
    "start_time": "2022-03-09T10:23:25.373Z"
   },
   {
    "duration": 18,
    "start_time": "2022-03-09T10:23:25.389Z"
   },
   {
    "duration": 6,
    "start_time": "2022-03-09T10:23:25.411Z"
   },
   {
    "duration": 46,
    "start_time": "2022-03-09T10:23:25.420Z"
   },
   {
    "duration": 20,
    "start_time": "2022-03-09T10:23:25.468Z"
   },
   {
    "duration": 4,
    "start_time": "2022-03-09T10:23:25.490Z"
   },
   {
    "duration": 8,
    "start_time": "2022-03-09T10:23:25.496Z"
   },
   {
    "duration": 15,
    "start_time": "2022-03-09T10:23:25.505Z"
   },
   {
    "duration": 18,
    "start_time": "2022-03-09T10:23:25.560Z"
   },
   {
    "duration": 35,
    "start_time": "2022-03-09T10:23:25.580Z"
   },
   {
    "duration": 7,
    "start_time": "2022-03-09T10:23:25.617Z"
   },
   {
    "duration": 34,
    "start_time": "2022-03-09T10:23:25.625Z"
   },
   {
    "duration": 21,
    "start_time": "2022-03-09T10:23:25.661Z"
   },
   {
    "duration": 68,
    "start_time": "2022-03-09T10:23:25.683Z"
   },
   {
    "duration": 6,
    "start_time": "2022-03-09T10:32:25.329Z"
   },
   {
    "duration": 4,
    "start_time": "2022-03-09T10:32:40.991Z"
   },
   {
    "duration": 8,
    "start_time": "2022-03-09T10:32:44.134Z"
   },
   {
    "duration": 17,
    "start_time": "2022-03-09T10:33:42.435Z"
   },
   {
    "duration": 9,
    "start_time": "2022-03-09T10:42:08.510Z"
   },
   {
    "duration": 21,
    "start_time": "2022-03-09T10:42:21.648Z"
   },
   {
    "duration": 20,
    "start_time": "2022-03-09T10:42:52.760Z"
   },
   {
    "duration": 180,
    "start_time": "2022-03-09T10:51:55.698Z"
   },
   {
    "duration": 309,
    "start_time": "2022-03-09T10:52:09.326Z"
   },
   {
    "duration": 182,
    "start_time": "2022-03-09T10:52:21.239Z"
   },
   {
    "duration": 200,
    "start_time": "2022-03-09T10:53:43.740Z"
   },
   {
    "duration": 194,
    "start_time": "2022-03-09T10:53:56.514Z"
   },
   {
    "duration": 209,
    "start_time": "2022-03-09T10:54:01.442Z"
   },
   {
    "duration": 6,
    "start_time": "2022-03-09T10:55:48.916Z"
   },
   {
    "duration": 11,
    "start_time": "2022-03-09T10:56:05.844Z"
   },
   {
    "duration": 4700,
    "start_time": "2022-03-09T10:56:58.188Z"
   },
   {
    "duration": 10,
    "start_time": "2022-03-09T10:57:03.845Z"
   },
   {
    "duration": 12,
    "start_time": "2022-03-09T11:06:49.045Z"
   },
   {
    "duration": 60,
    "start_time": "2022-03-09T11:10:19.943Z"
   },
   {
    "duration": 66,
    "start_time": "2022-03-09T11:10:21.900Z"
   },
   {
    "duration": 12,
    "start_time": "2022-03-09T11:12:19.579Z"
   },
   {
    "duration": 16,
    "start_time": "2022-03-09T11:22:45.433Z"
   },
   {
    "duration": 14,
    "start_time": "2022-03-09T11:24:19.655Z"
   },
   {
    "duration": 11,
    "start_time": "2022-03-09T11:40:49.958Z"
   },
   {
    "duration": 58,
    "start_time": "2022-03-09T11:51:37.803Z"
   },
   {
    "duration": 20,
    "start_time": "2022-03-09T11:51:37.863Z"
   },
   {
    "duration": 20,
    "start_time": "2022-03-09T11:51:37.885Z"
   },
   {
    "duration": 13,
    "start_time": "2022-03-09T11:51:37.907Z"
   },
   {
    "duration": 10,
    "start_time": "2022-03-09T11:51:37.921Z"
   },
   {
    "duration": 6,
    "start_time": "2022-03-09T11:51:37.959Z"
   },
   {
    "duration": 6,
    "start_time": "2022-03-09T11:51:37.966Z"
   },
   {
    "duration": 4,
    "start_time": "2022-03-09T11:51:37.974Z"
   },
   {
    "duration": 9,
    "start_time": "2022-03-09T11:51:37.980Z"
   },
   {
    "duration": 8,
    "start_time": "2022-03-09T11:51:37.990Z"
   },
   {
    "duration": 6,
    "start_time": "2022-03-09T11:51:37.999Z"
   },
   {
    "duration": 5,
    "start_time": "2022-03-09T11:51:38.007Z"
   },
   {
    "duration": 5,
    "start_time": "2022-03-09T11:51:38.013Z"
   },
   {
    "duration": 41,
    "start_time": "2022-03-09T11:51:38.019Z"
   },
   {
    "duration": 15,
    "start_time": "2022-03-09T11:51:38.062Z"
   },
   {
    "duration": 5,
    "start_time": "2022-03-09T11:51:38.079Z"
   },
   {
    "duration": 15,
    "start_time": "2022-03-09T11:51:38.085Z"
   },
   {
    "duration": 5,
    "start_time": "2022-03-09T11:51:38.101Z"
   },
   {
    "duration": 18,
    "start_time": "2022-03-09T11:51:38.107Z"
   },
   {
    "duration": 46,
    "start_time": "2022-03-09T11:51:38.126Z"
   },
   {
    "duration": 5,
    "start_time": "2022-03-09T11:51:38.173Z"
   },
   {
    "duration": 7,
    "start_time": "2022-03-09T11:51:38.180Z"
   },
   {
    "duration": 16,
    "start_time": "2022-03-09T11:51:38.190Z"
   },
   {
    "duration": 3,
    "start_time": "2022-03-09T11:51:38.208Z"
   },
   {
    "duration": 9,
    "start_time": "2022-03-09T11:51:38.212Z"
   },
   {
    "duration": 47,
    "start_time": "2022-03-09T11:51:38.222Z"
   },
   {
    "duration": 11,
    "start_time": "2022-03-09T11:51:38.270Z"
   },
   {
    "duration": 26,
    "start_time": "2022-03-09T11:51:38.282Z"
   },
   {
    "duration": 6,
    "start_time": "2022-03-09T11:51:38.309Z"
   },
   {
    "duration": 12,
    "start_time": "2022-03-09T11:51:38.316Z"
   },
   {
    "duration": 46,
    "start_time": "2022-03-09T11:51:38.329Z"
   },
   {
    "duration": 21,
    "start_time": "2022-03-09T11:51:38.377Z"
   },
   {
    "duration": 13,
    "start_time": "2022-03-09T11:51:38.400Z"
   },
   {
    "duration": 45,
    "start_time": "2022-03-09T11:51:38.415Z"
   },
   {
    "duration": 10,
    "start_time": "2022-03-09T11:51:38.461Z"
   },
   {
    "duration": 9,
    "start_time": "2022-03-09T11:51:38.473Z"
   },
   {
    "duration": 341,
    "start_time": "2022-03-17T14:09:10.288Z"
   },
   {
    "duration": 764,
    "start_time": "2022-03-17T14:09:19.358Z"
   },
   {
    "duration": 21,
    "start_time": "2022-03-17T14:09:20.124Z"
   },
   {
    "duration": 32,
    "start_time": "2022-03-17T14:09:20.147Z"
   },
   {
    "duration": 13,
    "start_time": "2022-03-17T14:09:20.182Z"
   },
   {
    "duration": 6,
    "start_time": "2022-03-17T14:09:20.197Z"
   },
   {
    "duration": 6,
    "start_time": "2022-03-17T14:09:20.204Z"
   },
   {
    "duration": 7,
    "start_time": "2022-03-17T14:09:20.212Z"
   },
   {
    "duration": 45,
    "start_time": "2022-03-17T14:09:20.222Z"
   },
   {
    "duration": 4,
    "start_time": "2022-03-17T14:09:20.269Z"
   },
   {
    "duration": 15,
    "start_time": "2022-03-17T14:09:20.275Z"
   },
   {
    "duration": 6,
    "start_time": "2022-03-17T14:09:20.292Z"
   },
   {
    "duration": 7,
    "start_time": "2022-03-17T14:09:20.300Z"
   },
   {
    "duration": 9,
    "start_time": "2022-03-17T14:09:20.308Z"
   },
   {
    "duration": 13,
    "start_time": "2022-03-17T14:09:20.319Z"
   },
   {
    "duration": 44,
    "start_time": "2022-03-17T14:09:20.334Z"
   },
   {
    "duration": 18,
    "start_time": "2022-03-17T14:09:20.380Z"
   },
   {
    "duration": 19,
    "start_time": "2022-03-17T14:09:20.400Z"
   },
   {
    "duration": 9,
    "start_time": "2022-03-17T14:09:20.421Z"
   },
   {
    "duration": 36,
    "start_time": "2022-03-17T14:09:20.431Z"
   },
   {
    "duration": 24,
    "start_time": "2022-03-17T14:09:20.469Z"
   },
   {
    "duration": 9,
    "start_time": "2022-03-17T14:09:20.495Z"
   },
   {
    "duration": 10,
    "start_time": "2022-03-17T14:09:20.506Z"
   },
   {
    "duration": 47,
    "start_time": "2022-03-17T14:09:20.520Z"
   },
   {
    "duration": 4,
    "start_time": "2022-03-17T14:09:20.569Z"
   },
   {
    "duration": 11,
    "start_time": "2022-03-17T14:09:20.576Z"
   },
   {
    "duration": 20,
    "start_time": "2022-03-17T14:09:20.589Z"
   },
   {
    "duration": 16,
    "start_time": "2022-03-17T14:09:20.611Z"
   },
   {
    "duration": 64,
    "start_time": "2022-03-17T14:09:20.629Z"
   },
   {
    "duration": 24,
    "start_time": "2022-03-17T14:09:20.695Z"
   },
   {
    "duration": 7,
    "start_time": "2022-03-17T14:09:20.721Z"
   },
   {
    "duration": 34,
    "start_time": "2022-03-17T14:09:20.730Z"
   },
   {
    "duration": 23,
    "start_time": "2022-03-17T14:09:20.766Z"
   },
   {
    "duration": 22,
    "start_time": "2022-03-17T14:09:20.791Z"
   },
   {
    "duration": 21,
    "start_time": "2022-03-17T14:09:20.815Z"
   },
   {
    "duration": 17,
    "start_time": "2022-03-17T14:09:20.863Z"
   },
   {
    "duration": 14,
    "start_time": "2022-03-17T14:09:20.882Z"
   },
   {
    "duration": 15,
    "start_time": "2022-03-17T14:09:20.897Z"
   },
   {
    "duration": 712,
    "start_time": "2022-03-17T14:11:48.427Z"
   },
   {
    "duration": 30,
    "start_time": "2022-03-17T14:11:49.141Z"
   },
   {
    "duration": 19,
    "start_time": "2022-03-17T14:11:49.173Z"
   },
   {
    "duration": 14,
    "start_time": "2022-03-17T14:11:49.194Z"
   },
   {
    "duration": 7,
    "start_time": "2022-03-17T14:11:49.210Z"
   },
   {
    "duration": 6,
    "start_time": "2022-03-17T14:11:49.219Z"
   },
   {
    "duration": 38,
    "start_time": "2022-03-17T14:11:49.226Z"
   },
   {
    "duration": 4,
    "start_time": "2022-03-17T14:11:49.267Z"
   },
   {
    "duration": 4,
    "start_time": "2022-03-17T14:11:49.274Z"
   },
   {
    "duration": 8,
    "start_time": "2022-03-17T14:11:49.280Z"
   },
   {
    "duration": 7,
    "start_time": "2022-03-17T14:11:49.290Z"
   },
   {
    "duration": 5,
    "start_time": "2022-03-17T14:11:49.299Z"
   },
   {
    "duration": 5,
    "start_time": "2022-03-17T14:11:49.306Z"
   },
   {
    "duration": 10,
    "start_time": "2022-03-17T14:11:49.313Z"
   },
   {
    "duration": 16,
    "start_time": "2022-03-17T14:11:49.363Z"
   },
   {
    "duration": 5,
    "start_time": "2022-03-17T14:11:49.381Z"
   },
   {
    "duration": 16,
    "start_time": "2022-03-17T14:11:49.388Z"
   },
   {
    "duration": 9,
    "start_time": "2022-03-17T14:11:49.405Z"
   },
   {
    "duration": 14,
    "start_time": "2022-03-17T14:11:49.416Z"
   },
   {
    "duration": 38,
    "start_time": "2022-03-17T14:11:49.432Z"
   },
   {
    "duration": 5,
    "start_time": "2022-03-17T14:11:49.472Z"
   },
   {
    "duration": 11,
    "start_time": "2022-03-17T14:11:49.479Z"
   },
   {
    "duration": 17,
    "start_time": "2022-03-17T14:11:49.493Z"
   },
   {
    "duration": 4,
    "start_time": "2022-03-17T14:11:49.512Z"
   },
   {
    "duration": 10,
    "start_time": "2022-03-17T14:11:49.517Z"
   },
   {
    "duration": 40,
    "start_time": "2022-03-17T14:11:49.528Z"
   },
   {
    "duration": 14,
    "start_time": "2022-03-17T14:11:49.569Z"
   },
   {
    "duration": 28,
    "start_time": "2022-03-17T14:11:49.584Z"
   },
   {
    "duration": 19,
    "start_time": "2022-03-17T14:11:49.614Z"
   },
   {
    "duration": 32,
    "start_time": "2022-03-17T14:11:49.635Z"
   },
   {
    "duration": 15,
    "start_time": "2022-03-17T14:11:49.669Z"
   },
   {
    "duration": 20,
    "start_time": "2022-03-17T14:11:49.686Z"
   },
   {
    "duration": 46,
    "start_time": "2022-03-17T14:11:49.708Z"
   },
   {
    "duration": 31,
    "start_time": "2022-03-17T14:11:49.756Z"
   },
   {
    "duration": 18,
    "start_time": "2022-03-17T14:11:49.789Z"
   },
   {
    "duration": 13,
    "start_time": "2022-03-17T14:11:49.809Z"
   },
   {
    "duration": 21,
    "start_time": "2022-03-17T14:11:49.824Z"
   },
   {
    "duration": 767,
    "start_time": "2022-03-26T11:07:47.344Z"
   },
   {
    "duration": 36,
    "start_time": "2022-03-26T11:07:48.114Z"
   },
   {
    "duration": 56,
    "start_time": "2022-03-26T11:07:48.152Z"
   },
   {
    "duration": 33,
    "start_time": "2022-03-26T11:07:48.213Z"
   },
   {
    "duration": 37,
    "start_time": "2022-03-26T11:07:48.249Z"
   },
   {
    "duration": 10,
    "start_time": "2022-03-26T11:07:48.288Z"
   },
   {
    "duration": 33,
    "start_time": "2022-03-26T11:07:48.300Z"
   },
   {
    "duration": 10,
    "start_time": "2022-03-26T11:07:48.336Z"
   },
   {
    "duration": 17,
    "start_time": "2022-03-26T11:07:48.348Z"
   },
   {
    "duration": 14,
    "start_time": "2022-03-26T11:07:48.371Z"
   },
   {
    "duration": 13,
    "start_time": "2022-03-26T11:07:48.388Z"
   },
   {
    "duration": 10,
    "start_time": "2022-03-26T11:07:48.404Z"
   },
   {
    "duration": 17,
    "start_time": "2022-03-26T11:07:48.416Z"
   },
   {
    "duration": 20,
    "start_time": "2022-03-26T11:07:48.435Z"
   },
   {
    "duration": 44,
    "start_time": "2022-03-26T11:07:48.457Z"
   },
   {
    "duration": 9,
    "start_time": "2022-03-26T11:07:48.504Z"
   },
   {
    "duration": 25,
    "start_time": "2022-03-26T11:07:48.515Z"
   },
   {
    "duration": 48,
    "start_time": "2022-03-26T11:07:48.543Z"
   },
   {
    "duration": 22,
    "start_time": "2022-03-26T11:07:48.593Z"
   },
   {
    "duration": 37,
    "start_time": "2022-03-26T11:07:48.618Z"
   },
   {
    "duration": 8,
    "start_time": "2022-03-26T11:07:48.684Z"
   },
   {
    "duration": 16,
    "start_time": "2022-03-26T11:07:48.694Z"
   },
   {
    "duration": 13,
    "start_time": "2022-03-26T11:07:48.713Z"
   },
   {
    "duration": 61,
    "start_time": "2022-03-26T11:07:48.728Z"
   },
   {
    "duration": 5,
    "start_time": "2022-03-26T11:07:48.792Z"
   },
   {
    "duration": 19,
    "start_time": "2022-03-26T11:07:48.800Z"
   },
   {
    "duration": 38,
    "start_time": "2022-03-26T11:07:48.822Z"
   },
   {
    "duration": 32,
    "start_time": "2022-03-26T11:07:48.888Z"
   },
   {
    "duration": 26,
    "start_time": "2022-03-26T11:07:48.923Z"
   },
   {
    "duration": 71,
    "start_time": "2022-03-26T11:07:48.952Z"
   },
   {
    "duration": 34,
    "start_time": "2022-03-26T11:07:49.026Z"
   },
   {
    "duration": 55,
    "start_time": "2022-03-26T11:07:49.063Z"
   },
   {
    "duration": 30,
    "start_time": "2022-03-26T11:07:49.120Z"
   },
   {
    "duration": 44,
    "start_time": "2022-03-26T11:07:49.153Z"
   },
   {
    "duration": 19,
    "start_time": "2022-03-26T11:07:49.200Z"
   },
   {
    "duration": 20,
    "start_time": "2022-03-26T11:07:49.222Z"
   },
   {
    "duration": 58,
    "start_time": "2022-03-26T11:07:49.245Z"
   },
   {
    "duration": 40,
    "start_time": "2022-03-26T11:07:49.306Z"
   },
   {
    "duration": 56,
    "start_time": "2022-03-26T11:07:49.349Z"
   },
   {
    "duration": 44,
    "start_time": "2022-03-26T11:07:49.408Z"
   },
   {
    "duration": 76,
    "start_time": "2022-03-26T11:07:49.454Z"
   },
   {
    "duration": 75,
    "start_time": "2022-03-26T11:07:49.533Z"
   },
   {
    "duration": 54,
    "start_time": "2022-03-26T11:07:49.611Z"
   },
   {
    "duration": 657,
    "start_time": "2022-03-26T11:10:13.113Z"
   },
   {
    "duration": 38,
    "start_time": "2022-03-26T11:10:13.773Z"
   },
   {
    "duration": 32,
    "start_time": "2022-03-26T11:10:13.814Z"
   },
   {
    "duration": 56,
    "start_time": "2022-03-26T11:10:13.851Z"
   },
   {
    "duration": 7,
    "start_time": "2022-03-26T11:10:13.909Z"
   },
   {
    "duration": 9,
    "start_time": "2022-03-26T11:10:13.918Z"
   },
   {
    "duration": 26,
    "start_time": "2022-03-26T11:10:13.929Z"
   },
   {
    "duration": 33,
    "start_time": "2022-03-26T11:10:13.957Z"
   },
   {
    "duration": 18,
    "start_time": "2022-03-26T11:10:13.992Z"
   },
   {
    "duration": 13,
    "start_time": "2022-03-26T11:10:14.014Z"
   },
   {
    "duration": 9,
    "start_time": "2022-03-26T11:10:14.029Z"
   },
   {
    "duration": 10,
    "start_time": "2022-03-26T11:10:14.040Z"
   },
   {
    "duration": 33,
    "start_time": "2022-03-26T11:10:14.052Z"
   },
   {
    "duration": 9,
    "start_time": "2022-03-26T11:10:14.087Z"
   },
   {
    "duration": 20,
    "start_time": "2022-03-26T11:10:14.098Z"
   },
   {
    "duration": 8,
    "start_time": "2022-03-26T11:10:14.120Z"
   },
   {
    "duration": 54,
    "start_time": "2022-03-26T11:10:14.131Z"
   },
   {
    "duration": 10,
    "start_time": "2022-03-26T11:10:14.187Z"
   },
   {
    "duration": 21,
    "start_time": "2022-03-26T11:10:14.199Z"
   },
   {
    "duration": 23,
    "start_time": "2022-03-26T11:10:14.222Z"
   },
   {
    "duration": 40,
    "start_time": "2022-03-26T11:10:14.247Z"
   },
   {
    "duration": 10,
    "start_time": "2022-03-26T11:10:14.289Z"
   },
   {
    "duration": 11,
    "start_time": "2022-03-26T11:10:14.301Z"
   },
   {
    "duration": 24,
    "start_time": "2022-03-26T11:10:14.315Z"
   },
   {
    "duration": 44,
    "start_time": "2022-03-26T11:10:14.341Z"
   },
   {
    "duration": 14,
    "start_time": "2022-03-26T11:10:14.387Z"
   },
   {
    "duration": 22,
    "start_time": "2022-03-26T11:10:14.404Z"
   },
   {
    "duration": 52,
    "start_time": "2022-03-26T11:10:14.431Z"
   },
   {
    "duration": 16,
    "start_time": "2022-03-26T11:10:14.486Z"
   },
   {
    "duration": 51,
    "start_time": "2022-03-26T11:10:14.505Z"
   },
   {
    "duration": 39,
    "start_time": "2022-03-26T11:10:14.560Z"
   },
   {
    "duration": 35,
    "start_time": "2022-03-26T11:10:14.602Z"
   },
   {
    "duration": 49,
    "start_time": "2022-03-26T11:10:14.639Z"
   },
   {
    "duration": 20,
    "start_time": "2022-03-26T11:10:14.690Z"
   },
   {
    "duration": 34,
    "start_time": "2022-03-26T11:10:14.713Z"
   },
   {
    "duration": 41,
    "start_time": "2022-03-26T11:10:14.749Z"
   },
   {
    "duration": 26,
    "start_time": "2022-03-26T11:10:14.792Z"
   },
   {
    "duration": 33,
    "start_time": "2022-03-26T11:10:14.820Z"
   },
   {
    "duration": 66,
    "start_time": "2022-03-26T11:10:14.855Z"
   },
   {
    "duration": 73,
    "start_time": "2022-03-26T11:10:14.923Z"
   },
   {
    "duration": 54,
    "start_time": "2022-03-26T11:10:14.998Z"
   },
   {
    "duration": 65,
    "start_time": "2022-03-26T11:10:15.054Z"
   },
   {
    "duration": 64,
    "start_time": "2022-03-26T11:10:15.121Z"
   }
  ],
  "kernelspec": {
   "display_name": "Python 3 (ipykernel)",
   "language": "python",
   "name": "python3"
  },
  "language_info": {
   "codemirror_mode": {
    "name": "ipython",
    "version": 3
   },
   "file_extension": ".py",
   "mimetype": "text/x-python",
   "name": "python",
   "nbconvert_exporter": "python",
   "pygments_lexer": "ipython3",
   "version": "3.9.12"
  },
  "toc": {
   "base_numbering": 1,
   "nav_menu": {},
   "number_sections": true,
   "sideBar": true,
   "skip_h1_title": true,
   "title_cell": "Table of Contents",
   "title_sidebar": "Contents",
   "toc_cell": false,
   "toc_position": {},
   "toc_section_display": true,
   "toc_window_display": false
  },
  "vscode": {
   "interpreter": {
    "hash": "555a5e9622df4d64c8df3117a8c825618f6542198b7b66e3ec2fa7f831564c12"
   }
  }
 },
 "nbformat": 4,
 "nbformat_minor": 5
}
